{
 "cells": [
  {
   "cell_type": "markdown",
   "metadata": {},
   "source": [
    "# 1. Data Wrangling and EDA for Capstone Three<a id='1_Data_wrangling_eda'></a>"
   ]
  },
  {
   "cell_type": "markdown",
   "metadata": {},
   "source": [
    "## 1.1 Contents<a id='1.1_Contents'></a>\n",
    "\n",
    "* [1. Data Wrangling and EDA](#1_Data_wrangling_eda)\n",
    "    * [1.1 Contents](#1.1_Contents)\n",
    "    * [1.2 Introduction](#1.2_Introduction)\n",
    "    * [1.3 Imports](#1.3_Imports)\n",
    "        * [1.3.1 Import packages](#1.3.1_import_packages)\n",
    "        * [1.3.2 Access Twitter API](#1.3.2_twitter_api)\n",
    "        * [1.3.3 Download JD Tweets](#1.3.3_jd_tweets)\n",
    "        * [1.3.4 Download S&P 500 Tweets](#1.3.4_sp_tweets)\n",
    "        * [1.3.5 Access Yahoo API](#1.3.5_yahoo_api)\n",
    "        * [1.3.6 Access Twitter API](#1.3.2_twitter_api)\n",
    "    * [2.1 Explore datasets](#2.1_explore_data)\n",
    "        * [2.1.1 JD Twitter Data](#2.1.1_jd_twitter)\n",
    "            * [2.1.1.1 JD Twitter Sentiment Analysis](#2.1.1.1_jd_twitter_sentiment)\n",
    "        * [2.1.2 SP500 Twitter Data](#2.1.2_sp_twitter)\n",
    "            * [2.1.2.1 SP500 Twitter Sentiment Analysis](#2.1.2.1_sp_twitter_sentiment)\n",
    "        * [2.1.3 JD Stock Price Data](#2.1.3_jd_price)\n",
    "            * [2.1.3.1 JD Time Series Feature Engineering](#2.1.3.1_jd_ts_feature_eng)\n",
    "        * [2.1.4 SP500 Stock Price Data](#2.1.4_sp_price)\n",
    "            * [2.1.4.1 SP500 Time Series Feature Engineering](#2.1.4.1_sp_ts_feature_eng)\n",
    "        \n",
    "    \n",
    "    \n",
    "        "
   ]
  },
  {
   "cell_type": "markdown",
   "metadata": {},
   "source": [
    "## 1.2 Introduction  <a id='1.2_Introduction'></a>"
   ]
  },
  {
   "cell_type": "markdown",
   "metadata": {},
   "source": [
    "The purpose of this capstone project is to develop a model to predict stock movements, either predict stock price level, or identify positive or negative movements. More specifically we'd like to identify when the market might turn.\n",
    "\n",
    "To accomplish this we will leverage twitter data to perform sentiment analysis on the SP500 index and the JD.com stock. We would then like to combine this with time series data for these two investment vehicles to see if we can make any meaningful predictions.\n",
    "\n",
    "One constraint we have is that the Twitter data does not look back so I need to download data every day. We may need to download data for at least 30 trading days before we have enough data to establish meaningful relationships with stock price. For the purposes of this capstone, we will use what data we can obtain, knowing that we will need to iterate on this model once we get more data in the future."
   ]
  },
  {
   "cell_type": "markdown",
   "metadata": {},
   "source": [
    "## 1.3 Import Data From Twitter<a id='1.3_Imports'></a>"
   ]
  },
  {
   "cell_type": "markdown",
   "metadata": {},
   "source": [
    "### 1.3.1 Import packages<a id='1.3.1_import_packages'></a>"
   ]
  },
  {
   "cell_type": "code",
   "execution_count": 1,
   "metadata": {
    "scrolled": true
   },
   "outputs": [],
   "source": [
    "#!pip install tweepy    # Installed this package on August 24 2021\n",
    "#! pip install yfinance==0.1.63 # installed new version on August 25 2021\n",
    "import re\n",
    "import tweepy, json\n",
    "import pandas as pd\n",
    "import numpy as np\n",
    "import os\n",
    "import yfinance as yf\n",
    "from glob import glob\n",
    "import matplotlib.pyplot as plt\n",
    "import seaborn as sns\n",
    "import time\n",
    "import psycopg2\n",
    "import datetime as dt\n",
    "from dateutil.parser import parse\n",
    "import datetime\n",
    "import nltk\n",
    "from nltk.sentiment.vader import SentimentIntensityAnalyzer\n",
    "#nltk.download('vader_lexicon')"
   ]
  },
  {
   "cell_type": "code",
   "execution_count": 43,
   "metadata": {},
   "outputs": [
    {
     "name": "stdout",
     "output_type": "stream",
     "text": [
      "Package                            Version            \r\n",
      "---------------------------------- -------------------\r\n",
      "aiobotocore                        1.3.3              \r\n",
      "aiohttp                            3.7.4.post0        \r\n",
      "aioitertools                       0.7.1              \r\n",
      "alabaster                          0.7.12             \r\n",
      "alembic                            1.7.1              \r\n",
      "anaconda-client                    1.7.2              \r\n",
      "anaconda-navigator                 1.9.12             \r\n",
      "anaconda-project                   0.8.3              \r\n",
      "apache-airflow                     1.10.10            \r\n",
      "apispec                            1.3.3              \r\n",
      "applaunchservices                  0.2.1              \r\n",
      "appnope                            0.1.0              \r\n",
      "appscript                          1.0.1              \r\n",
      "arch                               5.0.1              \r\n",
      "argcomplete                        1.12.3             \r\n",
      "argh                               0.26.2             \r\n",
      "asn1crypto                         1.3.0              \r\n",
      "astroid                            2.3.3              \r\n",
      "astropy                            4.0                \r\n",
      "async-timeout                      3.0.1              \r\n",
      "atomicwrites                       1.3.0              \r\n",
      "attrs                              19.3.0             \r\n",
      "autopep8                           1.4.4              \r\n",
      "Babel                              2.8.0              \r\n",
      "backcall                           0.1.0              \r\n",
      "backports.functools-lru-cache      1.6.1              \r\n",
      "backports.shutil-get-terminal-size 1.0.0              \r\n",
      "backports.tempfile                 1.0                \r\n",
      "backports.weakref                  1.0.post1          \r\n",
      "bayesian-optimization              1.2.0              \r\n",
      "beautifulsoup4                     4.8.2              \r\n",
      "bitarray                           1.2.1              \r\n",
      "bkcharts                           0.2                \r\n",
      "bleach                             3.1.0              \r\n",
      "blinker                            1.4                \r\n",
      "bokeh                              1.4.0              \r\n",
      "boto                               2.49.0             \r\n",
      "botocore                           1.20.106           \r\n",
      "Bottleneck                         1.3.2              \r\n",
      "cached-property                    1.5.2              \r\n",
      "cachetools                         4.2.2              \r\n",
      "catboost                           0.26.1             \r\n",
      "cattrs                             0.9.2              \r\n",
      "certifi                            2019.11.28         \r\n",
      "cffi                               1.14.0             \r\n",
      "chardet                            3.0.4              \r\n",
      "Click                              7.0                \r\n",
      "cloudpickle                        1.3.0              \r\n",
      "clyent                             1.2.2              \r\n",
      "colorama                           0.4.3              \r\n",
      "colorlog                           4.0.2              \r\n",
      "conda                              4.8.2              \r\n",
      "conda-build                        3.18.11            \r\n",
      "conda-package-handling             1.6.0              \r\n",
      "conda-verify                       3.4.2              \r\n",
      "configparser                       3.5.3              \r\n",
      "confuse                            1.5.0              \r\n",
      "contextlib2                        0.6.0.post1        \r\n",
      "croniter                           0.3.37             \r\n",
      "cryptography                       2.8                \r\n",
      "cycler                             0.10.0             \r\n",
      "Cython                             0.29.15            \r\n",
      "cytoolz                            0.10.1             \r\n",
      "dask                               0.19.4             \r\n",
      "decorator                          4.4.1              \r\n",
      "defusedxml                         0.6.0              \r\n",
      "diff-match-patch                   20181111           \r\n",
      "dill                               0.3.4              \r\n",
      "distributed                        1.23.3             \r\n",
      "dnspython                          2.1.0              \r\n",
      "docutils                           0.16               \r\n",
      "email-validator                    1.1.3              \r\n",
      "entrypoints                        0.3                \r\n",
      "et-xmlfile                         1.0.1              \r\n",
      "fastcache                          1.1.0              \r\n",
      "featuretools                       0.4.0              \r\n",
      "filelock                           3.0.12             \r\n",
      "flake8                             3.7.9              \r\n",
      "Flask                              1.1.1              \r\n",
      "Flask-Admin                        1.5.4              \r\n",
      "Flask-AppBuilder                   2.3.4              \r\n",
      "Flask-Babel                        1.0.0              \r\n",
      "Flask-Caching                      1.3.3              \r\n",
      "Flask-JWT-Extended                 3.25.1             \r\n",
      "Flask-Login                        0.4.1              \r\n",
      "Flask-OpenID                       1.3.0              \r\n",
      "Flask-SQLAlchemy                   2.5.1              \r\n",
      "flask-swagger                      0.2.13             \r\n",
      "Flask-WTF                          0.14.3             \r\n",
      "fsspec                             2021.7.0           \r\n",
      "funcsigs                           1.0.2              \r\n",
      "future                             0.18.2             \r\n",
      "gevent                             1.4.0              \r\n",
      "glob2                              0.7                \r\n",
      "gmpy2                              2.0.8              \r\n",
      "google-api-core                    2.0.1              \r\n",
      "google-api-python-client           1.12.8             \r\n",
      "google-auth                        1.35.0             \r\n",
      "google-auth-httplib2               0.1.0              \r\n",
      "google-auth-oauthlib               0.4.6              \r\n",
      "google-cloud-bigquery              2.26.0             \r\n",
      "google-cloud-bigquery-storage      2.8.0              \r\n",
      "google-cloud-bigtable              2.3.3              \r\n",
      "google-cloud-container             2.7.1              \r\n",
      "google-cloud-core                  2.0.0              \r\n",
      "google-cloud-dlp                   3.2.2              \r\n",
      "google-cloud-language              2.2.2              \r\n",
      "google-cloud-secret-manager        2.7.1              \r\n",
      "google-cloud-spanner               3.9.0              \r\n",
      "google-cloud-speech                2.8.0              \r\n",
      "google-cloud-storage               1.42.1             \r\n",
      "google-cloud-texttospeech          2.5.2              \r\n",
      "google-cloud-translate             3.4.0              \r\n",
      "google-cloud-videointelligence     2.3.2              \r\n",
      "google-cloud-vision                2.4.2              \r\n",
      "google-crc32c                      1.1.2              \r\n",
      "google-resumable-media             2.0.2              \r\n",
      "googleapis-common-protos           1.53.0             \r\n",
      "graphviz                           0.17               \r\n",
      "greenlet                           1.1.1              \r\n",
      "grpc-google-iam-v1                 0.12.3             \r\n",
      "grpcio                             1.40.0             \r\n",
      "grpcio-gcp                         0.2.2              \r\n",
      "gunicorn                           19.10.0            \r\n",
      "h5py                               2.10.0             \r\n",
      "HeapDict                           1.0.1              \r\n",
      "html5lib                           1.0.1              \r\n",
      "htmlmin                            0.1.12             \r\n",
      "httplib2                           0.19.1             \r\n",
      "hypothesis                         5.5.4              \r\n",
      "idna                               2.8                \r\n",
      "ImageHash                          4.2.0              \r\n",
      "imageio                            2.6.1              \r\n",
      "imagesize                          1.2.0              \r\n",
      "importlib-metadata                 4.8.1              \r\n",
      "importlib-resources                5.2.2              \r\n",
      "intervaltree                       3.0.2              \r\n",
      "ipykernel                          5.1.4              \r\n",
      "ipython                            7.12.0             \r\n",
      "ipython-genutils                   0.2.0              \r\n",
      "ipywidgets                         7.5.1              \r\n",
      "iso8601                            0.1.16             \r\n",
      "isort                              4.3.21             \r\n",
      "itsdangerous                       1.1.0              \r\n",
      "jdcal                              1.4.1              \r\n",
      "jedi                               0.14.1             \r\n",
      "Jinja2                             2.10.3             \r\n",
      "jmespath                           0.10.0             \r\n",
      "joblib                             0.14.1             \r\n",
      "json-merge-patch                   0.2                \r\n",
      "json5                              0.9.1              \r\n",
      "jsonschema                         3.2.0              \r\n",
      "jupyter                            1.0.0              \r\n",
      "jupyter-client                     5.3.4              \r\n",
      "jupyter-console                    6.1.0              \r\n",
      "jupyter-core                       4.6.1              \r\n",
      "jupyterlab                         1.2.6              \r\n",
      "jupyterlab-server                  1.0.6              \r\n",
      "keyring                            21.1.0             \r\n",
      "kiwisolver                         1.1.0              \r\n",
      "lazy-object-proxy                  1.4.3              \r\n",
      "libarchive-c                       2.8                \r\n",
      "libcst                             0.3.20             \r\n",
      "lief                               0.9.0              \r\n",
      "lightgbm                           3.2.1              \r\n",
      "llvmlite                           0.31.0             \r\n",
      "locket                             0.2.0              \r\n",
      "lockfile                           0.12.2             \r\n",
      "lxml                               4.6.3              \r\n",
      "Mako                               1.1.5              \r\n",
      "Markdown                           2.6.11             \r\n",
      "MarkupSafe                         1.1.1              \r\n",
      "marshmallow                        3.13.0             \r\n",
      "marshmallow-enum                   1.5.1              \r\n",
      "marshmallow-sqlalchemy             0.26.1             \r\n",
      "matplotlib                         3.4.2              \r\n",
      "mccabe                             0.6.1              \r\n",
      "missingno                          0.5.0              \r\n",
      "mistune                            0.8.4              \r\n",
      "mkl-fft                            1.0.15             \r\n",
      "mkl-random                         1.1.0              \r\n",
      "mkl-service                        2.3.0              \r\n",
      "mock                               4.0.1              \r\n",
      "more-itertools                     8.2.0              \r\n",
      "mpmath                             1.1.0              \r\n",
      "msgpack                            0.6.1              \r\n",
      "multidict                          5.1.0              \r\n",
      "multimethod                        1.4                \r\n",
      "multipledispatch                   0.6.0              \r\n",
      "multitasking                       0.0.9              \r\n",
      "mxnet                              1.7.0.post1        \r\n",
      "mypy-extensions                    0.4.3              \r\n",
      "natsort                            7.1.1              \r\n",
      "navigator-updater                  0.2.1              \r\n",
      "nbconvert                          5.6.1              \r\n",
      "nbformat                           5.0.4              \r\n",
      "networkx                           2.4                \r\n",
      "nltk                               3.4.5              \r\n",
      "nose                               1.3.7              \r\n",
      "notebook                           6.0.3              \r\n",
      "numba                              0.48.0             \r\n",
      "numexpr                            2.7.1              \r\n",
      "numpy                              1.18.1             \r\n",
      "numpydoc                           0.9.2              \r\n",
      "oauthlib                           3.1.1              \r\n",
      "olefile                            0.46               \r\n",
      "openpyxl                           3.0.3              \r\n",
      "packaging                          20.1               \r\n",
      "pandas                             0.25.3             \r\n",
      "pandas-gbq                         0.15.0             \r\n",
      "pandas-profiling                   3.0.0              \r\n",
      "pandocfilters                      1.4.2              \r\n",
      "parso                              0.5.2              \r\n",
      "partd                              1.1.0              \r\n",
      "path                               13.1.0             \r\n",
      "pathlib2                           2.3.5              \r\n",
      "pathtools                          0.1.2              \r\n",
      "patsy                              0.5.1              \r\n",
      "pendulum                           1.4.4              \r\n",
      "pep8                               1.7.1              \r\n",
      "pexpect                            4.8.0              \r\n",
      "phik                               0.11.2             \r\n",
      "pickleshare                        0.7.5              \r\n",
      "Pillow                             7.0.0              \r\n",
      "pip                                20.0.2             \r\n",
      "pkginfo                            1.5.0.1            \r\n",
      "plotly                             5.1.0              \r\n",
      "pluggy                             0.13.1             \r\n",
      "ply                                3.11               \r\n",
      "prison                             0.2.1              \r\n",
      "prometheus-client                  0.7.1              \r\n",
      "prompt-toolkit                     3.0.3              \r\n",
      "property-cached                    1.6.4              \r\n",
      "proto-plus                         1.19.0             \r\n",
      "protobuf                           3.18.0             \r\n",
      "psutil                             5.6.7              \r\n",
      "psycopg2                           2.8.5              \r\n",
      "ptyprocess                         0.6.0              \r\n",
      "py                                 1.8.1              \r\n",
      "pyarrow                            5.0.0              \r\n",
      "pyasn1                             0.4.8              \r\n",
      "pyasn1-modules                     0.2.8              \r\n",
      "pycodestyle                        2.5.0              \r\n",
      "pycosat                            0.6.3              \r\n",
      "pycparser                          2.19               \r\n",
      "pycrypto                           2.6.1              \r\n",
      "pycurl                             7.43.0.5           \r\n",
      "pydantic                           1.8.2              \r\n",
      "pydata-google-auth                 1.2.0              \r\n",
      "pydocstyle                         4.0.1              \r\n",
      "pydotplus                          2.0.2              \r\n",
      "pyflakes                           2.1.1              \r\n",
      "Pygments                           2.5.2              \r\n",
      "PyJWT                              2.1.0              \r\n",
      "pylint                             2.4.4              \r\n",
      "pyodbc                             4.0.0-unsupported  \r\n",
      "pyOpenSSL                          19.1.0             \r\n",
      "pyparsing                          2.4.6              \r\n",
      "pypi                               2.1                \r\n",
      "pyrsistent                         0.15.7             \r\n",
      "PySocks                            1.7.1              \r\n",
      "pytest                             5.3.5              \r\n",
      "pytest-arraydiff                   0.3                \r\n",
      "pytest-astropy                     0.8.0              \r\n",
      "pytest-astropy-header              0.1.2              \r\n",
      "pytest-doctestplus                 0.5.0              \r\n",
      "pytest-openfiles                   0.4.0              \r\n",
      "pytest-remotedata                  0.3.2              \r\n",
      "python-daemon                      2.1.2              \r\n",
      "python-dateutil                    2.8.1              \r\n",
      "python-jsonrpc-server              0.3.4              \r\n",
      "python-language-server             0.31.7             \r\n",
      "python3-openid                     3.2.0              \r\n",
      "pytz                               2019.3             \r\n",
      "pytzdata                           2020.1             \r\n",
      "PyWavelets                         1.1.1              \r\n",
      "PyYAML                             5.3                \r\n",
      "pyzmq                              18.1.1             \r\n",
      "QDarkStyle                         2.8                \r\n",
      "QtAwesome                          0.6.1              \r\n",
      "qtconsole                          4.6.0              \r\n",
      "QtPy                               1.9.0              \r\n",
      "requests                           2.25.1             \r\n",
      "requests-oauthlib                  1.3.0              \r\n",
      "rope                               0.16.0             \r\n",
      "rsa                                4.7.2              \r\n",
      "Rtree                              0.9.3              \r\n",
      "ruamel-yaml                        0.15.87            \r\n",
      "s3fs                               2021.7.0           \r\n",
      "scikit-image                       0.16.2             \r\n",
      "scikit-learn                       0.22.1             \r\n",
      "scipy                              1.7.0              \r\n",
      "seaborn                            0.11.1             \r\n",
      "Send2Trash                         1.5.0              \r\n",
      "sentry-sdk                         1.3.1              \r\n",
      "setproctitle                       1.2.2              \r\n",
      "setuptools                         46.0.0.post20200309\r\n",
      "simplegeneric                      0.8.1              \r\n",
      "singledispatch                     3.4.0.3            \r\n",
      "six                                1.14.0             \r\n",
      "snowballstemmer                    2.0.0              \r\n",
      "sortedcollections                  1.1.2              \r\n",
      "sortedcontainers                   2.1.0              \r\n",
      "soupsieve                          1.9.5              \r\n",
      "Sphinx                             2.4.0              \r\n",
      "sphinxcontrib-applehelp            1.0.1              \r\n",
      "sphinxcontrib-devhelp              1.0.1              \r\n",
      "sphinxcontrib-htmlhelp             1.0.2              \r\n",
      "sphinxcontrib-jsmath               1.0.1              \r\n",
      "sphinxcontrib-qthelp               1.0.2              \r\n",
      "sphinxcontrib-serializinghtml      1.1.3              \r\n",
      "sphinxcontrib-websupport           1.2.0              \r\n",
      "spyder                             4.0.1              \r\n",
      "spyder-kernels                     1.8.1              \r\n",
      "SQLAlchemy                         1.4.25             \r\n",
      "SQLAlchemy-JSONField               0.9.0              \r\n",
      "SQLAlchemy-Utils                   0.37.8             \r\n",
      "sqlparse                           0.4.2              \r\n",
      "statsd                             3.3.0              \r\n",
      "statsmodels                        0.12.2             \r\n",
      "sympy                              1.5.1              \r\n",
      "tables                             3.6.1              \r\n",
      "tabulate                           0.8.7              \r\n",
      "tangled-up-in-unicode              0.1.0              \r\n",
      "tblib                              1.6.0              \r\n",
      "tenacity                           4.12.0             \r\n",
      "termcolor                          1.1.0              \r\n",
      "terminado                          0.8.3              \r\n",
      "testpath                           0.4.4              \r\n",
      "text-unidecode                     1.2                \r\n",
      "thrift                             0.13.0             \r\n",
      "toolz                              0.10.0             \r\n",
      "tornado                            6.1                \r\n",
      "tqdm                               4.61.2             \r\n",
      "traitlets                          4.3.3              \r\n",
      "tweepy                             3.10.0             \r\n",
      "typing-extensions                  3.10.0.2           \r\n",
      "typing-inspect                     0.7.1              \r\n",
      "tzlocal                            1.5.1              \r\n",
      "ujson                              1.35               \r\n",
      "unicodecsv                         0.14.1             \r\n",
      "uritemplate                        3.0.1              \r\n",
      "urllib3                            1.25.8             \r\n",
      "visions                            0.7.1              \r\n",
      "watchdog                           0.10.2             \r\n",
      "wcwidth                            0.1.8              \r\n",
      "webencodings                       0.5.1              \r\n",
      "Werkzeug                           0.16.1             \r\n",
      "wheel                              0.34.2             \r\n",
      "widgetsnbextension                 3.5.1              \r\n",
      "wrapt                              1.11.2             \r\n",
      "WTForms                            2.3.3              \r\n",
      "wurlitzer                          2.0.0              \r\n",
      "xlrd                               1.2.0              \r\n",
      "XlsxWriter                         1.2.7              \r\n",
      "xlwings                            0.17.1             \r\n",
      "xlwt                               1.3.0              \r\n",
      "xmltodict                          0.12.0             \r\n",
      "yapf                               0.28.0             \r\n",
      "yarl                               1.6.3              \r\n",
      "yfinance                           0.1.63             \r\n",
      "zict                               1.0.0              \r\n",
      "zipp                               3.5.0              \r\n",
      "zope.deprecation                   4.4.0              \r\n"
     ]
    },
    {
     "name": "stdout",
     "output_type": "stream",
     "text": [
      "Note: you may need to restart the kernel to use updated packages.\n"
     ]
    }
   ],
   "source": [
    "pip list"
   ]
  },
  {
   "cell_type": "markdown",
   "metadata": {},
   "source": [
    "### 1.3.2 Access Twitter with API<a id='1.3.2_twitter_api'></a>"
   ]
  },
  {
   "cell_type": "code",
   "execution_count": 511,
   "metadata": {
    "scrolled": true
   },
   "outputs": [],
   "source": [
    "# Assign keys obtained from Twitter\n",
    "\n",
    "access_token = ''\n",
    "access_token_secret = ''\n",
    "consumer_key = ''\n",
    "consumer_secret = ''\n",
    "auth = tweepy.OAuthHandler(consumer_key, consumer_secret)\n",
    "auth.set_access_token(access_token, access_token_secret)\n",
    "api = tweepy.API(auth, wait_on_rate_limit=True)"
   ]
  },
  {
   "cell_type": "code",
   "execution_count": 2,
   "metadata": {},
   "outputs": [],
   "source": [
    "# Assign keys obtained from Twitter\n",
    "\n",
    "access_token = '1430161145311150080-Ha8nY3LbOwlQ7P27fZsYrwnNm6YOxq'\n",
    "access_token_secret = 'fUP44yQLzb3FfsRqQE7rFtBVUqJIR4whksVTA2j19Zses'\n",
    "consumer_key = 'ugxDeMXFmTPlKDaTZmoeLB3oS'\n",
    "consumer_secret = 'yUfEyw8YGx0RrrE4JyGvhwKIBzRteJzLmL8rhIYunjdG1uGBCp'\n",
    "auth = tweepy.OAuthHandler(consumer_key, consumer_secret)\n",
    "auth.set_access_token(access_token, access_token_secret)\n",
    "api = tweepy.API(auth, wait_on_rate_limit=True)"
   ]
  },
  {
   "cell_type": "markdown",
   "metadata": {},
   "source": [
    "Resources:\n",
    "\n",
    "* We want to use the User Mention Timeline API. Details found here https://developer.twitter.com/en/portal/products\n",
    "* Another resource is the analyzing-social-media-data-in-python course in DataCamp.\n",
    "* https://www.earthdatascience.org/courses/use-data-open-source-python/intro-to-apis/twitter-data-in-python/"
   ]
  },
  {
   "cell_type": "markdown",
   "metadata": {},
   "source": [
    "### 1.3.3 Download tweets for JD.com<a id='1.3.3_jd_tweets'></a>"
   ]
  },
  {
   "cell_type": "code",
   "execution_count": 79,
   "metadata": {
    "scrolled": true
   },
   "outputs": [],
   "source": [
    "# Define the search term and the date_since date as variables\n",
    "\n",
    "search_words = 'JD.com -filter:retweets'\n",
    "date_since = '2021-11-04'"
   ]
  },
  {
   "cell_type": "code",
   "execution_count": 80,
   "metadata": {
    "scrolled": true
   },
   "outputs": [],
   "source": [
    "# Collect tweets\n",
    "\n",
    "tweets = tweepy.Cursor(api.search, q=search_words, lang='en', result_type = 'mixed',since=date_since).items(500)"
   ]
  },
  {
   "cell_type": "markdown",
   "metadata": {},
   "source": [
    "**Lets create a list comprehension function that will pull data and convert to a dataframe**"
   ]
  },
  {
   "cell_type": "code",
   "execution_count": 81,
   "metadata": {
    "scrolled": true
   },
   "outputs": [],
   "source": [
    "tweet_data = [[tweet.created_at, tweet.text, tweet.retweet_count, tweet.favorite_count] for tweet in tweets]"
   ]
  },
  {
   "cell_type": "code",
   "execution_count": 82,
   "metadata": {
    "scrolled": true
   },
   "outputs": [],
   "source": [
    "tweet_df = pd.DataFrame(tweet_data, columns = ['created_at', 'text', 'retweet_count', 'favourite_count'])"
   ]
  },
  {
   "cell_type": "code",
   "execution_count": 83,
   "metadata": {
    "scrolled": false
   },
   "outputs": [
    {
     "data": {
      "text/html": [
       "<div>\n",
       "<style scoped>\n",
       "    .dataframe tbody tr th:only-of-type {\n",
       "        vertical-align: middle;\n",
       "    }\n",
       "\n",
       "    .dataframe tbody tr th {\n",
       "        vertical-align: top;\n",
       "    }\n",
       "\n",
       "    .dataframe thead th {\n",
       "        text-align: right;\n",
       "    }\n",
       "</style>\n",
       "<table border=\"1\" class=\"dataframe\">\n",
       "  <thead>\n",
       "    <tr style=\"text-align: right;\">\n",
       "      <th></th>\n",
       "      <th>created_at</th>\n",
       "      <th>text</th>\n",
       "      <th>retweet_count</th>\n",
       "      <th>favourite_count</th>\n",
       "    </tr>\n",
       "  </thead>\n",
       "  <tbody>\n",
       "    <tr>\n",
       "      <th>0</th>\n",
       "      <td>2021-11-03 18:09:50</td>\n",
       "      <td>Ant Group, Tencent, https://t.co/yCxtuMNJCI Si...</td>\n",
       "      <td>0</td>\n",
       "      <td>0</td>\n",
       "    </tr>\n",
       "    <tr>\n",
       "      <th>1</th>\n",
       "      <td>2021-11-03 17:35:32</td>\n",
       "      <td>Live commerce is the mega trend for 2022. Chin...</td>\n",
       "      <td>0</td>\n",
       "      <td>0</td>\n",
       "    </tr>\n",
       "    <tr>\n",
       "      <th>2</th>\n",
       "      <td>2021-11-03 15:03:37</td>\n",
       "      <td>【OFFICIAL】\\n\\n#陈卓璇 | #ChenZhuoxuan\\n\\n• Hisens...</td>\n",
       "      <td>23</td>\n",
       "      <td>43</td>\n",
       "    </tr>\n",
       "    <tr>\n",
       "      <th>3</th>\n",
       "      <td>2021-11-03 13:30:39</td>\n",
       "      <td>$BBBY Telsey Advisory Group Maintains Market P...</td>\n",
       "      <td>0</td>\n",
       "      <td>1</td>\n",
       "    </tr>\n",
       "    <tr>\n",
       "      <th>4</th>\n",
       "      <td>2021-11-03 12:00:19</td>\n",
       "      <td>$JD [https://t.co/Fu7kVyruTK]: Barclays Initia...</td>\n",
       "      <td>0</td>\n",
       "      <td>0</td>\n",
       "    </tr>\n",
       "  </tbody>\n",
       "</table>\n",
       "</div>"
      ],
      "text/plain": [
       "           created_at                                               text  \\\n",
       "0 2021-11-03 18:09:50  Ant Group, Tencent, https://t.co/yCxtuMNJCI Si...   \n",
       "1 2021-11-03 17:35:32  Live commerce is the mega trend for 2022. Chin...   \n",
       "2 2021-11-03 15:03:37  【OFFICIAL】\\n\\n#陈卓璇 | #ChenZhuoxuan\\n\\n• Hisens...   \n",
       "3 2021-11-03 13:30:39  $BBBY Telsey Advisory Group Maintains Market P...   \n",
       "4 2021-11-03 12:00:19  $JD [https://t.co/Fu7kVyruTK]: Barclays Initia...   \n",
       "\n",
       "   retweet_count  favourite_count  \n",
       "0              0                0  \n",
       "1              0                0  \n",
       "2             23               43  \n",
       "3              0                1  \n",
       "4              0                0  "
      ]
     },
     "execution_count": 83,
     "metadata": {},
     "output_type": "execute_result"
    }
   ],
   "source": [
    "tweet_df.head()"
   ]
  },
  {
   "cell_type": "code",
   "execution_count": 71,
   "metadata": {},
   "outputs": [
    {
     "name": "stdout",
     "output_type": "stream",
     "text": [
      "<class 'pandas.core.frame.DataFrame'>\n",
      "RangeIndex: 16 entries, 0 to 15\n",
      "Data columns (total 4 columns):\n",
      " #   Column           Non-Null Count  Dtype         \n",
      "---  ------           --------------  -----         \n",
      " 0   created_at       16 non-null     datetime64[ns]\n",
      " 1   text             16 non-null     object        \n",
      " 2   retweet_count    16 non-null     int64         \n",
      " 3   favourite_count  16 non-null     int64         \n",
      "dtypes: datetime64[ns](1), int64(2), object(1)\n",
      "memory usage: 640.0+ bytes\n"
     ]
    }
   ],
   "source": [
    "tweet_df.info()"
   ]
  },
  {
   "cell_type": "code",
   "execution_count": 84,
   "metadata": {},
   "outputs": [],
   "source": [
    "# Export JD tweets to excel. Comment this code out so we don't overrite previously downloaded data\n",
    "\n",
    "#tweet_df.to_csv('./twitter_data/JD_11042021.csv', index=False)"
   ]
  },
  {
   "cell_type": "code",
   "execution_count": 86,
   "metadata": {
    "scrolled": true
   },
   "outputs": [],
   "source": [
    "# Define the search term and the date_since date as variables\n",
    "\n",
    "search_words_sp = 'SP500 -filter:retweets'\n",
    "date_since_sp = '2021-11-04'"
   ]
  },
  {
   "cell_type": "code",
   "execution_count": 87,
   "metadata": {
    "scrolled": true
   },
   "outputs": [],
   "source": [
    "# Collect tweets\n",
    "\n",
    "tweets_sp = tweepy.Cursor(api.search, q=search_words_sp, lang='en', result_type = 'mixed',since=date_since_sp).items(500)"
   ]
  },
  {
   "cell_type": "code",
   "execution_count": 88,
   "metadata": {
    "scrolled": true
   },
   "outputs": [],
   "source": [
    "tweet_data_sp = [[tweet.created_at, tweet.text, tweet.retweet_count, tweet.favorite_count] for tweet in tweets_sp]"
   ]
  },
  {
   "cell_type": "code",
   "execution_count": 89,
   "metadata": {
    "scrolled": true
   },
   "outputs": [],
   "source": [
    "tweet_df_sp = pd.DataFrame(tweet_data_sp, columns = ['created_at', 'text', 'retweet_count', 'favourite_count'])"
   ]
  },
  {
   "cell_type": "code",
   "execution_count": 90,
   "metadata": {
    "scrolled": true
   },
   "outputs": [
    {
     "data": {
      "text/html": [
       "<div>\n",
       "<style scoped>\n",
       "    .dataframe tbody tr th:only-of-type {\n",
       "        vertical-align: middle;\n",
       "    }\n",
       "\n",
       "    .dataframe tbody tr th {\n",
       "        vertical-align: top;\n",
       "    }\n",
       "\n",
       "    .dataframe thead th {\n",
       "        text-align: right;\n",
       "    }\n",
       "</style>\n",
       "<table border=\"1\" class=\"dataframe\">\n",
       "  <thead>\n",
       "    <tr style=\"text-align: right;\">\n",
       "      <th></th>\n",
       "      <th>created_at</th>\n",
       "      <th>text</th>\n",
       "      <th>retweet_count</th>\n",
       "      <th>favourite_count</th>\n",
       "    </tr>\n",
       "  </thead>\n",
       "  <tbody>\n",
       "    <tr>\n",
       "      <th>0</th>\n",
       "      <td>2021-11-03 20:14:43</td>\n",
       "      <td>📈Market Conditions Today📉\\n\\n#DJI ⬆️ .29%💲36,1...</td>\n",
       "      <td>5</td>\n",
       "      <td>21</td>\n",
       "    </tr>\n",
       "    <tr>\n",
       "      <th>1</th>\n",
       "      <td>2021-11-03 21:44:26</td>\n",
       "      <td>lol, where are the bears? :D #dowjones #stocks...</td>\n",
       "      <td>0</td>\n",
       "      <td>0</td>\n",
       "    </tr>\n",
       "    <tr>\n",
       "      <th>2</th>\n",
       "      <td>2021-11-03 21:43:00</td>\n",
       "      <td>Traditional analysis is out of touch  #artific...</td>\n",
       "      <td>0</td>\n",
       "      <td>0</td>\n",
       "    </tr>\n",
       "    <tr>\n",
       "      <th>3</th>\n",
       "      <td>2021-11-03 21:35:30</td>\n",
       "      <td>Today's #sp500 high is its 62nd of the year, m...</td>\n",
       "      <td>0</td>\n",
       "      <td>0</td>\n",
       "    </tr>\n",
       "    <tr>\n",
       "      <th>4</th>\n",
       "      <td>2021-11-03 21:28:51</td>\n",
       "      <td>@VinetSharma3 @CNBC SP500 and Nasdaq new recor...</td>\n",
       "      <td>0</td>\n",
       "      <td>0</td>\n",
       "    </tr>\n",
       "  </tbody>\n",
       "</table>\n",
       "</div>"
      ],
      "text/plain": [
       "           created_at                                               text  \\\n",
       "0 2021-11-03 20:14:43  📈Market Conditions Today📉\\n\\n#DJI ⬆️ .29%💲36,1...   \n",
       "1 2021-11-03 21:44:26  lol, where are the bears? :D #dowjones #stocks...   \n",
       "2 2021-11-03 21:43:00  Traditional analysis is out of touch  #artific...   \n",
       "3 2021-11-03 21:35:30  Today's #sp500 high is its 62nd of the year, m...   \n",
       "4 2021-11-03 21:28:51  @VinetSharma3 @CNBC SP500 and Nasdaq new recor...   \n",
       "\n",
       "   retweet_count  favourite_count  \n",
       "0              5               21  \n",
       "1              0                0  \n",
       "2              0                0  \n",
       "3              0                0  \n",
       "4              0                0  "
      ]
     },
     "execution_count": 90,
     "metadata": {},
     "output_type": "execute_result"
    }
   ],
   "source": [
    "tweet_df_sp.head()"
   ]
  },
  {
   "cell_type": "code",
   "execution_count": 91,
   "metadata": {
    "scrolled": true
   },
   "outputs": [],
   "source": [
    "# Export SP500 tweets to excel. Comment this code out so we don't overrite previously downloaded data\n",
    "\n",
    "#tweet_df_sp.to_csv('./twitter_data/SP_11042021.csv', index=False)"
   ]
  },
  {
   "cell_type": "markdown",
   "metadata": {},
   "source": [
    "**Instructions**\n",
    "\n",
    "Need to run the API call for JD.com and SP everyday after at 4:30pm to ensure we capture all information that happened during the trading day."
   ]
  },
  {
   "cell_type": "markdown",
   "metadata": {},
   "source": [
    "### 1.3.4 Access Yahoo API<a id='1.3.5_yahoo_api'></a>"
   ]
  },
  {
   "cell_type": "code",
   "execution_count": 525,
   "metadata": {
    "scrolled": true
   },
   "outputs": [],
   "source": [
    "# create function that downloads stock price from yahoo finance\n",
    "\n",
    "\n",
    "def yahoo_stock_dl(stockList, progress = True):\n",
    "    ''' function to download stock prices form yahoo finance.\n",
    "    \n",
    "    Inputs:\n",
    "    \n",
    "    stockList -> is a list of stock ticker symbols to download.\n",
    "    startDate -> start date of time series\n",
    "    endDate -> end date of time series\n",
    "    \n",
    "    Output:\n",
    "    \n",
    "    exports dataframe of stock price into working directory\n",
    "    '''\n",
    "    stockList = stockList\n",
    "    for stock in stockList:\n",
    "        \n",
    "        time.sleep(1)\n",
    "    \n",
    "        df = yf.download(tickers=stock, start = '2019-01-01', end = '2021-09-01', progress = False)\n",
    "\n",
    "        with pd.ExcelWriter('{name}.xlsx'.format(name=stock)) as writer:\n",
    "            df.to_excel(writer, 'Sheet1')        \n",
    "\n",
    "\n",
    "    "
   ]
  },
  {
   "cell_type": "code",
   "execution_count": 526,
   "metadata": {
    "scrolled": true
   },
   "outputs": [],
   "source": [
    "# Download stock price data and then exportit. May need to re-run to get new daily data\n",
    "\n",
    "yahoo_stock_dl(['JD', 'SPY'])"
   ]
  },
  {
   "cell_type": "markdown",
   "metadata": {},
   "source": [
    "Resources for working with Datetime:\n",
    "\n",
    "https://towardsdatascience.com/mastering-dates-and-timestamps-in-pandas-and-python-in-general-5b8c6edcc50c"
   ]
  },
  {
   "cell_type": "markdown",
   "metadata": {},
   "source": [
    "**Important Notes**\n",
    "\n",
    "We have now created a pipeline to download twitter data on JD and the S&P 500. We also have downloaded daily stock data for JD and SPY (SPY is an ETF that tracks the S&P 500)\n",
    "\n",
    "In the next few weeks we will need to continue to download twitter data on a daily basis at 4:30pm. This daily data will allow us to perform sentiment analysis for each day and give us a time series sentiment trend for each stock.\n",
    "\n"
   ]
  },
  {
   "cell_type": "markdown",
   "metadata": {},
   "source": [
    "## 2.1 Explore Datasets<a id='2.1_explore_data'></a>"
   ]
  },
  {
   "cell_type": "markdown",
   "metadata": {},
   "source": [
    "### 2.1.1 JD Twitter data<a id='2.1.1_jd_twitter'></a>"
   ]
  },
  {
   "cell_type": "code",
   "execution_count": 527,
   "metadata": {
    "scrolled": true
   },
   "outputs": [],
   "source": [
    "jd_twitter = pd.read_csv('./twitter_data/JD_8242021.csv')"
   ]
  },
  {
   "cell_type": "code",
   "execution_count": 528,
   "metadata": {
    "scrolled": true
   },
   "outputs": [
    {
     "data": {
      "text/html": [
       "<div>\n",
       "<style scoped>\n",
       "    .dataframe tbody tr th:only-of-type {\n",
       "        vertical-align: middle;\n",
       "    }\n",
       "\n",
       "    .dataframe tbody tr th {\n",
       "        vertical-align: top;\n",
       "    }\n",
       "\n",
       "    .dataframe thead th {\n",
       "        text-align: right;\n",
       "    }\n",
       "</style>\n",
       "<table border=\"1\" class=\"dataframe\">\n",
       "  <thead>\n",
       "    <tr style=\"text-align: right;\">\n",
       "      <th></th>\n",
       "      <th>created_at</th>\n",
       "      <th>text</th>\n",
       "      <th>retweet_count</th>\n",
       "      <th>favourite_count</th>\n",
       "    </tr>\n",
       "  </thead>\n",
       "  <tbody>\n",
       "    <tr>\n",
       "      <th>0</th>\n",
       "      <td>2021-08-24 07:34:22</td>\n",
       "      <td>Chinese tech stocks rally as https://t.co/l0RH...</td>\n",
       "      <td>21</td>\n",
       "      <td>52</td>\n",
       "    </tr>\n",
       "    <tr>\n",
       "      <th>1</th>\n",
       "      <td>2021-08-25 10:34:17</td>\n",
       "      <td>\"We swapped out of other names that continue t...</td>\n",
       "      <td>4</td>\n",
       "      <td>19</td>\n",
       "    </tr>\n",
       "    <tr>\n",
       "      <th>2</th>\n",
       "      <td>2021-08-25 15:03:34</td>\n",
       "      <td>$MF: Missfresh Ltd. sales on https://t.co/uhas...</td>\n",
       "      <td>0</td>\n",
       "      <td>0</td>\n",
       "    </tr>\n",
       "    <tr>\n",
       "      <th>3</th>\n",
       "      <td>2021-08-25 14:48:46</td>\n",
       "      <td>WSJmarkets: Shares of Pinduoduo and https://t....</td>\n",
       "      <td>0</td>\n",
       "      <td>0</td>\n",
       "    </tr>\n",
       "    <tr>\n",
       "      <th>4</th>\n",
       "      <td>2021-08-25 14:45:06</td>\n",
       "      <td>Shares of Pinduoduo and https://t.co/XrmiDqOQQ...</td>\n",
       "      <td>3</td>\n",
       "      <td>8</td>\n",
       "    </tr>\n",
       "    <tr>\n",
       "      <th>...</th>\n",
       "      <td>...</td>\n",
       "      <td>...</td>\n",
       "      <td>...</td>\n",
       "      <td>...</td>\n",
       "    </tr>\n",
       "    <tr>\n",
       "      <th>489</th>\n",
       "      <td>2021-08-17 10:55:46</td>\n",
       "      <td>*MELVIN CAPITAL TAKES NEW STAKES IN https://t....</td>\n",
       "      <td>0</td>\n",
       "      <td>1</td>\n",
       "    </tr>\n",
       "    <tr>\n",
       "      <th>490</th>\n",
       "      <td>2021-08-17 10:52:01</td>\n",
       "      <td>*MELVIN CAPITAL TAKES NEW STAKES IN https://t....</td>\n",
       "      <td>14</td>\n",
       "      <td>39</td>\n",
       "    </tr>\n",
       "    <tr>\n",
       "      <th>491</th>\n",
       "      <td>2021-08-17 09:14:35</td>\n",
       "      <td>Leading the new fashion of electrical consumpt...</td>\n",
       "      <td>0</td>\n",
       "      <td>0</td>\n",
       "    </tr>\n",
       "    <tr>\n",
       "      <th>492</th>\n",
       "      <td>2021-08-17 09:10:21</td>\n",
       "      <td>Redmi K40 Gaming Edition Teased in New Inverse...</td>\n",
       "      <td>0</td>\n",
       "      <td>0</td>\n",
       "    </tr>\n",
       "    <tr>\n",
       "      <th>493</th>\n",
       "      <td>2021-08-17 08:47:40</td>\n",
       "      <td>Weibo updated with Spokesperson JD. Com #XiaoZ...</td>\n",
       "      <td>0</td>\n",
       "      <td>2</td>\n",
       "    </tr>\n",
       "  </tbody>\n",
       "</table>\n",
       "<p>494 rows × 4 columns</p>\n",
       "</div>"
      ],
      "text/plain": [
       "              created_at                                               text  \\\n",
       "0    2021-08-24 07:34:22  Chinese tech stocks rally as https://t.co/l0RH...   \n",
       "1    2021-08-25 10:34:17  \"We swapped out of other names that continue t...   \n",
       "2    2021-08-25 15:03:34  $MF: Missfresh Ltd. sales on https://t.co/uhas...   \n",
       "3    2021-08-25 14:48:46  WSJmarkets: Shares of Pinduoduo and https://t....   \n",
       "4    2021-08-25 14:45:06  Shares of Pinduoduo and https://t.co/XrmiDqOQQ...   \n",
       "..                   ...                                                ...   \n",
       "489  2021-08-17 10:55:46  *MELVIN CAPITAL TAKES NEW STAKES IN https://t....   \n",
       "490  2021-08-17 10:52:01  *MELVIN CAPITAL TAKES NEW STAKES IN https://t....   \n",
       "491  2021-08-17 09:14:35  Leading the new fashion of electrical consumpt...   \n",
       "492  2021-08-17 09:10:21  Redmi K40 Gaming Edition Teased in New Inverse...   \n",
       "493  2021-08-17 08:47:40  Weibo updated with Spokesperson JD. Com #XiaoZ...   \n",
       "\n",
       "     retweet_count  favourite_count  \n",
       "0               21               52  \n",
       "1                4               19  \n",
       "2                0                0  \n",
       "3                0                0  \n",
       "4                3                8  \n",
       "..             ...              ...  \n",
       "489              0                1  \n",
       "490             14               39  \n",
       "491              0                0  \n",
       "492              0                0  \n",
       "493              0                2  \n",
       "\n",
       "[494 rows x 4 columns]"
      ]
     },
     "execution_count": 528,
     "metadata": {},
     "output_type": "execute_result"
    }
   ],
   "source": [
    "# Have a look at the data.\n",
    "\n",
    "jd_twitter"
   ]
  },
  {
   "cell_type": "code",
   "execution_count": 529,
   "metadata": {
    "scrolled": true
   },
   "outputs": [
    {
     "name": "stdout",
     "output_type": "stream",
     "text": [
      "<class 'pandas.core.frame.DataFrame'>\n",
      "RangeIndex: 494 entries, 0 to 493\n",
      "Data columns (total 4 columns):\n",
      " #   Column           Non-Null Count  Dtype \n",
      "---  ------           --------------  ----- \n",
      " 0   created_at       494 non-null    object\n",
      " 1   text             494 non-null    object\n",
      " 2   retweet_count    494 non-null    int64 \n",
      " 3   favourite_count  494 non-null    int64 \n",
      "dtypes: int64(2), object(2)\n",
      "memory usage: 15.6+ KB\n"
     ]
    }
   ],
   "source": [
    "jd_twitter.info()"
   ]
  },
  {
   "cell_type": "code",
   "execution_count": 530,
   "metadata": {
    "scrolled": true
   },
   "outputs": [],
   "source": [
    "jd_twitter['date'] = jd_twitter['created_at'].apply(lambda x : parse(x))"
   ]
  },
  {
   "cell_type": "code",
   "execution_count": 531,
   "metadata": {
    "scrolled": true
   },
   "outputs": [
    {
     "name": "stderr",
     "output_type": "stream",
     "text": [
      "/Users/davidlam/opt/anaconda3/lib/python3.7/site-packages/ipykernel_launcher.py:2: FutureWarning: Series.dt.weekofyear and Series.dt.week have been deprecated.  Please use Series.dt.isocalendar().week instead.\n",
      "  \n"
     ]
    }
   ],
   "source": [
    "jd_twitter['month'] = jd_twitter['date'].dt.month\n",
    "jd_twitter['week'] = jd_twitter['date'].dt.week\n",
    "jd_twitter['day'] = jd_twitter['date'].dt.day"
   ]
  },
  {
   "cell_type": "code",
   "execution_count": 532,
   "metadata": {
    "scrolled": true
   },
   "outputs": [
    {
     "data": {
      "text/html": [
       "<div>\n",
       "<style scoped>\n",
       "    .dataframe tbody tr th:only-of-type {\n",
       "        vertical-align: middle;\n",
       "    }\n",
       "\n",
       "    .dataframe tbody tr th {\n",
       "        vertical-align: top;\n",
       "    }\n",
       "\n",
       "    .dataframe thead th {\n",
       "        text-align: right;\n",
       "    }\n",
       "</style>\n",
       "<table border=\"1\" class=\"dataframe\">\n",
       "  <thead>\n",
       "    <tr style=\"text-align: right;\">\n",
       "      <th></th>\n",
       "      <th>created_at</th>\n",
       "      <th>text</th>\n",
       "      <th>retweet_count</th>\n",
       "      <th>favourite_count</th>\n",
       "      <th>date</th>\n",
       "      <th>month</th>\n",
       "      <th>week</th>\n",
       "      <th>day</th>\n",
       "    </tr>\n",
       "  </thead>\n",
       "  <tbody>\n",
       "    <tr>\n",
       "      <th>0</th>\n",
       "      <td>2021-08-24 07:34:22</td>\n",
       "      <td>Chinese tech stocks rally as https://t.co/l0RH...</td>\n",
       "      <td>21</td>\n",
       "      <td>52</td>\n",
       "      <td>2021-08-24 07:34:22</td>\n",
       "      <td>8</td>\n",
       "      <td>34</td>\n",
       "      <td>24</td>\n",
       "    </tr>\n",
       "    <tr>\n",
       "      <th>1</th>\n",
       "      <td>2021-08-25 10:34:17</td>\n",
       "      <td>\"We swapped out of other names that continue t...</td>\n",
       "      <td>4</td>\n",
       "      <td>19</td>\n",
       "      <td>2021-08-25 10:34:17</td>\n",
       "      <td>8</td>\n",
       "      <td>34</td>\n",
       "      <td>25</td>\n",
       "    </tr>\n",
       "    <tr>\n",
       "      <th>2</th>\n",
       "      <td>2021-08-25 15:03:34</td>\n",
       "      <td>$MF: Missfresh Ltd. sales on https://t.co/uhas...</td>\n",
       "      <td>0</td>\n",
       "      <td>0</td>\n",
       "      <td>2021-08-25 15:03:34</td>\n",
       "      <td>8</td>\n",
       "      <td>34</td>\n",
       "      <td>25</td>\n",
       "    </tr>\n",
       "    <tr>\n",
       "      <th>3</th>\n",
       "      <td>2021-08-25 14:48:46</td>\n",
       "      <td>WSJmarkets: Shares of Pinduoduo and https://t....</td>\n",
       "      <td>0</td>\n",
       "      <td>0</td>\n",
       "      <td>2021-08-25 14:48:46</td>\n",
       "      <td>8</td>\n",
       "      <td>34</td>\n",
       "      <td>25</td>\n",
       "    </tr>\n",
       "    <tr>\n",
       "      <th>4</th>\n",
       "      <td>2021-08-25 14:45:06</td>\n",
       "      <td>Shares of Pinduoduo and https://t.co/XrmiDqOQQ...</td>\n",
       "      <td>3</td>\n",
       "      <td>8</td>\n",
       "      <td>2021-08-25 14:45:06</td>\n",
       "      <td>8</td>\n",
       "      <td>34</td>\n",
       "      <td>25</td>\n",
       "    </tr>\n",
       "  </tbody>\n",
       "</table>\n",
       "</div>"
      ],
      "text/plain": [
       "            created_at                                               text  \\\n",
       "0  2021-08-24 07:34:22  Chinese tech stocks rally as https://t.co/l0RH...   \n",
       "1  2021-08-25 10:34:17  \"We swapped out of other names that continue t...   \n",
       "2  2021-08-25 15:03:34  $MF: Missfresh Ltd. sales on https://t.co/uhas...   \n",
       "3  2021-08-25 14:48:46  WSJmarkets: Shares of Pinduoduo and https://t....   \n",
       "4  2021-08-25 14:45:06  Shares of Pinduoduo and https://t.co/XrmiDqOQQ...   \n",
       "\n",
       "   retweet_count  favourite_count                date  month  week  day  \n",
       "0             21               52 2021-08-24 07:34:22      8    34   24  \n",
       "1              4               19 2021-08-25 10:34:17      8    34   25  \n",
       "2              0                0 2021-08-25 15:03:34      8    34   25  \n",
       "3              0                0 2021-08-25 14:48:46      8    34   25  \n",
       "4              3                8 2021-08-25 14:45:06      8    34   25  "
      ]
     },
     "execution_count": 532,
     "metadata": {},
     "output_type": "execute_result"
    }
   ],
   "source": [
    "jd_twitter.head()"
   ]
  },
  {
   "cell_type": "code",
   "execution_count": 533,
   "metadata": {
    "scrolled": true
   },
   "outputs": [
    {
     "name": "stdout",
     "output_type": "stream",
     "text": [
      "<class 'pandas.core.frame.DataFrame'>\n",
      "RangeIndex: 494 entries, 0 to 493\n",
      "Data columns (total 8 columns):\n",
      " #   Column           Non-Null Count  Dtype         \n",
      "---  ------           --------------  -----         \n",
      " 0   created_at       494 non-null    object        \n",
      " 1   text             494 non-null    object        \n",
      " 2   retweet_count    494 non-null    int64         \n",
      " 3   favourite_count  494 non-null    int64         \n",
      " 4   date             494 non-null    datetime64[ns]\n",
      " 5   month            494 non-null    int64         \n",
      " 6   week             494 non-null    int64         \n",
      " 7   day              494 non-null    int64         \n",
      "dtypes: datetime64[ns](1), int64(5), object(2)\n",
      "memory usage: 31.0+ KB\n"
     ]
    }
   ],
   "source": [
    "jd_twitter.info()"
   ]
  },
  {
   "cell_type": "code",
   "execution_count": 534,
   "metadata": {
    "scrolled": true
   },
   "outputs": [
    {
     "data": {
      "text/plain": [
       "(array([488.,   3.,   1.,   1.,   0.,   0.,   0.,   0.,   0.,   1.]),\n",
       " array([  0. ,  11.4,  22.8,  34.2,  45.6,  57. ,  68.4,  79.8,  91.2,\n",
       "        102.6, 114. ]),\n",
       " [<matplotlib.patches.Polygon at 0x7fbab1771b90>])"
      ]
     },
     "execution_count": 534,
     "metadata": {},
     "output_type": "execute_result"
    },
    {
     "data": {
      "image/png": "[encoded data removed]",
      "text/plain": [
       "<Figure size 432x288 with 1 Axes>"
      ]
     },
     "metadata": {
      "needs_background": "light"
     },
     "output_type": "display_data"
    }
   ],
   "source": [
    "plt.hist(jd_twitter['retweet_count'], histtype='step')"
   ]
  },
  {
   "cell_type": "markdown",
   "metadata": {},
   "source": [
    "**Majority of tweets have very low retweets**"
   ]
  },
  {
   "cell_type": "code",
   "execution_count": 535,
   "metadata": {
    "scrolled": false
   },
   "outputs": [
    {
     "data": {
      "text/plain": [
       "(array([487.,   4.,   0.,   1.,   0.,   1.,   0.,   0.,   0.,   1.]),\n",
       " array([  0. ,  27.4,  54.8,  82.2, 109.6, 137. , 164.4, 191.8, 219.2,\n",
       "        246.6, 274. ]),\n",
       " [<matplotlib.patches.Polygon at 0x7fbab1eb7f10>])"
      ]
     },
     "execution_count": 535,
     "metadata": {},
     "output_type": "execute_result"
    },
    {
     "data": {
      "image/png": "[encoded data removed]",
      "text/plain": [
       "<Figure size 432x288 with 1 Axes>"
      ]
     },
     "metadata": {
      "needs_background": "light"
     },
     "output_type": "display_data"
    }
   ],
   "source": [
    "plt.hist(jd_twitter['favourite_count'], histtype='step')"
   ]
  },
  {
   "cell_type": "markdown",
   "metadata": {},
   "source": [
    "**Majority of tweets have not been favourited**"
   ]
  },
  {
   "cell_type": "markdown",
   "metadata": {},
   "source": [
    "#### 2.1.1.1 JD Twitter Sentiment Analysis<a id='2.1.1.1_jd_twitter_sentiment'></a>"
   ]
  },
  {
   "cell_type": "code",
   "execution_count": 536,
   "metadata": {
    "scrolled": true
   },
   "outputs": [],
   "source": [
    "sid = SentimentIntensityAnalyzer()\n",
    "sentiment_score = jd_twitter['text'].apply(sid.polarity_scores)"
   ]
  },
  {
   "cell_type": "code",
   "execution_count": 537,
   "metadata": {
    "scrolled": true
   },
   "outputs": [
    {
     "data": {
      "text/html": [
       "<div>\n",
       "<style scoped>\n",
       "    .dataframe tbody tr th:only-of-type {\n",
       "        vertical-align: middle;\n",
       "    }\n",
       "\n",
       "    .dataframe tbody tr th {\n",
       "        vertical-align: top;\n",
       "    }\n",
       "\n",
       "    .dataframe thead th {\n",
       "        text-align: right;\n",
       "    }\n",
       "</style>\n",
       "<table border=\"1\" class=\"dataframe\">\n",
       "  <thead>\n",
       "    <tr style=\"text-align: right;\">\n",
       "      <th></th>\n",
       "      <th>created_at</th>\n",
       "      <th>text</th>\n",
       "      <th>retweet_count</th>\n",
       "      <th>favourite_count</th>\n",
       "      <th>date</th>\n",
       "      <th>month</th>\n",
       "      <th>week</th>\n",
       "      <th>day</th>\n",
       "      <th>sentiment</th>\n",
       "    </tr>\n",
       "  </thead>\n",
       "  <tbody>\n",
       "    <tr>\n",
       "      <th>0</th>\n",
       "      <td>2021-08-24 07:34:22</td>\n",
       "      <td>Chinese tech stocks rally as https://t.co/l0RH...</td>\n",
       "      <td>21</td>\n",
       "      <td>52</td>\n",
       "      <td>2021-08-24 07:34:22</td>\n",
       "      <td>8</td>\n",
       "      <td>34</td>\n",
       "      <td>24</td>\n",
       "      <td>0.000</td>\n",
       "    </tr>\n",
       "    <tr>\n",
       "      <th>1</th>\n",
       "      <td>2021-08-25 10:34:17</td>\n",
       "      <td>\"We swapped out of other names that continue t...</td>\n",
       "      <td>4</td>\n",
       "      <td>19</td>\n",
       "      <td>2021-08-25 10:34:17</td>\n",
       "      <td>8</td>\n",
       "      <td>34</td>\n",
       "      <td>25</td>\n",
       "      <td>0.000</td>\n",
       "    </tr>\n",
       "    <tr>\n",
       "      <th>2</th>\n",
       "      <td>2021-08-25 15:03:34</td>\n",
       "      <td>$MF: Missfresh Ltd. sales on https://t.co/uhas...</td>\n",
       "      <td>0</td>\n",
       "      <td>0</td>\n",
       "      <td>2021-08-25 15:03:34</td>\n",
       "      <td>8</td>\n",
       "      <td>34</td>\n",
       "      <td>25</td>\n",
       "      <td>0.000</td>\n",
       "    </tr>\n",
       "    <tr>\n",
       "      <th>3</th>\n",
       "      <td>2021-08-25 14:48:46</td>\n",
       "      <td>WSJmarkets: Shares of Pinduoduo and https://t....</td>\n",
       "      <td>0</td>\n",
       "      <td>0</td>\n",
       "      <td>2021-08-25 14:48:46</td>\n",
       "      <td>8</td>\n",
       "      <td>34</td>\n",
       "      <td>25</td>\n",
       "      <td>0.296</td>\n",
       "    </tr>\n",
       "    <tr>\n",
       "      <th>4</th>\n",
       "      <td>2021-08-25 14:45:06</td>\n",
       "      <td>Shares of Pinduoduo and https://t.co/XrmiDqOQQ...</td>\n",
       "      <td>3</td>\n",
       "      <td>8</td>\n",
       "      <td>2021-08-25 14:45:06</td>\n",
       "      <td>8</td>\n",
       "      <td>34</td>\n",
       "      <td>25</td>\n",
       "      <td>0.296</td>\n",
       "    </tr>\n",
       "  </tbody>\n",
       "</table>\n",
       "</div>"
      ],
      "text/plain": [
       "            created_at                                               text  \\\n",
       "0  2021-08-24 07:34:22  Chinese tech stocks rally as https://t.co/l0RH...   \n",
       "1  2021-08-25 10:34:17  \"We swapped out of other names that continue t...   \n",
       "2  2021-08-25 15:03:34  $MF: Missfresh Ltd. sales on https://t.co/uhas...   \n",
       "3  2021-08-25 14:48:46  WSJmarkets: Shares of Pinduoduo and https://t....   \n",
       "4  2021-08-25 14:45:06  Shares of Pinduoduo and https://t.co/XrmiDqOQQ...   \n",
       "\n",
       "   retweet_count  favourite_count                date  month  week  day  \\\n",
       "0             21               52 2021-08-24 07:34:22      8    34   24   \n",
       "1              4               19 2021-08-25 10:34:17      8    34   25   \n",
       "2              0                0 2021-08-25 15:03:34      8    34   25   \n",
       "3              0                0 2021-08-25 14:48:46      8    34   25   \n",
       "4              3                8 2021-08-25 14:45:06      8    34   25   \n",
       "\n",
       "   sentiment  \n",
       "0      0.000  \n",
       "1      0.000  \n",
       "2      0.000  \n",
       "3      0.296  \n",
       "4      0.296  "
      ]
     },
     "execution_count": 537,
     "metadata": {},
     "output_type": "execute_result"
    }
   ],
   "source": [
    "jd_twitter['sentiment'] = sentiment_score.apply(lambda x : x['compound'])\n",
    "jd_twitter.head()"
   ]
  },
  {
   "cell_type": "markdown",
   "metadata": {},
   "source": [
    "### 2.1.2 SP500 Twitter data<a id='2.1.2_sp_twitter'></a>"
   ]
  },
  {
   "cell_type": "code",
   "execution_count": 538,
   "metadata": {
    "scrolled": true
   },
   "outputs": [],
   "source": [
    "sp_twitter = pd.read_csv('./twitter_data/SP_8242021.csv')"
   ]
  },
  {
   "cell_type": "code",
   "execution_count": 539,
   "metadata": {
    "scrolled": true
   },
   "outputs": [
    {
     "data": {
      "text/html": [
       "<div>\n",
       "<style scoped>\n",
       "    .dataframe tbody tr th:only-of-type {\n",
       "        vertical-align: middle;\n",
       "    }\n",
       "\n",
       "    .dataframe tbody tr th {\n",
       "        vertical-align: top;\n",
       "    }\n",
       "\n",
       "    .dataframe thead th {\n",
       "        text-align: right;\n",
       "    }\n",
       "</style>\n",
       "<table border=\"1\" class=\"dataframe\">\n",
       "  <thead>\n",
       "    <tr style=\"text-align: right;\">\n",
       "      <th></th>\n",
       "      <th>created_at</th>\n",
       "      <th>text</th>\n",
       "      <th>retweet_count</th>\n",
       "      <th>favourite_count</th>\n",
       "    </tr>\n",
       "  </thead>\n",
       "  <tbody>\n",
       "    <tr>\n",
       "      <th>0</th>\n",
       "      <td>2021-08-24 21:52:06</td>\n",
       "      <td>The Nasdaq surpassed the 15,000 level for the ...</td>\n",
       "      <td>34</td>\n",
       "      <td>163</td>\n",
       "    </tr>\n",
       "    <tr>\n",
       "      <th>1</th>\n",
       "      <td>2021-08-25 09:31:14</td>\n",
       "      <td>US stock futures tread water after S&amp;amp;P 500...</td>\n",
       "      <td>9</td>\n",
       "      <td>14</td>\n",
       "    </tr>\n",
       "    <tr>\n",
       "      <th>2</th>\n",
       "      <td>2021-08-25 15:30:06</td>\n",
       "      <td>Join me &amp;amp; my @cfraresearch colleagues for ...</td>\n",
       "      <td>0</td>\n",
       "      <td>0</td>\n",
       "    </tr>\n",
       "    <tr>\n",
       "      <th>3</th>\n",
       "      <td>2021-08-25 15:24:51</td>\n",
       "      <td>@MacroAlf @CyberSpaceGal Based on Pe ratios of...</td>\n",
       "      <td>0</td>\n",
       "      <td>0</td>\n",
       "    </tr>\n",
       "    <tr>\n",
       "      <th>4</th>\n",
       "      <td>2021-08-25 15:22:56</td>\n",
       "      <td>Excess fiscal and #FederalReserve pumped liqui...</td>\n",
       "      <td>0</td>\n",
       "      <td>1</td>\n",
       "    </tr>\n",
       "    <tr>\n",
       "      <th>...</th>\n",
       "      <td>...</td>\n",
       "      <td>...</td>\n",
       "      <td>...</td>\n",
       "      <td>...</td>\n",
       "    </tr>\n",
       "    <tr>\n",
       "      <th>495</th>\n",
       "      <td>2021-08-23 15:07:12</td>\n",
       "      <td>Paysafe $PSFE\\n\\nBlock of 43,639 shares at $8....</td>\n",
       "      <td>1</td>\n",
       "      <td>3</td>\n",
       "    </tr>\n",
       "    <tr>\n",
       "      <th>496</th>\n",
       "      <td>2021-08-23 15:04:28</td>\n",
       "      <td>@ben_golub @arpitrage You can even read \"skew\"...</td>\n",
       "      <td>0</td>\n",
       "      <td>6</td>\n",
       "    </tr>\n",
       "    <tr>\n",
       "      <th>497</th>\n",
       "      <td>2021-08-23 15:03:20</td>\n",
       "      <td>Ford Motor $F\\n\\nBlock of 241,170 shares at $1...</td>\n",
       "      <td>0</td>\n",
       "      <td>2</td>\n",
       "    </tr>\n",
       "    <tr>\n",
       "      <th>498</th>\n",
       "      <td>2021-08-23 15:02:07</td>\n",
       "      <td>$AMC\\n\\nAnother block of 29,380 shares at $36....</td>\n",
       "      <td>3</td>\n",
       "      <td>7</td>\n",
       "    </tr>\n",
       "    <tr>\n",
       "      <th>499</th>\n",
       "      <td>2021-08-23 15:01:57</td>\n",
       "      <td>ATH. AGAIN !!! 🤪\\n\\n$ES_F #daytrading #futures...</td>\n",
       "      <td>0</td>\n",
       "      <td>1</td>\n",
       "    </tr>\n",
       "  </tbody>\n",
       "</table>\n",
       "<p>500 rows × 4 columns</p>\n",
       "</div>"
      ],
      "text/plain": [
       "              created_at                                               text  \\\n",
       "0    2021-08-24 21:52:06  The Nasdaq surpassed the 15,000 level for the ...   \n",
       "1    2021-08-25 09:31:14  US stock futures tread water after S&amp;P 500...   \n",
       "2    2021-08-25 15:30:06  Join me &amp; my @cfraresearch colleagues for ...   \n",
       "3    2021-08-25 15:24:51  @MacroAlf @CyberSpaceGal Based on Pe ratios of...   \n",
       "4    2021-08-25 15:22:56  Excess fiscal and #FederalReserve pumped liqui...   \n",
       "..                   ...                                                ...   \n",
       "495  2021-08-23 15:07:12  Paysafe $PSFE\\n\\nBlock of 43,639 shares at $8....   \n",
       "496  2021-08-23 15:04:28  @ben_golub @arpitrage You can even read \"skew\"...   \n",
       "497  2021-08-23 15:03:20  Ford Motor $F\\n\\nBlock of 241,170 shares at $1...   \n",
       "498  2021-08-23 15:02:07  $AMC\\n\\nAnother block of 29,380 shares at $36....   \n",
       "499  2021-08-23 15:01:57  ATH. AGAIN !!! 🤪\\n\\n$ES_F #daytrading #futures...   \n",
       "\n",
       "     retweet_count  favourite_count  \n",
       "0               34              163  \n",
       "1                9               14  \n",
       "2                0                0  \n",
       "3                0                0  \n",
       "4                0                1  \n",
       "..             ...              ...  \n",
       "495              1                3  \n",
       "496              0                6  \n",
       "497              0                2  \n",
       "498              3                7  \n",
       "499              0                1  \n",
       "\n",
       "[500 rows x 4 columns]"
      ]
     },
     "execution_count": 539,
     "metadata": {},
     "output_type": "execute_result"
    }
   ],
   "source": [
    "# Have a look at the data.\n",
    "\n",
    "sp_twitter"
   ]
  },
  {
   "cell_type": "code",
   "execution_count": 540,
   "metadata": {
    "scrolled": true
   },
   "outputs": [
    {
     "name": "stdout",
     "output_type": "stream",
     "text": [
      "<class 'pandas.core.frame.DataFrame'>\n",
      "RangeIndex: 500 entries, 0 to 499\n",
      "Data columns (total 4 columns):\n",
      " #   Column           Non-Null Count  Dtype \n",
      "---  ------           --------------  ----- \n",
      " 0   created_at       500 non-null    object\n",
      " 1   text             500 non-null    object\n",
      " 2   retweet_count    500 non-null    int64 \n",
      " 3   favourite_count  500 non-null    int64 \n",
      "dtypes: int64(2), object(2)\n",
      "memory usage: 15.8+ KB\n"
     ]
    }
   ],
   "source": [
    "sp_twitter.info()"
   ]
  },
  {
   "cell_type": "code",
   "execution_count": 541,
   "metadata": {
    "scrolled": true
   },
   "outputs": [],
   "source": [
    "sp_twitter['date'] = sp_twitter['created_at'].apply(lambda x : parse(x))"
   ]
  },
  {
   "cell_type": "code",
   "execution_count": 542,
   "metadata": {
    "scrolled": true
   },
   "outputs": [
    {
     "name": "stderr",
     "output_type": "stream",
     "text": [
      "/Users/davidlam/opt/anaconda3/lib/python3.7/site-packages/ipykernel_launcher.py:2: FutureWarning: Series.dt.weekofyear and Series.dt.week have been deprecated.  Please use Series.dt.isocalendar().week instead.\n",
      "  \n"
     ]
    }
   ],
   "source": [
    "sp_twitter['month'] = sp_twitter['date'].dt.month\n",
    "sp_twitter['week'] = sp_twitter['date'].dt.week\n",
    "sp_twitter['day'] = sp_twitter['date'].dt.day"
   ]
  },
  {
   "cell_type": "code",
   "execution_count": 543,
   "metadata": {
    "scrolled": true
   },
   "outputs": [
    {
     "data": {
      "text/html": [
       "<div>\n",
       "<style scoped>\n",
       "    .dataframe tbody tr th:only-of-type {\n",
       "        vertical-align: middle;\n",
       "    }\n",
       "\n",
       "    .dataframe tbody tr th {\n",
       "        vertical-align: top;\n",
       "    }\n",
       "\n",
       "    .dataframe thead th {\n",
       "        text-align: right;\n",
       "    }\n",
       "</style>\n",
       "<table border=\"1\" class=\"dataframe\">\n",
       "  <thead>\n",
       "    <tr style=\"text-align: right;\">\n",
       "      <th></th>\n",
       "      <th>created_at</th>\n",
       "      <th>text</th>\n",
       "      <th>retweet_count</th>\n",
       "      <th>favourite_count</th>\n",
       "      <th>date</th>\n",
       "      <th>month</th>\n",
       "      <th>week</th>\n",
       "      <th>day</th>\n",
       "    </tr>\n",
       "  </thead>\n",
       "  <tbody>\n",
       "    <tr>\n",
       "      <th>0</th>\n",
       "      <td>2021-08-24 21:52:06</td>\n",
       "      <td>The Nasdaq surpassed the 15,000 level for the ...</td>\n",
       "      <td>34</td>\n",
       "      <td>163</td>\n",
       "      <td>2021-08-24 21:52:06</td>\n",
       "      <td>8</td>\n",
       "      <td>34</td>\n",
       "      <td>24</td>\n",
       "    </tr>\n",
       "    <tr>\n",
       "      <th>1</th>\n",
       "      <td>2021-08-25 09:31:14</td>\n",
       "      <td>US stock futures tread water after S&amp;amp;P 500...</td>\n",
       "      <td>9</td>\n",
       "      <td>14</td>\n",
       "      <td>2021-08-25 09:31:14</td>\n",
       "      <td>8</td>\n",
       "      <td>34</td>\n",
       "      <td>25</td>\n",
       "    </tr>\n",
       "    <tr>\n",
       "      <th>2</th>\n",
       "      <td>2021-08-25 15:30:06</td>\n",
       "      <td>Join me &amp;amp; my @cfraresearch colleagues for ...</td>\n",
       "      <td>0</td>\n",
       "      <td>0</td>\n",
       "      <td>2021-08-25 15:30:06</td>\n",
       "      <td>8</td>\n",
       "      <td>34</td>\n",
       "      <td>25</td>\n",
       "    </tr>\n",
       "    <tr>\n",
       "      <th>3</th>\n",
       "      <td>2021-08-25 15:24:51</td>\n",
       "      <td>@MacroAlf @CyberSpaceGal Based on Pe ratios of...</td>\n",
       "      <td>0</td>\n",
       "      <td>0</td>\n",
       "      <td>2021-08-25 15:24:51</td>\n",
       "      <td>8</td>\n",
       "      <td>34</td>\n",
       "      <td>25</td>\n",
       "    </tr>\n",
       "    <tr>\n",
       "      <th>4</th>\n",
       "      <td>2021-08-25 15:22:56</td>\n",
       "      <td>Excess fiscal and #FederalReserve pumped liqui...</td>\n",
       "      <td>0</td>\n",
       "      <td>1</td>\n",
       "      <td>2021-08-25 15:22:56</td>\n",
       "      <td>8</td>\n",
       "      <td>34</td>\n",
       "      <td>25</td>\n",
       "    </tr>\n",
       "  </tbody>\n",
       "</table>\n",
       "</div>"
      ],
      "text/plain": [
       "            created_at                                               text  \\\n",
       "0  2021-08-24 21:52:06  The Nasdaq surpassed the 15,000 level for the ...   \n",
       "1  2021-08-25 09:31:14  US stock futures tread water after S&amp;P 500...   \n",
       "2  2021-08-25 15:30:06  Join me &amp; my @cfraresearch colleagues for ...   \n",
       "3  2021-08-25 15:24:51  @MacroAlf @CyberSpaceGal Based on Pe ratios of...   \n",
       "4  2021-08-25 15:22:56  Excess fiscal and #FederalReserve pumped liqui...   \n",
       "\n",
       "   retweet_count  favourite_count                date  month  week  day  \n",
       "0             34              163 2021-08-24 21:52:06      8    34   24  \n",
       "1              9               14 2021-08-25 09:31:14      8    34   25  \n",
       "2              0                0 2021-08-25 15:30:06      8    34   25  \n",
       "3              0                0 2021-08-25 15:24:51      8    34   25  \n",
       "4              0                1 2021-08-25 15:22:56      8    34   25  "
      ]
     },
     "execution_count": 543,
     "metadata": {},
     "output_type": "execute_result"
    }
   ],
   "source": [
    "sp_twitter.head()"
   ]
  },
  {
   "cell_type": "code",
   "execution_count": 544,
   "metadata": {
    "scrolled": true
   },
   "outputs": [
    {
     "data": {
      "text/plain": [
       "(array([490.,   5.,   2.,   0.,   1.,   0.,   1.,   0.,   0.,   1.]),\n",
       " array([ 0. ,  5.6, 11.2, 16.8, 22.4, 28. , 33.6, 39.2, 44.8, 50.4, 56. ]),\n",
       " [<matplotlib.patches.Polygon at 0x7fba7984e5d0>])"
      ]
     },
     "execution_count": 544,
     "metadata": {},
     "output_type": "execute_result"
    },
    {
     "data": {
      "image/png": "[encoded data removed]",
      "text/plain": [
       "<Figure size 432x288 with 1 Axes>"
      ]
     },
     "metadata": {
      "needs_background": "light"
     },
     "output_type": "display_data"
    }
   ],
   "source": [
    "plt.hist(sp_twitter['retweet_count'], histtype='step')"
   ]
  },
  {
   "cell_type": "markdown",
   "metadata": {},
   "source": [
    "**Majority of tweets have very low retweets**"
   ]
  },
  {
   "cell_type": "code",
   "execution_count": 545,
   "metadata": {
    "scrolled": true
   },
   "outputs": [
    {
     "data": {
      "text/plain": [
       "(array([480.,  12.,   4.,   2.,   1.,   0.,   0.,   0.,   0.,   1.]),\n",
       " array([  0. ,  16.3,  32.6,  48.9,  65.2,  81.5,  97.8, 114.1, 130.4,\n",
       "        146.7, 163. ]),\n",
       " [<matplotlib.patches.Polygon at 0x7fbaa3fcc390>])"
      ]
     },
     "execution_count": 545,
     "metadata": {},
     "output_type": "execute_result"
    },
    {
     "data": {
      "image/png": "[encoded data removed]",
      "text/plain": [
       "<Figure size 432x288 with 1 Axes>"
      ]
     },
     "metadata": {
      "needs_background": "light"
     },
     "output_type": "display_data"
    }
   ],
   "source": [
    "plt.hist(sp_twitter['favourite_count'], histtype='step')"
   ]
  },
  {
   "cell_type": "markdown",
   "metadata": {},
   "source": [
    "**Majority of tweets have not been favourited**"
   ]
  },
  {
   "cell_type": "markdown",
   "metadata": {},
   "source": [
    "#### 2.1.2.1 SP500 Twitter Sentiment Analysis<a id='2.1.2.1_sp_twitter_sentiment'></a>"
   ]
  },
  {
   "cell_type": "code",
   "execution_count": 546,
   "metadata": {
    "scrolled": false
   },
   "outputs": [
    {
     "data": {
      "text/html": [
       "<div>\n",
       "<style scoped>\n",
       "    .dataframe tbody tr th:only-of-type {\n",
       "        vertical-align: middle;\n",
       "    }\n",
       "\n",
       "    .dataframe tbody tr th {\n",
       "        vertical-align: top;\n",
       "    }\n",
       "\n",
       "    .dataframe thead th {\n",
       "        text-align: right;\n",
       "    }\n",
       "</style>\n",
       "<table border=\"1\" class=\"dataframe\">\n",
       "  <thead>\n",
       "    <tr style=\"text-align: right;\">\n",
       "      <th></th>\n",
       "      <th>created_at</th>\n",
       "      <th>text</th>\n",
       "      <th>retweet_count</th>\n",
       "      <th>favourite_count</th>\n",
       "      <th>date</th>\n",
       "      <th>month</th>\n",
       "      <th>week</th>\n",
       "      <th>day</th>\n",
       "      <th>sentiment</th>\n",
       "    </tr>\n",
       "  </thead>\n",
       "  <tbody>\n",
       "    <tr>\n",
       "      <th>0</th>\n",
       "      <td>2021-08-24 21:52:06</td>\n",
       "      <td>The Nasdaq surpassed the 15,000 level for the ...</td>\n",
       "      <td>34</td>\n",
       "      <td>163</td>\n",
       "      <td>2021-08-24 21:52:06</td>\n",
       "      <td>8</td>\n",
       "      <td>34</td>\n",
       "      <td>24</td>\n",
       "      <td>0.7269</td>\n",
       "    </tr>\n",
       "    <tr>\n",
       "      <th>1</th>\n",
       "      <td>2021-08-25 09:31:14</td>\n",
       "      <td>US stock futures tread water after S&amp;amp;P 500...</td>\n",
       "      <td>9</td>\n",
       "      <td>14</td>\n",
       "      <td>2021-08-25 09:31:14</td>\n",
       "      <td>8</td>\n",
       "      <td>34</td>\n",
       "      <td>25</td>\n",
       "      <td>0.0000</td>\n",
       "    </tr>\n",
       "    <tr>\n",
       "      <th>2</th>\n",
       "      <td>2021-08-25 15:30:06</td>\n",
       "      <td>Join me &amp;amp; my @cfraresearch colleagues for ...</td>\n",
       "      <td>0</td>\n",
       "      <td>0</td>\n",
       "      <td>2021-08-25 15:30:06</td>\n",
       "      <td>8</td>\n",
       "      <td>34</td>\n",
       "      <td>25</td>\n",
       "      <td>0.2960</td>\n",
       "    </tr>\n",
       "    <tr>\n",
       "      <th>3</th>\n",
       "      <td>2021-08-25 15:24:51</td>\n",
       "      <td>@MacroAlf @CyberSpaceGal Based on Pe ratios of...</td>\n",
       "      <td>0</td>\n",
       "      <td>0</td>\n",
       "      <td>2021-08-25 15:24:51</td>\n",
       "      <td>8</td>\n",
       "      <td>34</td>\n",
       "      <td>25</td>\n",
       "      <td>0.4215</td>\n",
       "    </tr>\n",
       "    <tr>\n",
       "      <th>4</th>\n",
       "      <td>2021-08-25 15:22:56</td>\n",
       "      <td>Excess fiscal and #FederalReserve pumped liqui...</td>\n",
       "      <td>0</td>\n",
       "      <td>1</td>\n",
       "      <td>2021-08-25 15:22:56</td>\n",
       "      <td>8</td>\n",
       "      <td>34</td>\n",
       "      <td>25</td>\n",
       "      <td>-0.1513</td>\n",
       "    </tr>\n",
       "  </tbody>\n",
       "</table>\n",
       "</div>"
      ],
      "text/plain": [
       "            created_at                                               text  \\\n",
       "0  2021-08-24 21:52:06  The Nasdaq surpassed the 15,000 level for the ...   \n",
       "1  2021-08-25 09:31:14  US stock futures tread water after S&amp;P 500...   \n",
       "2  2021-08-25 15:30:06  Join me &amp; my @cfraresearch colleagues for ...   \n",
       "3  2021-08-25 15:24:51  @MacroAlf @CyberSpaceGal Based on Pe ratios of...   \n",
       "4  2021-08-25 15:22:56  Excess fiscal and #FederalReserve pumped liqui...   \n",
       "\n",
       "   retweet_count  favourite_count                date  month  week  day  \\\n",
       "0             34              163 2021-08-24 21:52:06      8    34   24   \n",
       "1              9               14 2021-08-25 09:31:14      8    34   25   \n",
       "2              0                0 2021-08-25 15:30:06      8    34   25   \n",
       "3              0                0 2021-08-25 15:24:51      8    34   25   \n",
       "4              0                1 2021-08-25 15:22:56      8    34   25   \n",
       "\n",
       "   sentiment  \n",
       "0     0.7269  \n",
       "1     0.0000  \n",
       "2     0.2960  \n",
       "3     0.4215  \n",
       "4    -0.1513  "
      ]
     },
     "execution_count": 546,
     "metadata": {},
     "output_type": "execute_result"
    }
   ],
   "source": [
    "sid = SentimentIntensityAnalyzer()\n",
    "sentiment_score_sp = sp_twitter['text'].apply(sid.polarity_scores)\n",
    "sp_twitter['sentiment'] = sentiment_score_sp.apply(lambda x : x['compound'])\n",
    "sp_twitter.head()"
   ]
  },
  {
   "cell_type": "markdown",
   "metadata": {},
   "source": [
    "### 2.1.3 JD Stock Price data<a id='2.1.3_jd_price'></a>"
   ]
  },
  {
   "cell_type": "code",
   "execution_count": 547,
   "metadata": {
    "scrolled": true
   },
   "outputs": [
    {
     "data": {
      "text/html": [
       "<div>\n",
       "<style scoped>\n",
       "    .dataframe tbody tr th:only-of-type {\n",
       "        vertical-align: middle;\n",
       "    }\n",
       "\n",
       "    .dataframe tbody tr th {\n",
       "        vertical-align: top;\n",
       "    }\n",
       "\n",
       "    .dataframe thead th {\n",
       "        text-align: right;\n",
       "    }\n",
       "</style>\n",
       "<table border=\"1\" class=\"dataframe\">\n",
       "  <thead>\n",
       "    <tr style=\"text-align: right;\">\n",
       "      <th></th>\n",
       "      <th>Date</th>\n",
       "      <th>Open</th>\n",
       "      <th>High</th>\n",
       "      <th>Low</th>\n",
       "      <th>Close</th>\n",
       "      <th>Adj Close</th>\n",
       "      <th>Volume</th>\n",
       "    </tr>\n",
       "  </thead>\n",
       "  <tbody>\n",
       "    <tr>\n",
       "      <th>0</th>\n",
       "      <td>2019-01-02</td>\n",
       "      <td>20.309999</td>\n",
       "      <td>21.480000</td>\n",
       "      <td>20.180000</td>\n",
       "      <td>21.270000</td>\n",
       "      <td>21.270000</td>\n",
       "      <td>15840000</td>\n",
       "    </tr>\n",
       "    <tr>\n",
       "      <th>1</th>\n",
       "      <td>2019-01-03</td>\n",
       "      <td>20.889999</td>\n",
       "      <td>21.139999</td>\n",
       "      <td>20.250000</td>\n",
       "      <td>20.350000</td>\n",
       "      <td>20.350000</td>\n",
       "      <td>18608000</td>\n",
       "    </tr>\n",
       "    <tr>\n",
       "      <th>2</th>\n",
       "      <td>2019-01-04</td>\n",
       "      <td>20.980000</td>\n",
       "      <td>22.680000</td>\n",
       "      <td>20.750000</td>\n",
       "      <td>22.270000</td>\n",
       "      <td>22.270000</td>\n",
       "      <td>25156900</td>\n",
       "    </tr>\n",
       "    <tr>\n",
       "      <th>3</th>\n",
       "      <td>2019-01-07</td>\n",
       "      <td>22.430000</td>\n",
       "      <td>22.850000</td>\n",
       "      <td>22.260000</td>\n",
       "      <td>22.760000</td>\n",
       "      <td>22.760000</td>\n",
       "      <td>18889800</td>\n",
       "    </tr>\n",
       "    <tr>\n",
       "      <th>4</th>\n",
       "      <td>2019-01-08</td>\n",
       "      <td>22.990000</td>\n",
       "      <td>23.180000</td>\n",
       "      <td>22.434999</td>\n",
       "      <td>22.950001</td>\n",
       "      <td>22.950001</td>\n",
       "      <td>15180400</td>\n",
       "    </tr>\n",
       "  </tbody>\n",
       "</table>\n",
       "</div>"
      ],
      "text/plain": [
       "        Date       Open       High        Low      Close  Adj Close    Volume\n",
       "0 2019-01-02  20.309999  21.480000  20.180000  21.270000  21.270000  15840000\n",
       "1 2019-01-03  20.889999  21.139999  20.250000  20.350000  20.350000  18608000\n",
       "2 2019-01-04  20.980000  22.680000  20.750000  22.270000  22.270000  25156900\n",
       "3 2019-01-07  22.430000  22.850000  22.260000  22.760000  22.760000  18889800\n",
       "4 2019-01-08  22.990000  23.180000  22.434999  22.950001  22.950001  15180400"
      ]
     },
     "execution_count": 547,
     "metadata": {},
     "output_type": "execute_result"
    }
   ],
   "source": [
    "xl = pd.ExcelFile('JD.xlsx')\n",
    "jd_price = xl.parse('Sheet1')\n",
    "jd_price.head()"
   ]
  },
  {
   "cell_type": "code",
   "execution_count": 548,
   "metadata": {
    "scrolled": true
   },
   "outputs": [
    {
     "data": {
      "text/html": [
       "<div>\n",
       "<style scoped>\n",
       "    .dataframe tbody tr th:only-of-type {\n",
       "        vertical-align: middle;\n",
       "    }\n",
       "\n",
       "    .dataframe tbody tr th {\n",
       "        vertical-align: top;\n",
       "    }\n",
       "\n",
       "    .dataframe thead th {\n",
       "        text-align: right;\n",
       "    }\n",
       "</style>\n",
       "<table border=\"1\" class=\"dataframe\">\n",
       "  <thead>\n",
       "    <tr style=\"text-align: right;\">\n",
       "      <th></th>\n",
       "      <th>Open</th>\n",
       "      <th>High</th>\n",
       "      <th>Low</th>\n",
       "      <th>Close</th>\n",
       "      <th>Adj Close</th>\n",
       "      <th>Volume</th>\n",
       "    </tr>\n",
       "    <tr>\n",
       "      <th>Date</th>\n",
       "      <th></th>\n",
       "      <th></th>\n",
       "      <th></th>\n",
       "      <th></th>\n",
       "      <th></th>\n",
       "      <th></th>\n",
       "    </tr>\n",
       "  </thead>\n",
       "  <tbody>\n",
       "    <tr>\n",
       "      <th>2021-08-31</th>\n",
       "      <td>78.080002</td>\n",
       "      <td>80.559998</td>\n",
       "      <td>77.300003</td>\n",
       "      <td>78.559998</td>\n",
       "      <td>78.559998</td>\n",
       "      <td>13038300</td>\n",
       "    </tr>\n",
       "    <tr>\n",
       "      <th>2021-08-30</th>\n",
       "      <td>75.148003</td>\n",
       "      <td>76.968002</td>\n",
       "      <td>74.290001</td>\n",
       "      <td>76.690002</td>\n",
       "      <td>76.690002</td>\n",
       "      <td>7979900</td>\n",
       "    </tr>\n",
       "    <tr>\n",
       "      <th>2021-08-27</th>\n",
       "      <td>77.250000</td>\n",
       "      <td>78.120003</td>\n",
       "      <td>75.809998</td>\n",
       "      <td>76.430000</td>\n",
       "      <td>76.430000</td>\n",
       "      <td>12965300</td>\n",
       "    </tr>\n",
       "    <tr>\n",
       "      <th>2021-08-26</th>\n",
       "      <td>76.190002</td>\n",
       "      <td>77.473000</td>\n",
       "      <td>75.805000</td>\n",
       "      <td>77.040001</td>\n",
       "      <td>77.040001</td>\n",
       "      <td>11581100</td>\n",
       "    </tr>\n",
       "    <tr>\n",
       "      <th>2021-08-25</th>\n",
       "      <td>74.750000</td>\n",
       "      <td>76.300003</td>\n",
       "      <td>73.730003</td>\n",
       "      <td>76.139999</td>\n",
       "      <td>76.139999</td>\n",
       "      <td>11311900</td>\n",
       "    </tr>\n",
       "  </tbody>\n",
       "</table>\n",
       "</div>"
      ],
      "text/plain": [
       "                 Open       High        Low      Close  Adj Close    Volume\n",
       "Date                                                                       \n",
       "2021-08-31  78.080002  80.559998  77.300003  78.559998  78.559998  13038300\n",
       "2021-08-30  75.148003  76.968002  74.290001  76.690002  76.690002   7979900\n",
       "2021-08-27  77.250000  78.120003  75.809998  76.430000  76.430000  12965300\n",
       "2021-08-26  76.190002  77.473000  75.805000  77.040001  77.040001  11581100\n",
       "2021-08-25  74.750000  76.300003  73.730003  76.139999  76.139999  11311900"
      ]
     },
     "execution_count": 548,
     "metadata": {},
     "output_type": "execute_result"
    }
   ],
   "source": [
    "jd_price = jd_price.set_index('Date')\n",
    "jd_price.sort_index(ascending=False).head()"
   ]
  },
  {
   "cell_type": "code",
   "execution_count": 549,
   "metadata": {
    "scrolled": false
   },
   "outputs": [
    {
     "data": {
      "text/plain": [
       "<AxesSubplot:xlabel='Date'>"
      ]
     },
     "execution_count": 549,
     "metadata": {},
     "output_type": "execute_result"
    },
    {
     "data": {
      "image/png": "[encoded data removed]",
      "text/plain": [
       "<Figure size 432x288 with 1 Axes>"
      ]
     },
     "metadata": {
      "needs_background": "light"
     },
     "output_type": "display_data"
    }
   ],
   "source": [
    "jd_price['Adj Close'].plot()"
   ]
  },
  {
   "cell_type": "code",
   "execution_count": 550,
   "metadata": {
    "scrolled": true
   },
   "outputs": [
    {
     "data": {
      "text/plain": [
       "<AxesSubplot:xlabel='Date'>"
      ]
     },
     "execution_count": 550,
     "metadata": {},
     "output_type": "execute_result"
    },
    {
     "data": {
      "image/png": "[encoded data removed]",
      "text/plain": [
       "<Figure size 432x288 with 1 Axes>"
      ]
     },
     "metadata": {
      "needs_background": "light"
     },
     "output_type": "display_data"
    }
   ],
   "source": [
    "jd_price['Volume'].plot()"
   ]
  },
  {
   "cell_type": "markdown",
   "metadata": {},
   "source": [
    "This is interesting. There appears to be cyclical spikes in volume. These spikes could be due to investitutional investor activity and hedging from dealers"
   ]
  },
  {
   "cell_type": "code",
   "execution_count": 551,
   "metadata": {
    "scrolled": false
   },
   "outputs": [
    {
     "data": {
      "text/html": [
       "<div>\n",
       "<style scoped>\n",
       "    .dataframe tbody tr th:only-of-type {\n",
       "        vertical-align: middle;\n",
       "    }\n",
       "\n",
       "    .dataframe tbody tr th {\n",
       "        vertical-align: top;\n",
       "    }\n",
       "\n",
       "    .dataframe thead th {\n",
       "        text-align: right;\n",
       "    }\n",
       "</style>\n",
       "<table border=\"1\" class=\"dataframe\">\n",
       "  <thead>\n",
       "    <tr style=\"text-align: right;\">\n",
       "      <th></th>\n",
       "      <th>Open</th>\n",
       "      <th>High</th>\n",
       "      <th>Low</th>\n",
       "      <th>Close</th>\n",
       "      <th>Adj Close</th>\n",
       "      <th>Volume</th>\n",
       "      <th>high_minus_low</th>\n",
       "    </tr>\n",
       "    <tr>\n",
       "      <th>Date</th>\n",
       "      <th></th>\n",
       "      <th></th>\n",
       "      <th></th>\n",
       "      <th></th>\n",
       "      <th></th>\n",
       "      <th></th>\n",
       "      <th></th>\n",
       "    </tr>\n",
       "  </thead>\n",
       "  <tbody>\n",
       "    <tr>\n",
       "      <th>2019-01-02</th>\n",
       "      <td>20.309999</td>\n",
       "      <td>21.480000</td>\n",
       "      <td>20.180000</td>\n",
       "      <td>21.270000</td>\n",
       "      <td>21.270000</td>\n",
       "      <td>15840000</td>\n",
       "      <td>1.299999</td>\n",
       "    </tr>\n",
       "    <tr>\n",
       "      <th>2019-01-03</th>\n",
       "      <td>20.889999</td>\n",
       "      <td>21.139999</td>\n",
       "      <td>20.250000</td>\n",
       "      <td>20.350000</td>\n",
       "      <td>20.350000</td>\n",
       "      <td>18608000</td>\n",
       "      <td>0.889999</td>\n",
       "    </tr>\n",
       "    <tr>\n",
       "      <th>2019-01-04</th>\n",
       "      <td>20.980000</td>\n",
       "      <td>22.680000</td>\n",
       "      <td>20.750000</td>\n",
       "      <td>22.270000</td>\n",
       "      <td>22.270000</td>\n",
       "      <td>25156900</td>\n",
       "      <td>1.930000</td>\n",
       "    </tr>\n",
       "    <tr>\n",
       "      <th>2019-01-07</th>\n",
       "      <td>22.430000</td>\n",
       "      <td>22.850000</td>\n",
       "      <td>22.260000</td>\n",
       "      <td>22.760000</td>\n",
       "      <td>22.760000</td>\n",
       "      <td>18889800</td>\n",
       "      <td>0.590000</td>\n",
       "    </tr>\n",
       "    <tr>\n",
       "      <th>2019-01-08</th>\n",
       "      <td>22.990000</td>\n",
       "      <td>23.180000</td>\n",
       "      <td>22.434999</td>\n",
       "      <td>22.950001</td>\n",
       "      <td>22.950001</td>\n",
       "      <td>15180400</td>\n",
       "      <td>0.745001</td>\n",
       "    </tr>\n",
       "  </tbody>\n",
       "</table>\n",
       "</div>"
      ],
      "text/plain": [
       "                 Open       High        Low      Close  Adj Close    Volume  \\\n",
       "Date                                                                          \n",
       "2019-01-02  20.309999  21.480000  20.180000  21.270000  21.270000  15840000   \n",
       "2019-01-03  20.889999  21.139999  20.250000  20.350000  20.350000  18608000   \n",
       "2019-01-04  20.980000  22.680000  20.750000  22.270000  22.270000  25156900   \n",
       "2019-01-07  22.430000  22.850000  22.260000  22.760000  22.760000  18889800   \n",
       "2019-01-08  22.990000  23.180000  22.434999  22.950001  22.950001  15180400   \n",
       "\n",
       "            high_minus_low  \n",
       "Date                        \n",
       "2019-01-02        1.299999  \n",
       "2019-01-03        0.889999  \n",
       "2019-01-04        1.930000  \n",
       "2019-01-07        0.590000  \n",
       "2019-01-08        0.745001  "
      ]
     },
     "execution_count": 551,
     "metadata": {},
     "output_type": "execute_result"
    }
   ],
   "source": [
    "# Lets look at the difference between the daily high and daily low\n",
    "\n",
    "jd_price['high_minus_low'] = jd_price['High'] - jd_price['Low']\n",
    "jd_price.head()"
   ]
  },
  {
   "cell_type": "code",
   "execution_count": 552,
   "metadata": {
    "scrolled": false
   },
   "outputs": [
    {
     "data": {
      "text/plain": [
       "(array([232., 184., 140.,  63.,  24.,  17.,   6.,   3.,   1.,   2.]),\n",
       " array([0.29500008, 1.11149998, 1.92799988, 2.74449978, 3.56099968,\n",
       "        4.37749958, 5.19399948, 6.01049938, 6.82699928, 7.64349918,\n",
       "        8.45999908]),\n",
       " [<matplotlib.patches.Polygon at 0x7fba79903a90>])"
      ]
     },
     "execution_count": 552,
     "metadata": {},
     "output_type": "execute_result"
    },
    {
     "data": {
      "image/png": "[encoded data removed]",
      "text/plain": [
       "<Figure size 432x288 with 1 Axes>"
      ]
     },
     "metadata": {
      "needs_background": "light"
     },
     "output_type": "display_data"
    }
   ],
   "source": [
    "# Plot distribution of high_minus_low\n",
    "\n",
    "plt.hist(jd_price['high_minus_low'], histtype='step')"
   ]
  },
  {
   "cell_type": "code",
   "execution_count": 553,
   "metadata": {
    "scrolled": false
   },
   "outputs": [
    {
     "data": {
      "text/html": [
       "<div>\n",
       "<style scoped>\n",
       "    .dataframe tbody tr th:only-of-type {\n",
       "        vertical-align: middle;\n",
       "    }\n",
       "\n",
       "    .dataframe tbody tr th {\n",
       "        vertical-align: top;\n",
       "    }\n",
       "\n",
       "    .dataframe thead th {\n",
       "        text-align: right;\n",
       "    }\n",
       "</style>\n",
       "<table border=\"1\" class=\"dataframe\">\n",
       "  <thead>\n",
       "    <tr style=\"text-align: right;\">\n",
       "      <th></th>\n",
       "      <th>Open</th>\n",
       "      <th>High</th>\n",
       "      <th>Low</th>\n",
       "      <th>Close</th>\n",
       "      <th>Adj Close</th>\n",
       "      <th>Volume</th>\n",
       "      <th>high_minus_low</th>\n",
       "      <th>high_minus_low_pct_open</th>\n",
       "    </tr>\n",
       "    <tr>\n",
       "      <th>Date</th>\n",
       "      <th></th>\n",
       "      <th></th>\n",
       "      <th></th>\n",
       "      <th></th>\n",
       "      <th></th>\n",
       "      <th></th>\n",
       "      <th></th>\n",
       "      <th></th>\n",
       "    </tr>\n",
       "  </thead>\n",
       "  <tbody>\n",
       "    <tr>\n",
       "      <th>2019-01-02</th>\n",
       "      <td>20.309999</td>\n",
       "      <td>21.480000</td>\n",
       "      <td>20.180000</td>\n",
       "      <td>21.270000</td>\n",
       "      <td>21.270000</td>\n",
       "      <td>15840000</td>\n",
       "      <td>1.299999</td>\n",
       "      <td>6.400784</td>\n",
       "    </tr>\n",
       "    <tr>\n",
       "      <th>2019-01-03</th>\n",
       "      <td>20.889999</td>\n",
       "      <td>21.139999</td>\n",
       "      <td>20.250000</td>\n",
       "      <td>20.350000</td>\n",
       "      <td>20.350000</td>\n",
       "      <td>18608000</td>\n",
       "      <td>0.889999</td>\n",
       "      <td>4.260409</td>\n",
       "    </tr>\n",
       "    <tr>\n",
       "      <th>2019-01-04</th>\n",
       "      <td>20.980000</td>\n",
       "      <td>22.680000</td>\n",
       "      <td>20.750000</td>\n",
       "      <td>22.270000</td>\n",
       "      <td>22.270000</td>\n",
       "      <td>25156900</td>\n",
       "      <td>1.930000</td>\n",
       "      <td>9.199239</td>\n",
       "    </tr>\n",
       "    <tr>\n",
       "      <th>2019-01-07</th>\n",
       "      <td>22.430000</td>\n",
       "      <td>22.850000</td>\n",
       "      <td>22.260000</td>\n",
       "      <td>22.760000</td>\n",
       "      <td>22.760000</td>\n",
       "      <td>18889800</td>\n",
       "      <td>0.590000</td>\n",
       "      <td>2.630406</td>\n",
       "    </tr>\n",
       "    <tr>\n",
       "      <th>2019-01-08</th>\n",
       "      <td>22.990000</td>\n",
       "      <td>23.180000</td>\n",
       "      <td>22.434999</td>\n",
       "      <td>22.950001</td>\n",
       "      <td>22.950001</td>\n",
       "      <td>15180400</td>\n",
       "      <td>0.745001</td>\n",
       "      <td>3.240543</td>\n",
       "    </tr>\n",
       "  </tbody>\n",
       "</table>\n",
       "</div>"
      ],
      "text/plain": [
       "                 Open       High        Low      Close  Adj Close    Volume  \\\n",
       "Date                                                                          \n",
       "2019-01-02  20.309999  21.480000  20.180000  21.270000  21.270000  15840000   \n",
       "2019-01-03  20.889999  21.139999  20.250000  20.350000  20.350000  18608000   \n",
       "2019-01-04  20.980000  22.680000  20.750000  22.270000  22.270000  25156900   \n",
       "2019-01-07  22.430000  22.850000  22.260000  22.760000  22.760000  18889800   \n",
       "2019-01-08  22.990000  23.180000  22.434999  22.950001  22.950001  15180400   \n",
       "\n",
       "            high_minus_low  high_minus_low_pct_open  \n",
       "Date                                                 \n",
       "2019-01-02        1.299999                 6.400784  \n",
       "2019-01-03        0.889999                 4.260409  \n",
       "2019-01-04        1.930000                 9.199239  \n",
       "2019-01-07        0.590000                 2.630406  \n",
       "2019-01-08        0.745001                 3.240543  "
      ]
     },
     "execution_count": 553,
     "metadata": {},
     "output_type": "execute_result"
    }
   ],
   "source": [
    "# Lets create high_minus_low as a percentage of opening price to see if we get a different distribution\n",
    "\n",
    "jd_price['high_minus_low_pct_open'] = (jd_price['High'] - jd_price['Low'])/jd_price['Open'] * 100\n",
    "jd_price.head()"
   ]
  },
  {
   "cell_type": "code",
   "execution_count": 554,
   "metadata": {
    "scrolled": false
   },
   "outputs": [
    {
     "data": {
      "text/plain": [
       "(array([225., 298.,  85.,  46.,   9.,   8.,   0.,   0.,   0.,   1.]),\n",
       " array([ 0.87818007,  2.51335311,  4.14852615,  5.78369918,  7.41887222,\n",
       "         9.05404526, 10.68921829, 12.32439133, 13.95956437, 15.5947374 ,\n",
       "        17.22991044]),\n",
       " [<matplotlib.patches.Polygon at 0x7fbac4397890>])"
      ]
     },
     "execution_count": 554,
     "metadata": {},
     "output_type": "execute_result"
    },
    {
     "data": {
      "image/png": "[encoded data removed]",
      "text/plain": [
       "<Figure size 432x288 with 1 Axes>"
      ]
     },
     "metadata": {
      "needs_background": "light"
     },
     "output_type": "display_data"
    }
   ],
   "source": [
    "# Plot distribution of high_minus_low_pct\n",
    "\n",
    "plt.hist(jd_price['high_minus_low_pct_open'], histtype='step')"
   ]
  },
  {
   "cell_type": "code",
   "execution_count": 555,
   "metadata": {
    "scrolled": true
   },
   "outputs": [
    {
     "data": {
      "text/plain": [
       "<AxesSubplot:xlabel='Date'>"
      ]
     },
     "execution_count": 555,
     "metadata": {},
     "output_type": "execute_result"
    },
    {
     "data": {
      "image/png": "[encoded data removed]",
      "text/plain": [
       "<Figure size 432x288 with 1 Axes>"
      ]
     },
     "metadata": {
      "needs_background": "light"
     },
     "output_type": "display_data"
    }
   ],
   "source": [
    "jd_price['high_minus_low_pct_open'].plot()"
   ]
  },
  {
   "cell_type": "code",
   "execution_count": 556,
   "metadata": {
    "scrolled": true
   },
   "outputs": [
    {
     "data": {
      "text/html": [
       "<div>\n",
       "<style scoped>\n",
       "    .dataframe tbody tr th:only-of-type {\n",
       "        vertical-align: middle;\n",
       "    }\n",
       "\n",
       "    .dataframe tbody tr th {\n",
       "        vertical-align: top;\n",
       "    }\n",
       "\n",
       "    .dataframe thead th {\n",
       "        text-align: right;\n",
       "    }\n",
       "</style>\n",
       "<table border=\"1\" class=\"dataframe\">\n",
       "  <thead>\n",
       "    <tr style=\"text-align: right;\">\n",
       "      <th></th>\n",
       "      <th>Open</th>\n",
       "      <th>High</th>\n",
       "      <th>Low</th>\n",
       "      <th>Close</th>\n",
       "      <th>Adj Close</th>\n",
       "      <th>Volume</th>\n",
       "      <th>high_minus_low</th>\n",
       "      <th>high_minus_low_pct_open</th>\n",
       "      <th>high_minus_low_pct_adjclose</th>\n",
       "    </tr>\n",
       "    <tr>\n",
       "      <th>Date</th>\n",
       "      <th></th>\n",
       "      <th></th>\n",
       "      <th></th>\n",
       "      <th></th>\n",
       "      <th></th>\n",
       "      <th></th>\n",
       "      <th></th>\n",
       "      <th></th>\n",
       "      <th></th>\n",
       "    </tr>\n",
       "  </thead>\n",
       "  <tbody>\n",
       "    <tr>\n",
       "      <th>2019-01-02</th>\n",
       "      <td>20.309999</td>\n",
       "      <td>21.480000</td>\n",
       "      <td>20.180000</td>\n",
       "      <td>21.270000</td>\n",
       "      <td>21.270000</td>\n",
       "      <td>15840000</td>\n",
       "      <td>1.299999</td>\n",
       "      <td>6.400784</td>\n",
       "      <td>6.111891</td>\n",
       "    </tr>\n",
       "    <tr>\n",
       "      <th>2019-01-03</th>\n",
       "      <td>20.889999</td>\n",
       "      <td>21.139999</td>\n",
       "      <td>20.250000</td>\n",
       "      <td>20.350000</td>\n",
       "      <td>20.350000</td>\n",
       "      <td>18608000</td>\n",
       "      <td>0.889999</td>\n",
       "      <td>4.260409</td>\n",
       "      <td>4.373461</td>\n",
       "    </tr>\n",
       "    <tr>\n",
       "      <th>2019-01-04</th>\n",
       "      <td>20.980000</td>\n",
       "      <td>22.680000</td>\n",
       "      <td>20.750000</td>\n",
       "      <td>22.270000</td>\n",
       "      <td>22.270000</td>\n",
       "      <td>25156900</td>\n",
       "      <td>1.930000</td>\n",
       "      <td>9.199239</td>\n",
       "      <td>8.666369</td>\n",
       "    </tr>\n",
       "    <tr>\n",
       "      <th>2019-01-07</th>\n",
       "      <td>22.430000</td>\n",
       "      <td>22.850000</td>\n",
       "      <td>22.260000</td>\n",
       "      <td>22.760000</td>\n",
       "      <td>22.760000</td>\n",
       "      <td>18889800</td>\n",
       "      <td>0.590000</td>\n",
       "      <td>2.630406</td>\n",
       "      <td>2.592268</td>\n",
       "    </tr>\n",
       "    <tr>\n",
       "      <th>2019-01-08</th>\n",
       "      <td>22.990000</td>\n",
       "      <td>23.180000</td>\n",
       "      <td>22.434999</td>\n",
       "      <td>22.950001</td>\n",
       "      <td>22.950001</td>\n",
       "      <td>15180400</td>\n",
       "      <td>0.745001</td>\n",
       "      <td>3.240543</td>\n",
       "      <td>3.246191</td>\n",
       "    </tr>\n",
       "  </tbody>\n",
       "</table>\n",
       "</div>"
      ],
      "text/plain": [
       "                 Open       High        Low      Close  Adj Close    Volume  \\\n",
       "Date                                                                          \n",
       "2019-01-02  20.309999  21.480000  20.180000  21.270000  21.270000  15840000   \n",
       "2019-01-03  20.889999  21.139999  20.250000  20.350000  20.350000  18608000   \n",
       "2019-01-04  20.980000  22.680000  20.750000  22.270000  22.270000  25156900   \n",
       "2019-01-07  22.430000  22.850000  22.260000  22.760000  22.760000  18889800   \n",
       "2019-01-08  22.990000  23.180000  22.434999  22.950001  22.950001  15180400   \n",
       "\n",
       "            high_minus_low  high_minus_low_pct_open  \\\n",
       "Date                                                  \n",
       "2019-01-02        1.299999                 6.400784   \n",
       "2019-01-03        0.889999                 4.260409   \n",
       "2019-01-04        1.930000                 9.199239   \n",
       "2019-01-07        0.590000                 2.630406   \n",
       "2019-01-08        0.745001                 3.240543   \n",
       "\n",
       "            high_minus_low_pct_adjclose  \n",
       "Date                                     \n",
       "2019-01-02                     6.111891  \n",
       "2019-01-03                     4.373461  \n",
       "2019-01-04                     8.666369  \n",
       "2019-01-07                     2.592268  \n",
       "2019-01-08                     3.246191  "
      ]
     },
     "execution_count": 556,
     "metadata": {},
     "output_type": "execute_result"
    }
   ],
   "source": [
    "# Lets create high_minus_low as a percentage of Adj Close price to see if we get a different distribution\n",
    "\n",
    "jd_price['high_minus_low_pct_adjclose'] = (jd_price['High'] - jd_price['Low'])/jd_price['Adj Close'] * 100\n",
    "jd_price.head()"
   ]
  },
  {
   "cell_type": "code",
   "execution_count": 557,
   "metadata": {
    "scrolled": true
   },
   "outputs": [
    {
     "data": {
      "text/plain": [
       "(array([241., 288.,  86.,  42.,   9.,   5.,   0.,   0.,   0.,   1.]),\n",
       " array([ 0.87992496,  2.55697137,  4.23401778,  5.91106419,  7.5881106 ,\n",
       "         9.26515702, 10.94220343, 12.61924984, 14.29629625, 15.97334266,\n",
       "        17.65038907]),\n",
       " [<matplotlib.patches.Polygon at 0x7fbac4483a50>])"
      ]
     },
     "execution_count": 557,
     "metadata": {},
     "output_type": "execute_result"
    },
    {
     "data": {
      "image/png": "[encoded data removed]",
      "text/plain": [
       "<Figure size 432x288 with 1 Axes>"
      ]
     },
     "metadata": {
      "needs_background": "light"
     },
     "output_type": "display_data"
    }
   ],
   "source": [
    "# Plot distribution of high_minus_low_pct\n",
    "\n",
    "plt.hist(jd_price['high_minus_low_pct_adjclose'], histtype='step')"
   ]
  },
  {
   "cell_type": "code",
   "execution_count": 558,
   "metadata": {
    "scrolled": false
   },
   "outputs": [
    {
     "data": {
      "text/plain": [
       "<AxesSubplot:xlabel='Date'>"
      ]
     },
     "execution_count": 558,
     "metadata": {},
     "output_type": "execute_result"
    },
    {
     "data": {
      "image/png": "[encoded data removed]",
      "text/plain": [
       "<Figure size 432x288 with 1 Axes>"
      ]
     },
     "metadata": {
      "needs_background": "light"
     },
     "output_type": "display_data"
    }
   ],
   "source": [
    "jd_price['high_minus_low_pct_adjclose'].plot()"
   ]
  },
  {
   "cell_type": "markdown",
   "metadata": {},
   "source": [
    "There isn't much of a difference between open and close so we will go with adjclose since we need to wait for the day to finish anyways to get the high and low metric"
   ]
  },
  {
   "cell_type": "code",
   "execution_count": 559,
   "metadata": {
    "scrolled": true
   },
   "outputs": [],
   "source": [
    "jd_price = jd_price.drop('high_minus_low_pct_open', axis=1)"
   ]
  },
  {
   "cell_type": "markdown",
   "metadata": {},
   "source": [
    "#### 2.1.3.1 JD Time Series Feature Engineering<a id='2.1.3.1_jd_ts_feature_eng'></a>"
   ]
  },
  {
   "cell_type": "code",
   "execution_count": 560,
   "metadata": {
    "scrolled": true
   },
   "outputs": [],
   "source": [
    "jd_price['lagged_1'] = jd_price['Adj Close'].shift(-1)     # create 1 day lag variable\n",
    "jd_price['lagged_5'] = jd_price['Adj Close'].shift(-5)     # create 5 day lag variable\n",
    "jd_price['lagged_10'] = jd_price['Adj Close'].shift(-10)   # create 10 day lag variable\n",
    "jd_price['lagged_20'] = jd_price['Adj Close'].shift(-20)   # create 20 day lag variable\n",
    "\n",
    "# Create shifted variables\n",
    "\n",
    "jd_price['shifted_1'] = jd_price['Adj Close'].shift(1)     # create 1 day shifted variable\n",
    "jd_price['shifted_5'] = jd_price['Adj Close'].shift(5)     # create 5 day shifted variable\n",
    "jd_price['shifted_10'] = jd_price['Adj Close'].shift(10)   # create 10 day shifted variable\n",
    "jd_price['shifted_20'] = jd_price['Adj Close'].shift(20)   # create 20 day shifted variable\n",
    "\n",
    "# Calculate returns\n",
    "\n",
    "jd_price['pct_change_1'] = jd_price['Adj Close'].pct_change(1).mul(100)     \n",
    "jd_price['pct_change_5'] = jd_price['Adj Close'].pct_change(5).mul(100)     \n",
    "jd_price['pct_change_10'] = jd_price['Adj Close'].pct_change(10).mul(100)   \n",
    "jd_price['pct_change_20'] = jd_price['Adj Close'].pct_change(20).mul(100)\n",
    "\n",
    "# Rolling window metrics, these moving averages are typically important to technical traders\n",
    "\n",
    "jd_price['50_ma'] = jd_price['Adj Close'].rolling(window=50).mean()\n",
    "jd_price['100_ma'] = jd_price['Adj Close'].rolling(window=100).mean()\n",
    "jd_price['200_ma'] = jd_price['Adj Close'].rolling(window=200).mean()\n",
    "\n",
    "# Rolling window metrics, moving standard deviation \n",
    "\n",
    "jd_price['50_std'] = jd_price['Adj Close'].rolling(window=50).std()\n",
    "jd_price['100_std'] = jd_price['Adj Close'].rolling(window=100).std()\n",
    "jd_price['200_std'] = jd_price['Adj Close'].rolling(window=200).std()\n",
    "\n",
    "# Cumulative return\n",
    "\n",
    "jd_price['cumulative_return'] = jd_price['Adj Close'].pct_change(1).add(1).cumprod().sub(1).mul(100)"
   ]
  },
  {
   "cell_type": "code",
   "execution_count": 561,
   "metadata": {
    "scrolled": false
   },
   "outputs": [
    {
     "data": {
      "text/html": [
       "<div>\n",
       "<style scoped>\n",
       "    .dataframe tbody tr th:only-of-type {\n",
       "        vertical-align: middle;\n",
       "    }\n",
       "\n",
       "    .dataframe tbody tr th {\n",
       "        vertical-align: top;\n",
       "    }\n",
       "\n",
       "    .dataframe thead th {\n",
       "        text-align: right;\n",
       "    }\n",
       "</style>\n",
       "<table border=\"1\" class=\"dataframe\">\n",
       "  <thead>\n",
       "    <tr style=\"text-align: right;\">\n",
       "      <th></th>\n",
       "      <th>Open</th>\n",
       "      <th>High</th>\n",
       "      <th>Low</th>\n",
       "      <th>Close</th>\n",
       "      <th>Adj Close</th>\n",
       "      <th>Volume</th>\n",
       "      <th>high_minus_low</th>\n",
       "      <th>high_minus_low_pct_adjclose</th>\n",
       "      <th>lagged_1</th>\n",
       "      <th>lagged_5</th>\n",
       "      <th>...</th>\n",
       "      <th>pct_change_5</th>\n",
       "      <th>pct_change_10</th>\n",
       "      <th>pct_change_20</th>\n",
       "      <th>50_ma</th>\n",
       "      <th>100_ma</th>\n",
       "      <th>200_ma</th>\n",
       "      <th>50_std</th>\n",
       "      <th>100_std</th>\n",
       "      <th>200_std</th>\n",
       "      <th>cumulative_return</th>\n",
       "    </tr>\n",
       "    <tr>\n",
       "      <th>Date</th>\n",
       "      <th></th>\n",
       "      <th></th>\n",
       "      <th></th>\n",
       "      <th></th>\n",
       "      <th></th>\n",
       "      <th></th>\n",
       "      <th></th>\n",
       "      <th></th>\n",
       "      <th></th>\n",
       "      <th></th>\n",
       "      <th></th>\n",
       "      <th></th>\n",
       "      <th></th>\n",
       "      <th></th>\n",
       "      <th></th>\n",
       "      <th></th>\n",
       "      <th></th>\n",
       "      <th></th>\n",
       "      <th></th>\n",
       "      <th></th>\n",
       "      <th></th>\n",
       "    </tr>\n",
       "  </thead>\n",
       "  <tbody>\n",
       "    <tr>\n",
       "      <th>2019-01-02</th>\n",
       "      <td>20.309999</td>\n",
       "      <td>21.480000</td>\n",
       "      <td>20.180000</td>\n",
       "      <td>21.270000</td>\n",
       "      <td>21.270000</td>\n",
       "      <td>15840000</td>\n",
       "      <td>1.299999</td>\n",
       "      <td>6.111891</td>\n",
       "      <td>20.350000</td>\n",
       "      <td>23.690001</td>\n",
       "      <td>...</td>\n",
       "      <td>NaN</td>\n",
       "      <td>NaN</td>\n",
       "      <td>NaN</td>\n",
       "      <td>NaN</td>\n",
       "      <td>NaN</td>\n",
       "      <td>NaN</td>\n",
       "      <td>NaN</td>\n",
       "      <td>NaN</td>\n",
       "      <td>NaN</td>\n",
       "      <td>NaN</td>\n",
       "    </tr>\n",
       "    <tr>\n",
       "      <th>2019-01-03</th>\n",
       "      <td>20.889999</td>\n",
       "      <td>21.139999</td>\n",
       "      <td>20.250000</td>\n",
       "      <td>20.350000</td>\n",
       "      <td>20.350000</td>\n",
       "      <td>18608000</td>\n",
       "      <td>0.889999</td>\n",
       "      <td>4.373461</td>\n",
       "      <td>22.270000</td>\n",
       "      <td>23.400000</td>\n",
       "      <td>...</td>\n",
       "      <td>NaN</td>\n",
       "      <td>NaN</td>\n",
       "      <td>NaN</td>\n",
       "      <td>NaN</td>\n",
       "      <td>NaN</td>\n",
       "      <td>NaN</td>\n",
       "      <td>NaN</td>\n",
       "      <td>NaN</td>\n",
       "      <td>NaN</td>\n",
       "      <td>-4.325341</td>\n",
       "    </tr>\n",
       "    <tr>\n",
       "      <th>2019-01-04</th>\n",
       "      <td>20.980000</td>\n",
       "      <td>22.680000</td>\n",
       "      <td>20.750000</td>\n",
       "      <td>22.270000</td>\n",
       "      <td>22.270000</td>\n",
       "      <td>25156900</td>\n",
       "      <td>1.930000</td>\n",
       "      <td>8.666369</td>\n",
       "      <td>22.760000</td>\n",
       "      <td>22.879999</td>\n",
       "      <td>...</td>\n",
       "      <td>NaN</td>\n",
       "      <td>NaN</td>\n",
       "      <td>NaN</td>\n",
       "      <td>NaN</td>\n",
       "      <td>NaN</td>\n",
       "      <td>NaN</td>\n",
       "      <td>NaN</td>\n",
       "      <td>NaN</td>\n",
       "      <td>NaN</td>\n",
       "      <td>4.701457</td>\n",
       "    </tr>\n",
       "    <tr>\n",
       "      <th>2019-01-07</th>\n",
       "      <td>22.430000</td>\n",
       "      <td>22.850000</td>\n",
       "      <td>22.260000</td>\n",
       "      <td>22.760000</td>\n",
       "      <td>22.760000</td>\n",
       "      <td>18889800</td>\n",
       "      <td>0.590000</td>\n",
       "      <td>2.592268</td>\n",
       "      <td>22.950001</td>\n",
       "      <td>22.040001</td>\n",
       "      <td>...</td>\n",
       "      <td>NaN</td>\n",
       "      <td>NaN</td>\n",
       "      <td>NaN</td>\n",
       "      <td>NaN</td>\n",
       "      <td>NaN</td>\n",
       "      <td>NaN</td>\n",
       "      <td>NaN</td>\n",
       "      <td>NaN</td>\n",
       "      <td>NaN</td>\n",
       "      <td>7.005170</td>\n",
       "    </tr>\n",
       "    <tr>\n",
       "      <th>2019-01-08</th>\n",
       "      <td>22.990000</td>\n",
       "      <td>23.180000</td>\n",
       "      <td>22.434999</td>\n",
       "      <td>22.950001</td>\n",
       "      <td>22.950001</td>\n",
       "      <td>15180400</td>\n",
       "      <td>0.745001</td>\n",
       "      <td>3.246191</td>\n",
       "      <td>23.690001</td>\n",
       "      <td>22.250000</td>\n",
       "      <td>...</td>\n",
       "      <td>NaN</td>\n",
       "      <td>NaN</td>\n",
       "      <td>NaN</td>\n",
       "      <td>NaN</td>\n",
       "      <td>NaN</td>\n",
       "      <td>NaN</td>\n",
       "      <td>NaN</td>\n",
       "      <td>NaN</td>\n",
       "      <td>NaN</td>\n",
       "      <td>7.898450</td>\n",
       "    </tr>\n",
       "  </tbody>\n",
       "</table>\n",
       "<p>5 rows × 27 columns</p>\n",
       "</div>"
      ],
      "text/plain": [
       "                 Open       High        Low      Close  Adj Close    Volume  \\\n",
       "Date                                                                          \n",
       "2019-01-02  20.309999  21.480000  20.180000  21.270000  21.270000  15840000   \n",
       "2019-01-03  20.889999  21.139999  20.250000  20.350000  20.350000  18608000   \n",
       "2019-01-04  20.980000  22.680000  20.750000  22.270000  22.270000  25156900   \n",
       "2019-01-07  22.430000  22.850000  22.260000  22.760000  22.760000  18889800   \n",
       "2019-01-08  22.990000  23.180000  22.434999  22.950001  22.950001  15180400   \n",
       "\n",
       "            high_minus_low  high_minus_low_pct_adjclose   lagged_1   lagged_5  \\\n",
       "Date                                                                            \n",
       "2019-01-02        1.299999                     6.111891  20.350000  23.690001   \n",
       "2019-01-03        0.889999                     4.373461  22.270000  23.400000   \n",
       "2019-01-04        1.930000                     8.666369  22.760000  22.879999   \n",
       "2019-01-07        0.590000                     2.592268  22.950001  22.040001   \n",
       "2019-01-08        0.745001                     3.246191  23.690001  22.250000   \n",
       "\n",
       "            ...  pct_change_5  pct_change_10  pct_change_20  50_ma  100_ma  \\\n",
       "Date        ...                                                              \n",
       "2019-01-02  ...           NaN            NaN            NaN    NaN     NaN   \n",
       "2019-01-03  ...           NaN            NaN            NaN    NaN     NaN   \n",
       "2019-01-04  ...           NaN            NaN            NaN    NaN     NaN   \n",
       "2019-01-07  ...           NaN            NaN            NaN    NaN     NaN   \n",
       "2019-01-08  ...           NaN            NaN            NaN    NaN     NaN   \n",
       "\n",
       "            200_ma  50_std  100_std  200_std  cumulative_return  \n",
       "Date                                                             \n",
       "2019-01-02     NaN     NaN      NaN      NaN                NaN  \n",
       "2019-01-03     NaN     NaN      NaN      NaN          -4.325341  \n",
       "2019-01-04     NaN     NaN      NaN      NaN           4.701457  \n",
       "2019-01-07     NaN     NaN      NaN      NaN           7.005170  \n",
       "2019-01-08     NaN     NaN      NaN      NaN           7.898450  \n",
       "\n",
       "[5 rows x 27 columns]"
      ]
     },
     "execution_count": 561,
     "metadata": {},
     "output_type": "execute_result"
    }
   ],
   "source": [
    "jd_price.head()"
   ]
  },
  {
   "cell_type": "code",
   "execution_count": 562,
   "metadata": {},
   "outputs": [],
   "source": [
    "# create function to flag up days and down days\n",
    "\n",
    "def up_down_days(x):\n",
    "    if x >= 0:\n",
    "        return 'UP'\n",
    "    else: \n",
    "        return 'DOWN'"
   ]
  },
  {
   "cell_type": "code",
   "execution_count": 563,
   "metadata": {},
   "outputs": [
    {
     "data": {
      "text/html": [
       "<div>\n",
       "<style scoped>\n",
       "    .dataframe tbody tr th:only-of-type {\n",
       "        vertical-align: middle;\n",
       "    }\n",
       "\n",
       "    .dataframe tbody tr th {\n",
       "        vertical-align: top;\n",
       "    }\n",
       "\n",
       "    .dataframe thead th {\n",
       "        text-align: right;\n",
       "    }\n",
       "</style>\n",
       "<table border=\"1\" class=\"dataframe\">\n",
       "  <thead>\n",
       "    <tr style=\"text-align: right;\">\n",
       "      <th></th>\n",
       "      <th>up_or_down</th>\n",
       "      <th>up_or_down</th>\n",
       "    </tr>\n",
       "  </thead>\n",
       "  <tbody>\n",
       "    <tr>\n",
       "      <th>UP</th>\n",
       "      <td>357</td>\n",
       "      <td>0.53125</td>\n",
       "    </tr>\n",
       "    <tr>\n",
       "      <th>DOWN</th>\n",
       "      <td>315</td>\n",
       "      <td>0.46875</td>\n",
       "    </tr>\n",
       "  </tbody>\n",
       "</table>\n",
       "</div>"
      ],
      "text/plain": [
       "      up_or_down  up_or_down\n",
       "UP           357     0.53125\n",
       "DOWN         315     0.46875"
      ]
     },
     "execution_count": 563,
     "metadata": {},
     "output_type": "execute_result"
    }
   ],
   "source": [
    "jd_price['up_or_down'] = jd_price['pct_change_1'].apply(lambda x: up_down_days(x))\n",
    "pd.concat([jd_price['up_or_down'].value_counts(), jd_price['up_or_down'].value_counts()/jd_price['up_or_down'].value_counts().sum()], axis=1) "
   ]
  },
  {
   "cell_type": "markdown",
   "metadata": {},
   "source": [
    "There have been more up days than down days but it's pretty close. What matters is the magnitude of the up and down days"
   ]
  },
  {
   "cell_type": "markdown",
   "metadata": {},
   "source": [
    "We would like to create a column that counts the consecutive up and down days. We can use this to get a distribution of the consecutive up days and down days for JD.com"
   ]
  },
  {
   "cell_type": "code",
   "execution_count": 564,
   "metadata": {},
   "outputs": [],
   "source": [
    "# create column with count of consecutive up and down days\n",
    "\n",
    "jd_price['consecutive_count'] = jd_price.groupby((jd_price['up_or_down'] != jd_price['up_or_down'].shift(1)).cumsum()).cumcount() + 1"
   ]
  },
  {
   "cell_type": "code",
   "execution_count": 565,
   "metadata": {
    "scrolled": true
   },
   "outputs": [
    {
     "data": {
      "text/plain": [
       "<AxesSubplot:>"
      ]
     },
     "execution_count": 565,
     "metadata": {},
     "output_type": "execute_result"
    },
    {
     "data": {
      "image/png": "[encoded data removed]",
      "text/plain": [
       "<Figure size 432x288 with 1 Axes>"
      ]
     },
     "metadata": {
      "needs_background": "light"
     },
     "output_type": "display_data"
    }
   ],
   "source": [
    "jd_price.loc[jd_price['up_or_down'] == 'UP', 'consecutive_count'].hist()"
   ]
  },
  {
   "cell_type": "markdown",
   "metadata": {},
   "source": [
    "We need to count the number of consecuribe days without double counting. For example a day consecutive gain, will have a day with 1 and 2 which means 1 is double counted. Need to find a way to remove this."
   ]
  },
  {
   "cell_type": "code",
   "execution_count": 566,
   "metadata": {
    "scrolled": true
   },
   "outputs": [
    {
     "data": {
      "text/plain": [
       "<matplotlib.legend.Legend at 0x7fbaa401ad50>"
      ]
     },
     "execution_count": 566,
     "metadata": {},
     "output_type": "execute_result"
    },
    {
     "data": {
      "image/png": "[encoded data removed]",
      "text/plain": [
       "<Figure size 1440x720 with 1 Axes>"
      ]
     },
     "metadata": {
      "needs_background": "light"
     },
     "output_type": "display_data"
    }
   ],
   "source": [
    "# Plot price vs moving averages\n",
    "plt.figure(figsize=(20,10))\n",
    "\n",
    "plt.plot(jd_price[['Adj Close', '50_ma', '100_ma', '200_ma']])\n",
    "plt.title('JD Stock Price')\n",
    "plt.legend(['Adj Close', '50 MA', '100 MA', '200 MA'])"
   ]
  },
  {
   "cell_type": "code",
   "execution_count": null,
   "metadata": {},
   "outputs": [],
   "source": []
  },
  {
   "cell_type": "markdown",
   "metadata": {},
   "source": [
    "Here we see that when the 50 day moving average crosses below the 100 day we can see a dip in price. In fact the 100 day moving average crossed below the 200 day moving average in June of 2021. This is known as the death cross and is thought to signal further down performance. WHen we look further down at the S&P we can see this isn't always the case as when the 100 day moving average crossed below the 200 day moving average, the recovery was already on it's way. So the speed of recovery will impact this signal. \n",
    "\n",
    "For JD it may appear that this is not on the way to recovery though."
   ]
  },
  {
   "cell_type": "code",
   "execution_count": 567,
   "metadata": {},
   "outputs": [
    {
     "data": {
      "text/html": [
       "<div>\n",
       "<style scoped>\n",
       "    .dataframe tbody tr th:only-of-type {\n",
       "        vertical-align: middle;\n",
       "    }\n",
       "\n",
       "    .dataframe tbody tr th {\n",
       "        vertical-align: top;\n",
       "    }\n",
       "\n",
       "    .dataframe thead th {\n",
       "        text-align: right;\n",
       "    }\n",
       "</style>\n",
       "<table border=\"1\" class=\"dataframe\">\n",
       "  <thead>\n",
       "    <tr style=\"text-align: right;\">\n",
       "      <th></th>\n",
       "      <th>Open</th>\n",
       "      <th>High</th>\n",
       "      <th>Low</th>\n",
       "      <th>Close</th>\n",
       "      <th>Adj Close</th>\n",
       "      <th>Volume</th>\n",
       "      <th>high_minus_low</th>\n",
       "      <th>high_minus_low_pct_adjclose</th>\n",
       "      <th>lagged_1</th>\n",
       "      <th>lagged_5</th>\n",
       "      <th>...</th>\n",
       "      <th>pct_change_20</th>\n",
       "      <th>50_ma</th>\n",
       "      <th>100_ma</th>\n",
       "      <th>200_ma</th>\n",
       "      <th>50_std</th>\n",
       "      <th>100_std</th>\n",
       "      <th>200_std</th>\n",
       "      <th>cumulative_return</th>\n",
       "      <th>up_or_down</th>\n",
       "      <th>consecutive_count</th>\n",
       "    </tr>\n",
       "    <tr>\n",
       "      <th>Date</th>\n",
       "      <th></th>\n",
       "      <th></th>\n",
       "      <th></th>\n",
       "      <th></th>\n",
       "      <th></th>\n",
       "      <th></th>\n",
       "      <th></th>\n",
       "      <th></th>\n",
       "      <th></th>\n",
       "      <th></th>\n",
       "      <th></th>\n",
       "      <th></th>\n",
       "      <th></th>\n",
       "      <th></th>\n",
       "      <th></th>\n",
       "      <th></th>\n",
       "      <th></th>\n",
       "      <th></th>\n",
       "      <th></th>\n",
       "      <th></th>\n",
       "      <th></th>\n",
       "    </tr>\n",
       "  </thead>\n",
       "  <tbody>\n",
       "    <tr>\n",
       "      <th>2021-08-25</th>\n",
       "      <td>74.750000</td>\n",
       "      <td>76.300003</td>\n",
       "      <td>73.730003</td>\n",
       "      <td>76.139999</td>\n",
       "      <td>76.139999</td>\n",
       "      <td>11311900</td>\n",
       "      <td>2.570000</td>\n",
       "      <td>3.375361</td>\n",
       "      <td>77.040001</td>\n",
       "      <td>NaN</td>\n",
       "      <td>...</td>\n",
       "      <td>8.338077</td>\n",
       "      <td>72.1916</td>\n",
       "      <td>73.5822</td>\n",
       "      <td>81.26795</td>\n",
       "      <td>4.113754</td>\n",
       "      <td>4.102907</td>\n",
       "      <td>9.386763</td>\n",
       "      <td>257.968960</td>\n",
       "      <td>UP</td>\n",
       "      <td>4</td>\n",
       "    </tr>\n",
       "    <tr>\n",
       "      <th>2021-08-26</th>\n",
       "      <td>76.190002</td>\n",
       "      <td>77.473000</td>\n",
       "      <td>75.805000</td>\n",
       "      <td>77.040001</td>\n",
       "      <td>77.040001</td>\n",
       "      <td>11581100</td>\n",
       "      <td>1.667999</td>\n",
       "      <td>2.165108</td>\n",
       "      <td>76.430000</td>\n",
       "      <td>NaN</td>\n",
       "      <td>...</td>\n",
       "      <td>7.104130</td>\n",
       "      <td>72.3026</td>\n",
       "      <td>73.5175</td>\n",
       "      <td>81.22885</td>\n",
       "      <td>4.168943</td>\n",
       "      <td>3.994348</td>\n",
       "      <td>9.388013</td>\n",
       "      <td>262.200279</td>\n",
       "      <td>UP</td>\n",
       "      <td>5</td>\n",
       "    </tr>\n",
       "    <tr>\n",
       "      <th>2021-08-27</th>\n",
       "      <td>77.250000</td>\n",
       "      <td>78.120003</td>\n",
       "      <td>75.809998</td>\n",
       "      <td>76.430000</td>\n",
       "      <td>76.430000</td>\n",
       "      <td>12965300</td>\n",
       "      <td>2.310005</td>\n",
       "      <td>3.022380</td>\n",
       "      <td>76.690002</td>\n",
       "      <td>NaN</td>\n",
       "      <td>...</td>\n",
       "      <td>7.830140</td>\n",
       "      <td>72.3612</td>\n",
       "      <td>73.4693</td>\n",
       "      <td>81.21060</td>\n",
       "      <td>4.206540</td>\n",
       "      <td>3.928639</td>\n",
       "      <td>9.393803</td>\n",
       "      <td>259.332387</td>\n",
       "      <td>DOWN</td>\n",
       "      <td>1</td>\n",
       "    </tr>\n",
       "    <tr>\n",
       "      <th>2021-08-30</th>\n",
       "      <td>75.148003</td>\n",
       "      <td>76.968002</td>\n",
       "      <td>74.290001</td>\n",
       "      <td>76.690002</td>\n",
       "      <td>76.690002</td>\n",
       "      <td>7979900</td>\n",
       "      <td>2.678001</td>\n",
       "      <td>3.491982</td>\n",
       "      <td>78.559998</td>\n",
       "      <td>NaN</td>\n",
       "      <td>...</td>\n",
       "      <td>7.273751</td>\n",
       "      <td>72.4626</td>\n",
       "      <td>73.4148</td>\n",
       "      <td>81.17985</td>\n",
       "      <td>4.249200</td>\n",
       "      <td>3.844031</td>\n",
       "      <td>9.398507</td>\n",
       "      <td>260.554776</td>\n",
       "      <td>UP</td>\n",
       "      <td>1</td>\n",
       "    </tr>\n",
       "    <tr>\n",
       "      <th>2021-08-31</th>\n",
       "      <td>78.080002</td>\n",
       "      <td>80.559998</td>\n",
       "      <td>77.300003</td>\n",
       "      <td>78.559998</td>\n",
       "      <td>78.559998</td>\n",
       "      <td>13038300</td>\n",
       "      <td>3.259995</td>\n",
       "      <td>4.149688</td>\n",
       "      <td>NaN</td>\n",
       "      <td>NaN</td>\n",
       "      <td>...</td>\n",
       "      <td>11.845102</td>\n",
       "      <td>72.5814</td>\n",
       "      <td>73.3963</td>\n",
       "      <td>81.14075</td>\n",
       "      <td>4.335842</td>\n",
       "      <td>3.814362</td>\n",
       "      <td>9.393030</td>\n",
       "      <td>269.346478</td>\n",
       "      <td>UP</td>\n",
       "      <td>2</td>\n",
       "    </tr>\n",
       "  </tbody>\n",
       "</table>\n",
       "<p>5 rows × 29 columns</p>\n",
       "</div>"
      ],
      "text/plain": [
       "                 Open       High        Low      Close  Adj Close    Volume  \\\n",
       "Date                                                                          \n",
       "2021-08-25  74.750000  76.300003  73.730003  76.139999  76.139999  11311900   \n",
       "2021-08-26  76.190002  77.473000  75.805000  77.040001  77.040001  11581100   \n",
       "2021-08-27  77.250000  78.120003  75.809998  76.430000  76.430000  12965300   \n",
       "2021-08-30  75.148003  76.968002  74.290001  76.690002  76.690002   7979900   \n",
       "2021-08-31  78.080002  80.559998  77.300003  78.559998  78.559998  13038300   \n",
       "\n",
       "            high_minus_low  high_minus_low_pct_adjclose   lagged_1  lagged_5  \\\n",
       "Date                                                                           \n",
       "2021-08-25        2.570000                     3.375361  77.040001       NaN   \n",
       "2021-08-26        1.667999                     2.165108  76.430000       NaN   \n",
       "2021-08-27        2.310005                     3.022380  76.690002       NaN   \n",
       "2021-08-30        2.678001                     3.491982  78.559998       NaN   \n",
       "2021-08-31        3.259995                     4.149688        NaN       NaN   \n",
       "\n",
       "            ...  pct_change_20    50_ma   100_ma    200_ma    50_std  \\\n",
       "Date        ...                                                        \n",
       "2021-08-25  ...       8.338077  72.1916  73.5822  81.26795  4.113754   \n",
       "2021-08-26  ...       7.104130  72.3026  73.5175  81.22885  4.168943   \n",
       "2021-08-27  ...       7.830140  72.3612  73.4693  81.21060  4.206540   \n",
       "2021-08-30  ...       7.273751  72.4626  73.4148  81.17985  4.249200   \n",
       "2021-08-31  ...      11.845102  72.5814  73.3963  81.14075  4.335842   \n",
       "\n",
       "             100_std   200_std  cumulative_return  up_or_down  \\\n",
       "Date                                                            \n",
       "2021-08-25  4.102907  9.386763         257.968960          UP   \n",
       "2021-08-26  3.994348  9.388013         262.200279          UP   \n",
       "2021-08-27  3.928639  9.393803         259.332387        DOWN   \n",
       "2021-08-30  3.844031  9.398507         260.554776          UP   \n",
       "2021-08-31  3.814362  9.393030         269.346478          UP   \n",
       "\n",
       "            consecutive_count  \n",
       "Date                           \n",
       "2021-08-25                  4  \n",
       "2021-08-26                  5  \n",
       "2021-08-27                  1  \n",
       "2021-08-30                  1  \n",
       "2021-08-31                  2  \n",
       "\n",
       "[5 rows x 29 columns]"
      ]
     },
     "execution_count": 567,
     "metadata": {},
     "output_type": "execute_result"
    }
   ],
   "source": [
    "jd_price.tail()"
   ]
  },
  {
   "cell_type": "code",
   "execution_count": 568,
   "metadata": {
    "scrolled": true
   },
   "outputs": [
    {
     "data": {
      "text/plain": [
       "<matplotlib.legend.Legend at 0x7fbac3d1fc90>"
      ]
     },
     "execution_count": 568,
     "metadata": {},
     "output_type": "execute_result"
    },
    {
     "data": {
      "image/png": "[encoded data removed]",
      "text/plain": [
       "<Figure size 1440x720 with 1 Axes>"
      ]
     },
     "metadata": {
      "needs_background": "light"
     },
     "output_type": "display_data"
    }
   ],
   "source": [
    "# Plot price vs moving averages\n",
    "plt.figure(figsize=(20,10))\n",
    "\n",
    "plt.plot(jd_price[['50_std', '100_std', '200_std']])\n",
    "plt.title('JD.com Stock Price volatility')\n",
    "plt.legend(['50 day std', '100 day std', '200 day std'])"
   ]
  },
  {
   "cell_type": "code",
   "execution_count": 569,
   "metadata": {},
   "outputs": [],
   "source": [
    "# export jd_price\n",
    "\n",
    "jd_price.to_csv('jd_price.csv')"
   ]
  },
  {
   "cell_type": "markdown",
   "metadata": {},
   "source": [
    "### 2.1.4 SP500 Stock Price data<a id='2.1.4_sp_price'></a>"
   ]
  },
  {
   "cell_type": "code",
   "execution_count": 570,
   "metadata": {
    "scrolled": true
   },
   "outputs": [
    {
     "data": {
      "text/html": [
       "<div>\n",
       "<style scoped>\n",
       "    .dataframe tbody tr th:only-of-type {\n",
       "        vertical-align: middle;\n",
       "    }\n",
       "\n",
       "    .dataframe tbody tr th {\n",
       "        vertical-align: top;\n",
       "    }\n",
       "\n",
       "    .dataframe thead th {\n",
       "        text-align: right;\n",
       "    }\n",
       "</style>\n",
       "<table border=\"1\" class=\"dataframe\">\n",
       "  <thead>\n",
       "    <tr style=\"text-align: right;\">\n",
       "      <th></th>\n",
       "      <th>Date</th>\n",
       "      <th>Open</th>\n",
       "      <th>High</th>\n",
       "      <th>Low</th>\n",
       "      <th>Close</th>\n",
       "      <th>Adj Close</th>\n",
       "      <th>Volume</th>\n",
       "    </tr>\n",
       "  </thead>\n",
       "  <tbody>\n",
       "    <tr>\n",
       "      <th>0</th>\n",
       "      <td>2019-01-02</td>\n",
       "      <td>245.979996</td>\n",
       "      <td>251.210007</td>\n",
       "      <td>245.949997</td>\n",
       "      <td>250.179993</td>\n",
       "      <td>239.459229</td>\n",
       "      <td>126925200</td>\n",
       "    </tr>\n",
       "    <tr>\n",
       "      <th>1</th>\n",
       "      <td>2019-01-03</td>\n",
       "      <td>248.229996</td>\n",
       "      <td>248.570007</td>\n",
       "      <td>243.669998</td>\n",
       "      <td>244.210007</td>\n",
       "      <td>233.745056</td>\n",
       "      <td>144140700</td>\n",
       "    </tr>\n",
       "    <tr>\n",
       "      <th>2</th>\n",
       "      <td>2019-01-04</td>\n",
       "      <td>247.589996</td>\n",
       "      <td>253.110001</td>\n",
       "      <td>247.169998</td>\n",
       "      <td>252.389999</td>\n",
       "      <td>241.574493</td>\n",
       "      <td>142628800</td>\n",
       "    </tr>\n",
       "    <tr>\n",
       "      <th>3</th>\n",
       "      <td>2019-01-07</td>\n",
       "      <td>252.690002</td>\n",
       "      <td>255.949997</td>\n",
       "      <td>251.690002</td>\n",
       "      <td>254.380005</td>\n",
       "      <td>243.479263</td>\n",
       "      <td>103139100</td>\n",
       "    </tr>\n",
       "    <tr>\n",
       "      <th>4</th>\n",
       "      <td>2019-01-08</td>\n",
       "      <td>256.820007</td>\n",
       "      <td>257.309998</td>\n",
       "      <td>254.000000</td>\n",
       "      <td>256.769989</td>\n",
       "      <td>245.766846</td>\n",
       "      <td>102512600</td>\n",
       "    </tr>\n",
       "  </tbody>\n",
       "</table>\n",
       "</div>"
      ],
      "text/plain": [
       "        Date        Open        High         Low       Close   Adj Close  \\\n",
       "0 2019-01-02  245.979996  251.210007  245.949997  250.179993  239.459229   \n",
       "1 2019-01-03  248.229996  248.570007  243.669998  244.210007  233.745056   \n",
       "2 2019-01-04  247.589996  253.110001  247.169998  252.389999  241.574493   \n",
       "3 2019-01-07  252.690002  255.949997  251.690002  254.380005  243.479263   \n",
       "4 2019-01-08  256.820007  257.309998  254.000000  256.769989  245.766846   \n",
       "\n",
       "      Volume  \n",
       "0  126925200  \n",
       "1  144140700  \n",
       "2  142628800  \n",
       "3  103139100  \n",
       "4  102512600  "
      ]
     },
     "execution_count": 570,
     "metadata": {},
     "output_type": "execute_result"
    }
   ],
   "source": [
    "xl = pd.ExcelFile('SPY.xlsx')\n",
    "sp_price = xl.parse('Sheet1')\n",
    "sp_price.head()"
   ]
  },
  {
   "cell_type": "code",
   "execution_count": 571,
   "metadata": {
    "scrolled": true
   },
   "outputs": [],
   "source": [
    "sp_price = sp_price.set_index('Date')"
   ]
  },
  {
   "cell_type": "code",
   "execution_count": 572,
   "metadata": {
    "scrolled": true
   },
   "outputs": [
    {
     "data": {
      "text/html": [
       "<div>\n",
       "<style scoped>\n",
       "    .dataframe tbody tr th:only-of-type {\n",
       "        vertical-align: middle;\n",
       "    }\n",
       "\n",
       "    .dataframe tbody tr th {\n",
       "        vertical-align: top;\n",
       "    }\n",
       "\n",
       "    .dataframe thead th {\n",
       "        text-align: right;\n",
       "    }\n",
       "</style>\n",
       "<table border=\"1\" class=\"dataframe\">\n",
       "  <thead>\n",
       "    <tr style=\"text-align: right;\">\n",
       "      <th></th>\n",
       "      <th>Open</th>\n",
       "      <th>High</th>\n",
       "      <th>Low</th>\n",
       "      <th>Close</th>\n",
       "      <th>Adj Close</th>\n",
       "      <th>Volume</th>\n",
       "    </tr>\n",
       "    <tr>\n",
       "      <th>Date</th>\n",
       "      <th></th>\n",
       "      <th></th>\n",
       "      <th></th>\n",
       "      <th></th>\n",
       "      <th></th>\n",
       "      <th></th>\n",
       "    </tr>\n",
       "  </thead>\n",
       "  <tbody>\n",
       "    <tr>\n",
       "      <th>2021-08-31</th>\n",
       "      <td>452.130005</td>\n",
       "      <td>452.489990</td>\n",
       "      <td>450.920013</td>\n",
       "      <td>451.559998</td>\n",
       "      <td>451.559998</td>\n",
       "      <td>59246900</td>\n",
       "    </tr>\n",
       "    <tr>\n",
       "      <th>2021-08-30</th>\n",
       "      <td>450.970001</td>\n",
       "      <td>453.070007</td>\n",
       "      <td>450.709991</td>\n",
       "      <td>452.230011</td>\n",
       "      <td>452.230011</td>\n",
       "      <td>48357400</td>\n",
       "    </tr>\n",
       "    <tr>\n",
       "      <th>2021-08-27</th>\n",
       "      <td>447.119995</td>\n",
       "      <td>450.649994</td>\n",
       "      <td>447.059998</td>\n",
       "      <td>450.250000</td>\n",
       "      <td>450.250000</td>\n",
       "      <td>77201900</td>\n",
       "    </tr>\n",
       "    <tr>\n",
       "      <th>2021-08-26</th>\n",
       "      <td>448.609985</td>\n",
       "      <td>448.859985</td>\n",
       "      <td>446.160004</td>\n",
       "      <td>446.260010</td>\n",
       "      <td>446.260010</td>\n",
       "      <td>57829600</td>\n",
       "    </tr>\n",
       "    <tr>\n",
       "      <th>2021-08-25</th>\n",
       "      <td>448.170013</td>\n",
       "      <td>449.459991</td>\n",
       "      <td>447.769989</td>\n",
       "      <td>448.910004</td>\n",
       "      <td>448.910004</td>\n",
       "      <td>40529700</td>\n",
       "    </tr>\n",
       "    <tr>\n",
       "      <th>...</th>\n",
       "      <td>...</td>\n",
       "      <td>...</td>\n",
       "      <td>...</td>\n",
       "      <td>...</td>\n",
       "      <td>...</td>\n",
       "      <td>...</td>\n",
       "    </tr>\n",
       "    <tr>\n",
       "      <th>2019-01-08</th>\n",
       "      <td>256.820007</td>\n",
       "      <td>257.309998</td>\n",
       "      <td>254.000000</td>\n",
       "      <td>256.769989</td>\n",
       "      <td>245.766846</td>\n",
       "      <td>102512600</td>\n",
       "    </tr>\n",
       "    <tr>\n",
       "      <th>2019-01-07</th>\n",
       "      <td>252.690002</td>\n",
       "      <td>255.949997</td>\n",
       "      <td>251.690002</td>\n",
       "      <td>254.380005</td>\n",
       "      <td>243.479263</td>\n",
       "      <td>103139100</td>\n",
       "    </tr>\n",
       "    <tr>\n",
       "      <th>2019-01-04</th>\n",
       "      <td>247.589996</td>\n",
       "      <td>253.110001</td>\n",
       "      <td>247.169998</td>\n",
       "      <td>252.389999</td>\n",
       "      <td>241.574493</td>\n",
       "      <td>142628800</td>\n",
       "    </tr>\n",
       "    <tr>\n",
       "      <th>2019-01-03</th>\n",
       "      <td>248.229996</td>\n",
       "      <td>248.570007</td>\n",
       "      <td>243.669998</td>\n",
       "      <td>244.210007</td>\n",
       "      <td>233.745056</td>\n",
       "      <td>144140700</td>\n",
       "    </tr>\n",
       "    <tr>\n",
       "      <th>2019-01-02</th>\n",
       "      <td>245.979996</td>\n",
       "      <td>251.210007</td>\n",
       "      <td>245.949997</td>\n",
       "      <td>250.179993</td>\n",
       "      <td>239.459229</td>\n",
       "      <td>126925200</td>\n",
       "    </tr>\n",
       "  </tbody>\n",
       "</table>\n",
       "<p>672 rows × 6 columns</p>\n",
       "</div>"
      ],
      "text/plain": [
       "                  Open        High         Low       Close   Adj Close  \\\n",
       "Date                                                                     \n",
       "2021-08-31  452.130005  452.489990  450.920013  451.559998  451.559998   \n",
       "2021-08-30  450.970001  453.070007  450.709991  452.230011  452.230011   \n",
       "2021-08-27  447.119995  450.649994  447.059998  450.250000  450.250000   \n",
       "2021-08-26  448.609985  448.859985  446.160004  446.260010  446.260010   \n",
       "2021-08-25  448.170013  449.459991  447.769989  448.910004  448.910004   \n",
       "...                ...         ...         ...         ...         ...   \n",
       "2019-01-08  256.820007  257.309998  254.000000  256.769989  245.766846   \n",
       "2019-01-07  252.690002  255.949997  251.690002  254.380005  243.479263   \n",
       "2019-01-04  247.589996  253.110001  247.169998  252.389999  241.574493   \n",
       "2019-01-03  248.229996  248.570007  243.669998  244.210007  233.745056   \n",
       "2019-01-02  245.979996  251.210007  245.949997  250.179993  239.459229   \n",
       "\n",
       "               Volume  \n",
       "Date                   \n",
       "2021-08-31   59246900  \n",
       "2021-08-30   48357400  \n",
       "2021-08-27   77201900  \n",
       "2021-08-26   57829600  \n",
       "2021-08-25   40529700  \n",
       "...               ...  \n",
       "2019-01-08  102512600  \n",
       "2019-01-07  103139100  \n",
       "2019-01-04  142628800  \n",
       "2019-01-03  144140700  \n",
       "2019-01-02  126925200  \n",
       "\n",
       "[672 rows x 6 columns]"
      ]
     },
     "execution_count": 572,
     "metadata": {},
     "output_type": "execute_result"
    }
   ],
   "source": [
    "sp_price.sort_index(ascending=False)"
   ]
  },
  {
   "cell_type": "code",
   "execution_count": 573,
   "metadata": {},
   "outputs": [],
   "source": [
    "start_date = '2021-05-31'\n",
    "start_date = pd.to_datetime(start_date)"
   ]
  },
  {
   "cell_type": "code",
   "execution_count": 574,
   "metadata": {},
   "outputs": [
    {
     "data": {
      "text/plain": [
       "Timestamp('2021-08-31 00:00:00')"
      ]
     },
     "execution_count": 574,
     "metadata": {},
     "output_type": "execute_result"
    }
   ],
   "source": [
    "end_date = start_date + pd.DateOffset(days=92)\n",
    "end_date"
   ]
  },
  {
   "cell_type": "code",
   "execution_count": 575,
   "metadata": {
    "scrolled": true
   },
   "outputs": [
    {
     "data": {
      "text/plain": [
       "<AxesSubplot:xlabel='Date'>"
      ]
     },
     "execution_count": 575,
     "metadata": {},
     "output_type": "execute_result"
    },
    {
     "data": {
      "image/png": "[encoded data removed]",
      "text/plain": [
       "<Figure size 432x288 with 1 Axes>"
      ]
     },
     "metadata": {
      "needs_background": "light"
     },
     "output_type": "display_data"
    }
   ],
   "source": [
    "sp_price.loc[start_date: end_date,'Adj Close'].plot()"
   ]
  },
  {
   "cell_type": "code",
   "execution_count": 576,
   "metadata": {
    "scrolled": false
   },
   "outputs": [
    {
     "data": {
      "text/plain": [
       "<AxesSubplot:xlabel='Date'>"
      ]
     },
     "execution_count": 576,
     "metadata": {},
     "output_type": "execute_result"
    },
    {
     "data": {
      "image/png": "[encoded data removed]",
      "text/plain": [
       "<Figure size 432x288 with 1 Axes>"
      ]
     },
     "metadata": {
      "needs_background": "light"
     },
     "output_type": "display_data"
    }
   ],
   "source": [
    "sp_price.loc[start_date:end_date,'Volume'].plot()"
   ]
  },
  {
   "cell_type": "code",
   "execution_count": 577,
   "metadata": {
    "scrolled": true
   },
   "outputs": [
    {
     "data": {
      "text/html": [
       "<div>\n",
       "<style scoped>\n",
       "    .dataframe tbody tr th:only-of-type {\n",
       "        vertical-align: middle;\n",
       "    }\n",
       "\n",
       "    .dataframe tbody tr th {\n",
       "        vertical-align: top;\n",
       "    }\n",
       "\n",
       "    .dataframe thead th {\n",
       "        text-align: right;\n",
       "    }\n",
       "</style>\n",
       "<table border=\"1\" class=\"dataframe\">\n",
       "  <thead>\n",
       "    <tr style=\"text-align: right;\">\n",
       "      <th></th>\n",
       "      <th>Open</th>\n",
       "      <th>High</th>\n",
       "      <th>Low</th>\n",
       "      <th>Close</th>\n",
       "      <th>Adj Close</th>\n",
       "      <th>Volume</th>\n",
       "      <th>high_minus_low</th>\n",
       "      <th>high_minus_low_pct_adjclose</th>\n",
       "    </tr>\n",
       "    <tr>\n",
       "      <th>Date</th>\n",
       "      <th></th>\n",
       "      <th></th>\n",
       "      <th></th>\n",
       "      <th></th>\n",
       "      <th></th>\n",
       "      <th></th>\n",
       "      <th></th>\n",
       "      <th></th>\n",
       "    </tr>\n",
       "  </thead>\n",
       "  <tbody>\n",
       "    <tr>\n",
       "      <th>2019-01-02</th>\n",
       "      <td>245.979996</td>\n",
       "      <td>251.210007</td>\n",
       "      <td>245.949997</td>\n",
       "      <td>250.179993</td>\n",
       "      <td>239.459229</td>\n",
       "      <td>126925200</td>\n",
       "      <td>5.260010</td>\n",
       "      <td>2.196620</td>\n",
       "    </tr>\n",
       "    <tr>\n",
       "      <th>2019-01-03</th>\n",
       "      <td>248.229996</td>\n",
       "      <td>248.570007</td>\n",
       "      <td>243.669998</td>\n",
       "      <td>244.210007</td>\n",
       "      <td>233.745056</td>\n",
       "      <td>144140700</td>\n",
       "      <td>4.900009</td>\n",
       "      <td>2.096305</td>\n",
       "    </tr>\n",
       "    <tr>\n",
       "      <th>2019-01-04</th>\n",
       "      <td>247.589996</td>\n",
       "      <td>253.110001</td>\n",
       "      <td>247.169998</td>\n",
       "      <td>252.389999</td>\n",
       "      <td>241.574493</td>\n",
       "      <td>142628800</td>\n",
       "      <td>5.940002</td>\n",
       "      <td>2.458870</td>\n",
       "    </tr>\n",
       "    <tr>\n",
       "      <th>2019-01-07</th>\n",
       "      <td>252.690002</td>\n",
       "      <td>255.949997</td>\n",
       "      <td>251.690002</td>\n",
       "      <td>254.380005</td>\n",
       "      <td>243.479263</td>\n",
       "      <td>103139100</td>\n",
       "      <td>4.259995</td>\n",
       "      <td>1.749633</td>\n",
       "    </tr>\n",
       "    <tr>\n",
       "      <th>2019-01-08</th>\n",
       "      <td>256.820007</td>\n",
       "      <td>257.309998</td>\n",
       "      <td>254.000000</td>\n",
       "      <td>256.769989</td>\n",
       "      <td>245.766846</td>\n",
       "      <td>102512600</td>\n",
       "      <td>3.309998</td>\n",
       "      <td>1.346804</td>\n",
       "    </tr>\n",
       "  </tbody>\n",
       "</table>\n",
       "</div>"
      ],
      "text/plain": [
       "                  Open        High         Low       Close   Adj Close  \\\n",
       "Date                                                                     \n",
       "2019-01-02  245.979996  251.210007  245.949997  250.179993  239.459229   \n",
       "2019-01-03  248.229996  248.570007  243.669998  244.210007  233.745056   \n",
       "2019-01-04  247.589996  253.110001  247.169998  252.389999  241.574493   \n",
       "2019-01-07  252.690002  255.949997  251.690002  254.380005  243.479263   \n",
       "2019-01-08  256.820007  257.309998  254.000000  256.769989  245.766846   \n",
       "\n",
       "               Volume  high_minus_low  high_minus_low_pct_adjclose  \n",
       "Date                                                                \n",
       "2019-01-02  126925200        5.260010                     2.196620  \n",
       "2019-01-03  144140700        4.900009                     2.096305  \n",
       "2019-01-04  142628800        5.940002                     2.458870  \n",
       "2019-01-07  103139100        4.259995                     1.749633  \n",
       "2019-01-08  102512600        3.309998                     1.346804  "
      ]
     },
     "execution_count": 577,
     "metadata": {},
     "output_type": "execute_result"
    }
   ],
   "source": [
    "# Lets look at the difference between the daily high and daily low\n",
    "\n",
    "sp_price['high_minus_low'] = sp_price['High'] - sp_price['Low']\n",
    "sp_price['high_minus_low_pct_adjclose'] = (sp_price['High'] - sp_price['Low'])/sp_price['Adj Close'] * 100\n",
    "\n",
    "sp_price.head()"
   ]
  },
  {
   "cell_type": "code",
   "execution_count": 578,
   "metadata": {
    "scrolled": true
   },
   "outputs": [
    {
     "data": {
      "text/plain": [
       "(array([305., 222.,  69.,  34.,  16.,  12.,   5.,   3.,   5.,   1.]),\n",
       " array([ 0.58999634,  2.82699738,  5.06399841,  7.30099945,  9.53800049,\n",
       "        11.77500153, 14.01200256, 16.2490036 , 18.48600464, 20.72300568,\n",
       "        22.96000671]),\n",
       " [<matplotlib.patches.Polygon at 0x7fba826d3850>])"
      ]
     },
     "execution_count": 578,
     "metadata": {},
     "output_type": "execute_result"
    },
    {
     "data": {
      "image/png": "[encoded data removed]",
      "text/plain": [
       "<Figure size 432x288 with 1 Axes>"
      ]
     },
     "metadata": {
      "needs_background": "light"
     },
     "output_type": "display_data"
    }
   ],
   "source": [
    "# Plot distribution of high_minus_low_pct\n",
    "\n",
    "plt.hist(sp_price['high_minus_low'], histtype='step')"
   ]
  },
  {
   "cell_type": "code",
   "execution_count": 579,
   "metadata": {
    "scrolled": true
   },
   "outputs": [
    {
     "data": {
      "text/plain": [
       "(array([379., 191.,  47.,  23.,  15.,   4.,   4.,   2.,   4.,   3.]),\n",
       " array([0.18833059, 1.04363052, 1.89893045, 2.75423038, 3.60953031,\n",
       "        4.46483023, 5.32013016, 6.17543009, 7.03073002, 7.88602995,\n",
       "        8.74132988]),\n",
       " [<matplotlib.patches.Polygon at 0x7fbaa44a6610>])"
      ]
     },
     "execution_count": 579,
     "metadata": {},
     "output_type": "execute_result"
    },
    {
     "data": {
      "image/png": "[encoded data removed]",
      "text/plain": [
       "<Figure size 432x288 with 1 Axes>"
      ]
     },
     "metadata": {
      "needs_background": "light"
     },
     "output_type": "display_data"
    }
   ],
   "source": [
    "# Plot distribution of high_minus_low_pct\n",
    "\n",
    "plt.hist(sp_price['high_minus_low_pct_adjclose'], histtype='step')"
   ]
  },
  {
   "cell_type": "code",
   "execution_count": 580,
   "metadata": {
    "scrolled": true
   },
   "outputs": [
    {
     "data": {
      "text/plain": [
       "<AxesSubplot:xlabel='Date'>"
      ]
     },
     "execution_count": 580,
     "metadata": {},
     "output_type": "execute_result"
    },
    {
     "data": {
      "image/png": "[encoded data removed]",
      "text/plain": [
       "<Figure size 432x288 with 1 Axes>"
      ]
     },
     "metadata": {
      "needs_background": "light"
     },
     "output_type": "display_data"
    }
   ],
   "source": [
    "# Plot time series of high_minus_low_pct\n",
    "\n",
    "sp_price['high_minus_low_pct_adjclose'].plot()"
   ]
  },
  {
   "cell_type": "markdown",
   "metadata": {},
   "source": [
    "#### 2.1.4.1 SP500 Time Series Feature Engineering<a id='2.1.4.1_sp_ts_feature_eng'></a>"
   ]
  },
  {
   "cell_type": "code",
   "execution_count": 581,
   "metadata": {
    "scrolled": true
   },
   "outputs": [],
   "source": [
    "sp_price['lagged_1'] = sp_price['Adj Close'].shift(-1)     # create 1 day lag variable\n",
    "sp_price['lagged_5'] = sp_price['Adj Close'].shift(-5)     # create 5 day lag variable\n",
    "sp_price['lagged_10'] = sp_price['Adj Close'].shift(-10)   # create 10 day lag variable\n",
    "sp_price['lagged_20'] = sp_price['Adj Close'].shift(-20)   # create 20 day lag variable\n",
    "\n",
    "# Create shifted variables\n",
    "\n",
    "sp_price['shifted_1'] = sp_price['Adj Close'].shift(1)     # create 1 day shifted variable\n",
    "sp_price['shifted_5'] = sp_price['Adj Close'].shift(5)     # create 5 day shifted variable\n",
    "sp_price['shifted_10'] = sp_price['Adj Close'].shift(10)   # create 10 day shifted variable\n",
    "sp_price['shifted_20'] = sp_price['Adj Close'].shift(20)   # create 20 day shifted variable\n",
    "\n",
    "# Calculate returns\n",
    "\n",
    "sp_price['pct_change_1'] = sp_price['Adj Close'].pct_change(1).mul(100)     \n",
    "sp_price['pct_change_5'] = sp_price['Adj Close'].pct_change(5).mul(100)     \n",
    "sp_price['pct_change_10'] = sp_price['Adj Close'].pct_change(10).mul(100)   \n",
    "sp_price['pct_change_20'] = sp_price['Adj Close'].pct_change(20).mul(100)\n",
    "\n",
    "\n",
    "# Calculate returns using div.sub.mul method\n",
    "# this line was to test another method of calculating\n",
    "#sp_price['div_sub_20'] = sp_price['Adj Close'].div(sp_price['shifted_20']).sub(1).mul(100)\n",
    "\n",
    "# Rolling window metrics, these moving averages are typically important to technical traders\n",
    "\n",
    "sp_price['50_ma'] = sp_price['Adj Close'].rolling(window=50).mean()\n",
    "sp_price['100_ma'] = sp_price['Adj Close'].rolling(window=100).mean()\n",
    "sp_price['200_ma'] = sp_price['Adj Close'].rolling(window=200).mean()\n",
    "\n",
    "# Rolling window metrics, moving standard deviation \n",
    "\n",
    "sp_price['50_std'] = sp_price['Adj Close'].rolling(window=50).std()\n",
    "sp_price['100_std'] = sp_price['Adj Close'].rolling(window=100).std()\n",
    "sp_price['200_std'] = sp_price['Adj Close'].rolling(window=200).std()\n",
    "\n",
    "# Cumulative return\n",
    "\n",
    "sp_price['cumulative_return'] = sp_price['Adj Close'].pct_change(1).add(1).cumprod().sub(1).mul(100)"
   ]
  },
  {
   "cell_type": "code",
   "execution_count": 582,
   "metadata": {
    "scrolled": false
   },
   "outputs": [
    {
     "name": "stdout",
     "output_type": "stream",
     "text": [
      "<class 'pandas.core.frame.DataFrame'>\n",
      "DatetimeIndex: 672 entries, 2019-01-02 to 2021-08-31\n",
      "Data columns (total 27 columns):\n",
      " #   Column                       Non-Null Count  Dtype  \n",
      "---  ------                       --------------  -----  \n",
      " 0   Open                         672 non-null    float64\n",
      " 1   High                         672 non-null    float64\n",
      " 2   Low                          672 non-null    float64\n",
      " 3   Close                        672 non-null    float64\n",
      " 4   Adj Close                    672 non-null    float64\n",
      " 5   Volume                       672 non-null    int64  \n",
      " 6   high_minus_low               672 non-null    float64\n",
      " 7   high_minus_low_pct_adjclose  672 non-null    float64\n",
      " 8   lagged_1                     671 non-null    float64\n",
      " 9   lagged_5                     667 non-null    float64\n",
      " 10  lagged_10                    662 non-null    float64\n",
      " 11  lagged_20                    652 non-null    float64\n",
      " 12  shifted_1                    671 non-null    float64\n",
      " 13  shifted_5                    667 non-null    float64\n",
      " 14  shifted_10                   662 non-null    float64\n",
      " 15  shifted_20                   652 non-null    float64\n",
      " 16  pct_change_1                 671 non-null    float64\n",
      " 17  pct_change_5                 667 non-null    float64\n",
      " 18  pct_change_10                662 non-null    float64\n",
      " 19  pct_change_20                652 non-null    float64\n",
      " 20  50_ma                        623 non-null    float64\n",
      " 21  100_ma                       573 non-null    float64\n",
      " 22  200_ma                       473 non-null    float64\n",
      " 23  50_std                       623 non-null    float64\n",
      " 24  100_std                      573 non-null    float64\n",
      " 25  200_std                      473 non-null    float64\n",
      " 26  cumulative_return            671 non-null    float64\n",
      "dtypes: float64(26), int64(1)\n",
      "memory usage: 163.2 KB\n"
     ]
    }
   ],
   "source": [
    "sp_price.info()"
   ]
  },
  {
   "cell_type": "code",
   "execution_count": 583,
   "metadata": {
    "scrolled": true
   },
   "outputs": [
    {
     "data": {
      "text/html": [
       "<div>\n",
       "<style scoped>\n",
       "    .dataframe tbody tr th:only-of-type {\n",
       "        vertical-align: middle;\n",
       "    }\n",
       "\n",
       "    .dataframe tbody tr th {\n",
       "        vertical-align: top;\n",
       "    }\n",
       "\n",
       "    .dataframe thead th {\n",
       "        text-align: right;\n",
       "    }\n",
       "</style>\n",
       "<table border=\"1\" class=\"dataframe\">\n",
       "  <thead>\n",
       "    <tr style=\"text-align: right;\">\n",
       "      <th></th>\n",
       "      <th>up_or_down</th>\n",
       "      <th>up_or_down</th>\n",
       "    </tr>\n",
       "  </thead>\n",
       "  <tbody>\n",
       "    <tr>\n",
       "      <th>UP</th>\n",
       "      <td>393</td>\n",
       "      <td>0.584821</td>\n",
       "    </tr>\n",
       "    <tr>\n",
       "      <th>DOWN</th>\n",
       "      <td>279</td>\n",
       "      <td>0.415179</td>\n",
       "    </tr>\n",
       "  </tbody>\n",
       "</table>\n",
       "</div>"
      ],
      "text/plain": [
       "      up_or_down  up_or_down\n",
       "UP           393    0.584821\n",
       "DOWN         279    0.415179"
      ]
     },
     "execution_count": 583,
     "metadata": {},
     "output_type": "execute_result"
    }
   ],
   "source": [
    "sp_price['up_or_down'] = sp_price['pct_change_1'].apply(lambda x: up_down_days(x))\n",
    "pd.concat([sp_price['up_or_down'].value_counts(), sp_price['up_or_down'].value_counts()/sp_price['up_or_down'].value_counts().sum()], axis=1) "
   ]
  },
  {
   "cell_type": "code",
   "execution_count": 584,
   "metadata": {},
   "outputs": [
    {
     "data": {
      "text/plain": [
       "<matplotlib.legend.Legend at 0x7fbac4823d90>"
      ]
     },
     "execution_count": 584,
     "metadata": {},
     "output_type": "execute_result"
    },
    {
     "data": {
      "image/png": "[encoded data removed]",
      "text/plain": [
       "<Figure size 1440x720 with 1 Axes>"
      ]
     },
     "metadata": {
      "needs_background": "light"
     },
     "output_type": "display_data"
    }
   ],
   "source": [
    "# Plot price vs moving averages with custom date range\n",
    "plt.figure(figsize=(20,10))\n",
    "\n",
    "plt.plot(sp_price.loc[start_date:end_date,['Adj Close', '50_ma', '100_ma', '200_ma']])\n",
    "plt.title('SP500 Stock Price')\n",
    "plt.legend(['Adj Close', '50 MA', '100 MA', '200 MA'])"
   ]
  },
  {
   "cell_type": "markdown",
   "metadata": {},
   "source": [
    "There are more up days than down days"
   ]
  },
  {
   "cell_type": "markdown",
   "metadata": {},
   "source": [
    "We would like to create a column that counts the consecutive up and down days. We can use this to get a distribution of the consecutive up days and down days for the S&P 500"
   ]
  },
  {
   "cell_type": "code",
   "execution_count": 585,
   "metadata": {},
   "outputs": [],
   "source": [
    "# create column with count of consecutive up and down days\n",
    "\n",
    "sp_price['consecutive_count'] = sp_price.groupby((sp_price['up_or_down'] != sp_price['up_or_down'].shift(1)).cumsum()).cumcount() + 1"
   ]
  },
  {
   "cell_type": "code",
   "execution_count": 586,
   "metadata": {},
   "outputs": [
    {
     "data": {
      "text/plain": [
       "<AxesSubplot:>"
      ]
     },
     "execution_count": 586,
     "metadata": {},
     "output_type": "execute_result"
    },
    {
     "data": {
      "image/png": "[encoded data removed]",
      "text/plain": [
       "<Figure size 432x288 with 1 Axes>"
      ]
     },
     "metadata": {
      "needs_background": "light"
     },
     "output_type": "display_data"
    }
   ],
   "source": [
    "sp_price.loc[sp_price['up_or_down'] == 'UP', 'consecutive_count'].hist()"
   ]
  },
  {
   "cell_type": "markdown",
   "metadata": {},
   "source": [
    "Next we need to identify the number of single day gains and consecurive day gains without double counting."
   ]
  },
  {
   "cell_type": "code",
   "execution_count": 587,
   "metadata": {
    "scrolled": false
   },
   "outputs": [
    {
     "data": {
      "text/plain": [
       "<matplotlib.legend.Legend at 0x7fbab2be3590>"
      ]
     },
     "execution_count": 587,
     "metadata": {},
     "output_type": "execute_result"
    },
    {
     "data": {
      "image/png": "[encoded data removed]",
      "text/plain": [
       "<Figure size 1440x720 with 1 Axes>"
      ]
     },
     "metadata": {
      "needs_background": "light"
     },
     "output_type": "display_data"
    }
   ],
   "source": [
    "# Plot price vs moving averages\n",
    "plt.figure(figsize=(20,10))\n",
    "\n",
    "plt.plot(sp_price[['Adj Close', '50_ma', '100_ma', '200_ma']])\n",
    "plt.title('SP500 Stock Price')\n",
    "plt.legend(['Adj Close', '50 MA', '100 MA', '200 MA'])"
   ]
  },
  {
   "cell_type": "markdown",
   "metadata": {},
   "source": [
    "Here we see a lot of resistance at the 50 day moving average level and we can see that when the 50 day moving average crossed below the 100 day moving average, the market moved lower by a large margin. By the time the 100 day moving average crossed below the 200 day moving average, we can see that the recovery had already taken place."
   ]
  },
  {
   "cell_type": "code",
   "execution_count": 588,
   "metadata": {},
   "outputs": [
    {
     "data": {
      "text/plain": [
       "<matplotlib.legend.Legend at 0x7fba827cbc10>"
      ]
     },
     "execution_count": 588,
     "metadata": {},
     "output_type": "execute_result"
    },
    {
     "data": {
      "image/png": "[encoded data removed]",
      "text/plain": [
       "<Figure size 1440x720 with 1 Axes>"
      ]
     },
     "metadata": {
      "needs_background": "light"
     },
     "output_type": "display_data"
    }
   ],
   "source": [
    "# Plot price vs moving averages\n",
    "plt.figure(figsize=(20,10))\n",
    "\n",
    "plt.plot(sp_price[['50_std', '100_std', '200_std']])\n",
    "plt.title('SP500 Stock Price volatility')\n",
    "plt.legend(['50 day std', '100 day std', '200 day std'])"
   ]
  },
  {
   "cell_type": "code",
   "execution_count": 589,
   "metadata": {},
   "outputs": [],
   "source": [
    "# export sp_price\n",
    "\n",
    "sp_price.to_csv('sp_price.csv')"
   ]
  },
  {
   "cell_type": "markdown",
   "metadata": {},
   "source": [
    "## 3.1 Resources to Review for future analysis<a id='3.1_resources'></a>"
   ]
  },
  {
   "cell_type": "markdown",
   "metadata": {},
   "source": [
    "Datacamp Courses to look at:\n",
    "\n",
    "For time series:\n",
    "   \n",
    "   * Manpulating Time Series Data in Python (**Completed first 3 chapters**)\n",
    "   * Time Series Analysis in Python\n",
    "   * ARIMA Models in Python\n",
    "   * GARCH Models in Python\n",
    "   * Machine Learning for Time Series Data in Python\n",
    "   \n",
    "For Twitter Sentiment Analysis\n",
    "\n",
    "   * Analyzing Social Media Data in Python (**Completed first 2 chapters**)\n",
    "   * Sentiment Analysis in Python"
   ]
  },
  {
   "cell_type": "markdown",
   "metadata": {},
   "source": [
    "## Analysis to-do list\n",
    "\n",
    "For Twitter Sentiment Analysis\n",
    "\n",
    "   * Do a word count of SP500, JD and buy, sell etc...\n",
    "   * Do sentiment analysis with polarity scores (**complete**)\n",
    "   * Conditional Rolling review (https://stackoverflow.com/questions/25119524/pandas-conditional-rolling-count)"
   ]
  },
  {
   "cell_type": "code",
   "execution_count": null,
   "metadata": {
    "scrolled": true
   },
   "outputs": [],
   "source": []
  }
 ],
 "metadata": {
  "kernelspec": {
   "display_name": "Python 3",
   "language": "python",
   "name": "python3"
  },
  "language_info": {
   "codemirror_mode": {
    "name": "ipython",
    "version": 3
   },
   "file_extension": ".py",
   "mimetype": "text/x-python",
   "name": "python",
   "nbconvert_exporter": "python",
   "pygments_lexer": "ipython3",
   "version": "3.7.6"
  }
 },
 "nbformat": 4,
 "nbformat_minor": 4
}

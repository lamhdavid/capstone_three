{
 "cells": [
  {
   "cell_type": "markdown",
   "metadata": {},
   "source": [
    "# 1. Data Wrangling and EDA for Capstone Three<a id='1_Data_wrangling_eda'></a>"
   ]
  },
  {
   "cell_type": "markdown",
   "metadata": {},
   "source": [
    "## 1.1 Contents<a id='1.1_Contents'></a>\n",
    "\n",
    "* [1. Data Wrangling and EDA](#1_Data_wrangling_eda)\n",
    "    * [1.1 Contents](#1.1_Contents)\n",
    "    * [1.2 Introduction](#1.2_Introduction)\n",
    "    * [1.3 Imports](#1.3_Imports)\n",
    "        * [1.3.1 Import packages](#1.3.1_import_packages)\n",
    "        * [1.3.2 Access Twitter API](#1.3.2_twitter_api)\n",
    "        * [1.3.3 Download JD Tweets](#1.3.3_jd_tweets)\n",
    "        * [1.3.4 Download S&P 500 Tweets](#1.3.4_sp_tweets)\n",
    "        * [1.3.5 Access Yahoo API](#1.3.5_yahoo_api)\n",
    "        * [1.3.6 Access Twitter API](#1.3.2_twitter_api)\n",
    "    * [2.1 Explore datasets](#2.1_explore_data)\n",
    "        * [2.1.1 JD Twitter Data](#2.1.1_jd_twitter)\n",
    "            * [2.1.1.1 JD Twitter Sentiment Analysis](#2.1.1.1_jd_twitter_sentiment)\n",
    "        * [2.1.2 SP500 Twitter Data](#2.1.2_sp_twitter)\n",
    "            * [2.1.2.1 SP500 Twitter Sentiment Analysis](#2.1.2.1_sp_twitter_sentiment)\n",
    "        * [2.1.3 JD Stock Price Data](#2.1.3_jd_price)\n",
    "            * [2.1.3.1 JD Time Series Feature Engineering](#2.1.3.1_jd_ts_feature_eng)\n",
    "        * [2.1.4 SP500 Stock Price Data](#2.1.4_sp_price)\n",
    "            * [2.1.4.1 SP500 Time Series Feature Engineering](#2.1.4.1_sp_ts_feature_eng)\n",
    "        * [3.4.5 Top Countries by Freedom](#3.4.5_top_freedom)\n",
    "        * [3.4.6 Top Countries by Generosity](#3.4.6_top_generosity)\n",
    "        * [3.4.7 Top Countries by Perception of Corruption](#3.4.7_top_corruption)\n",
    "        * [3.4.8 Top Countries by Income Inequality](#3.4.8_top_gini)\n",
    "        * [3.4.9 Top Countries by Income per capita](#3.4.9_top_income)\n",
    "        * [3.4.10 Top Countries by Fertility](#3.4.10_top_fertility)\n",
    "        * [3.4.11 Top Countries by Child Mortality](#3.4.11_top_childmort)\n",
    "        * [3.4.12 Top Countries by Labor Participation](#3.4.12_top_labor)\n",
    "    * [3.1 Resources to review for future analysis](#3.1_resources)\n",
    "    * [3.6 Histograms for continous variables](#3.6_histograms)\n",
    "    * [3.7 Interactions between all variables](#3.7_interactions)\n",
    "    \n",
    "    \n",
    "        "
   ]
  },
  {
   "cell_type": "markdown",
   "metadata": {},
   "source": [
    "## 1.2 Introduction  <a id='1.2_Introduction'></a>"
   ]
  },
  {
   "cell_type": "markdown",
   "metadata": {},
   "source": [
    "The purpose of this capstone project is to develop a model to predict stock movements, either predict stock price level, or identify positive or negative movements. More specifically we'd like to identify when the market might turn.\n",
    "\n",
    "To accomplish this we will leverage twitter data to perform sentiment analysis on the SP500 index and the JD.com stock. We would then like to combine this with time series data for these two investment vehicles to see if we can make any meaningful predictions.\n",
    "\n",
    "One constraint we have is that the Twitter data does not look back so I need to download data every day. We may need to download data for at least 30 trading days before we have enough data to establish meaningful relationships with stock price. For the purposes of this capstone, we will use what data we can obtain, knowing that we will need to iterate on this model once we get more data in the future."
   ]
  },
  {
   "cell_type": "markdown",
   "metadata": {},
   "source": [
    "## 1.3 Import Data From Twitter<a id='1.3_Imports'></a>"
   ]
  },
  {
   "cell_type": "markdown",
   "metadata": {},
   "source": [
    "### 1.3.1 Import packages<a id='1.3.1_import_packages'></a>"
   ]
  },
  {
   "cell_type": "code",
   "execution_count": 282,
   "metadata": {
    "scrolled": true
   },
   "outputs": [],
   "source": [
    "#!pip install tweepy    # Installed this package on August 24 2021\n",
    "#! pip install yfinance==0.1.63 # installed new version on August 25 2021\n",
    "import re\n",
    "import tweepy, json\n",
    "import pandas as pd\n",
    "import numpy as np\n",
    "import os\n",
    "import yfinance as yf\n",
    "from glob import glob\n",
    "import matplotlib.pyplot as plt\n",
    "import seaborn as sns\n",
    "import time\n",
    "import psycopg2\n",
    "import datetime as dt\n",
    "from dateutil.parser import parse\n",
    "import datetime\n",
    "import nltk\n",
    "from nltk.sentiment.vader import SentimentIntensityAnalyzer\n",
    "#nltk.download('vader_lexicon')"
   ]
  },
  {
   "cell_type": "markdown",
   "metadata": {},
   "source": [
    "### 1.3.2 Access Twitter with API<a id='1.3.2_twitter_api'></a>"
   ]
  },
  {
   "cell_type": "code",
   "execution_count": 283,
   "metadata": {
    "scrolled": true
   },
   "outputs": [],
   "source": [
    "# Assign keys obtained from Twitter\n",
    "\n",
    "access_token = '1430161145311150080-Ha8nY3LbOwlQ7P27fZsYrwnNm6YOxq'\n",
    "access_token_secret = 'fUP44yQLzb3FfsRqQE7rFtBVUqJIR4whksVTA2j19Zses'\n",
    "consumer_key = 'ugxDeMXFmTPlKDaTZmoeLB3oS'\n",
    "consumer_secret = 'yUfEyw8YGx0RrrE4JyGvhwKIBzRteJzLmL8rhIYunjdG1uGBCp'\n",
    "auth = tweepy.OAuthHandler(consumer_key, consumer_secret)\n",
    "auth.set_access_token(access_token, access_token_secret)\n",
    "api = tweepy.API(auth, wait_on_rate_limit=True)"
   ]
  },
  {
   "cell_type": "markdown",
   "metadata": {},
   "source": [
    "Resources:\n",
    "\n",
    "* We want to use the User Mention Timeline API. Details found here https://developer.twitter.com/en/portal/products\n",
    "* Another resource is the analyzing-social-media-data-in-python course in DataCamp.\n",
    "* https://www.earthdatascience.org/courses/use-data-open-source-python/intro-to-apis/twitter-data-in-python/"
   ]
  },
  {
   "cell_type": "markdown",
   "metadata": {},
   "source": [
    "### 1.3.3 Download tweets for JD.com<a id='1.3.3_jd_tweets'></a>"
   ]
  },
  {
   "cell_type": "code",
   "execution_count": 358,
   "metadata": {
    "scrolled": true
   },
   "outputs": [],
   "source": [
    "# Define the search term and the date_since date as variables\n",
    "\n",
    "search_words = 'JD.com -filter:retweets'\n",
    "date_since = '2021-08-26'"
   ]
  },
  {
   "cell_type": "code",
   "execution_count": 359,
   "metadata": {
    "scrolled": true
   },
   "outputs": [],
   "source": [
    "# Collect tweets\n",
    "\n",
    "tweets = tweepy.Cursor(api.search, q=search_words, lang='en', result_type = 'mixed',since=date_since).items(500)"
   ]
  },
  {
   "cell_type": "markdown",
   "metadata": {},
   "source": [
    "**Lets create a list comprehension function that will pull data and convert to a dataframe**"
   ]
  },
  {
   "cell_type": "code",
   "execution_count": 360,
   "metadata": {
    "scrolled": true
   },
   "outputs": [],
   "source": [
    "tweet_data = [[tweet.created_at, tweet.text, tweet.retweet_count, tweet.favorite_count] for tweet in tweets]"
   ]
  },
  {
   "cell_type": "code",
   "execution_count": 361,
   "metadata": {
    "scrolled": true
   },
   "outputs": [],
   "source": [
    "tweet_df = pd.DataFrame(tweet_data, columns = ['created_at', 'text', 'retweet_count', 'favourite_count'])"
   ]
  },
  {
   "cell_type": "code",
   "execution_count": 362,
   "metadata": {
    "scrolled": true
   },
   "outputs": [
    {
     "data": {
      "text/html": [
       "<div>\n",
       "<style scoped>\n",
       "    .dataframe tbody tr th:only-of-type {\n",
       "        vertical-align: middle;\n",
       "    }\n",
       "\n",
       "    .dataframe tbody tr th {\n",
       "        vertical-align: top;\n",
       "    }\n",
       "\n",
       "    .dataframe thead th {\n",
       "        text-align: right;\n",
       "    }\n",
       "</style>\n",
       "<table border=\"1\" class=\"dataframe\">\n",
       "  <thead>\n",
       "    <tr style=\"text-align: right;\">\n",
       "      <th></th>\n",
       "      <th>created_at</th>\n",
       "      <th>text</th>\n",
       "      <th>retweet_count</th>\n",
       "      <th>favourite_count</th>\n",
       "    </tr>\n",
       "  </thead>\n",
       "  <tbody>\n",
       "    <tr>\n",
       "      <th>0</th>\n",
       "      <td>2021-08-26 10:11:43</td>\n",
       "      <td>Chinese e-commerce giant https://t.co/IYA4U1l3...</td>\n",
       "      <td>10</td>\n",
       "      <td>12</td>\n",
       "    </tr>\n",
       "    <tr>\n",
       "      <th>1</th>\n",
       "      <td>2021-08-26 19:42:59</td>\n",
       "      <td>@stephenLweiss E&amp;amp;Y, PwC, Deloitte, KPMG, e...</td>\n",
       "      <td>0</td>\n",
       "      <td>0</td>\n",
       "    </tr>\n",
       "    <tr>\n",
       "      <th>2</th>\n",
       "      <td>2021-08-26 18:56:40</td>\n",
       "      <td>@stillvoll_sexy @ConnJoltrane @ruima @finimize...</td>\n",
       "      <td>0</td>\n",
       "      <td>0</td>\n",
       "    </tr>\n",
       "    <tr>\n",
       "      <th>3</th>\n",
       "      <td>2021-08-26 18:42:07</td>\n",
       "      <td>How https://t.co/6poLrT4SwO Scores Against Ali...</td>\n",
       "      <td>0</td>\n",
       "      <td>0</td>\n",
       "    </tr>\n",
       "    <tr>\n",
       "      <th>4</th>\n",
       "      <td>2021-08-26 18:16:01</td>\n",
       "      <td>Chinese tech stocks on the Hong Kong exchange ...</td>\n",
       "      <td>1</td>\n",
       "      <td>0</td>\n",
       "    </tr>\n",
       "  </tbody>\n",
       "</table>\n",
       "</div>"
      ],
      "text/plain": [
       "           created_at                                               text  \\\n",
       "0 2021-08-26 10:11:43  Chinese e-commerce giant https://t.co/IYA4U1l3...   \n",
       "1 2021-08-26 19:42:59  @stephenLweiss E&amp;Y, PwC, Deloitte, KPMG, e...   \n",
       "2 2021-08-26 18:56:40  @stillvoll_sexy @ConnJoltrane @ruima @finimize...   \n",
       "3 2021-08-26 18:42:07  How https://t.co/6poLrT4SwO Scores Against Ali...   \n",
       "4 2021-08-26 18:16:01  Chinese tech stocks on the Hong Kong exchange ...   \n",
       "\n",
       "   retweet_count  favourite_count  \n",
       "0             10               12  \n",
       "1              0                0  \n",
       "2              0                0  \n",
       "3              0                0  \n",
       "4              1                0  "
      ]
     },
     "execution_count": 362,
     "metadata": {},
     "output_type": "execute_result"
    }
   ],
   "source": [
    "tweet_df.head()"
   ]
  },
  {
   "cell_type": "code",
   "execution_count": 363,
   "metadata": {
    "scrolled": true
   },
   "outputs": [],
   "source": [
    "# Export JD.com tweets to excel. Comment this code out so we don't overrite previously downloaded data\n",
    "\n",
    "#tweet_df.to_csv('./twitter_data/JD_8272021.csv', index=False)"
   ]
  },
  {
   "cell_type": "markdown",
   "metadata": {},
   "source": [
    "### 1.3.4 Download tweets for SP500<a id='1.3.4_sp_tweets'></a>"
   ]
  },
  {
   "cell_type": "code",
   "execution_count": 364,
   "metadata": {
    "scrolled": true
   },
   "outputs": [],
   "source": [
    "# Define the search term and the date_since date as variables\n",
    "\n",
    "search_words_sp = 'SP500 -filter:retweets'\n",
    "date_since_sp = '2021-08-26'"
   ]
  },
  {
   "cell_type": "code",
   "execution_count": 365,
   "metadata": {
    "scrolled": true
   },
   "outputs": [],
   "source": [
    "# Collect tweets\n",
    "\n",
    "tweets_sp = tweepy.Cursor(api.search, q=search_words_sp, lang='en', result_type = 'mixed',since=date_since_sp).items(500)"
   ]
  },
  {
   "cell_type": "code",
   "execution_count": 366,
   "metadata": {
    "scrolled": true
   },
   "outputs": [],
   "source": [
    "tweet_data_sp = [[tweet.created_at, tweet.text, tweet.retweet_count, tweet.favorite_count] for tweet in tweets_sp]"
   ]
  },
  {
   "cell_type": "code",
   "execution_count": 367,
   "metadata": {
    "scrolled": true
   },
   "outputs": [],
   "source": [
    "tweet_df_sp = pd.DataFrame(tweet_data_sp, columns = ['created_at', 'text', 'retweet_count', 'favourite_count'])"
   ]
  },
  {
   "cell_type": "code",
   "execution_count": 368,
   "metadata": {
    "scrolled": true
   },
   "outputs": [
    {
     "data": {
      "text/html": [
       "<div>\n",
       "<style scoped>\n",
       "    .dataframe tbody tr th:only-of-type {\n",
       "        vertical-align: middle;\n",
       "    }\n",
       "\n",
       "    .dataframe tbody tr th {\n",
       "        vertical-align: top;\n",
       "    }\n",
       "\n",
       "    .dataframe thead th {\n",
       "        text-align: right;\n",
       "    }\n",
       "</style>\n",
       "<table border=\"1\" class=\"dataframe\">\n",
       "  <thead>\n",
       "    <tr style=\"text-align: right;\">\n",
       "      <th></th>\n",
       "      <th>created_at</th>\n",
       "      <th>text</th>\n",
       "      <th>retweet_count</th>\n",
       "      <th>favourite_count</th>\n",
       "    </tr>\n",
       "  </thead>\n",
       "  <tbody>\n",
       "    <tr>\n",
       "      <th>0</th>\n",
       "      <td>2021-08-26 20:27:27</td>\n",
       "      <td>David White hosts the Power Trading Hour for T...</td>\n",
       "      <td>0</td>\n",
       "      <td>0</td>\n",
       "    </tr>\n",
       "    <tr>\n",
       "      <th>1</th>\n",
       "      <td>2021-08-26 20:26:12</td>\n",
       "      <td>🔴🟡🟢 TRADING ALGORITMICO  -  ALGORITHMIC TRADIN...</td>\n",
       "      <td>0</td>\n",
       "      <td>0</td>\n",
       "    </tr>\n",
       "    <tr>\n",
       "      <th>2</th>\n",
       "      <td>2021-08-26 20:25:05</td>\n",
       "      <td>Stocks in the United States bounced on Thursda...</td>\n",
       "      <td>0</td>\n",
       "      <td>0</td>\n",
       "    </tr>\n",
       "    <tr>\n",
       "      <th>3</th>\n",
       "      <td>2021-08-26 20:21:50</td>\n",
       "      <td>JPow to announce tomorrow that Fed will start ...</td>\n",
       "      <td>0</td>\n",
       "      <td>1</td>\n",
       "    </tr>\n",
       "    <tr>\n",
       "      <th>4</th>\n",
       "      <td>2021-08-26 20:16:07</td>\n",
       "      <td>Nothing change bear should break 4390 otherwis...</td>\n",
       "      <td>0</td>\n",
       "      <td>0</td>\n",
       "    </tr>\n",
       "  </tbody>\n",
       "</table>\n",
       "</div>"
      ],
      "text/plain": [
       "           created_at                                               text  \\\n",
       "0 2021-08-26 20:27:27  David White hosts the Power Trading Hour for T...   \n",
       "1 2021-08-26 20:26:12  🔴🟡🟢 TRADING ALGORITMICO  -  ALGORITHMIC TRADIN...   \n",
       "2 2021-08-26 20:25:05  Stocks in the United States bounced on Thursda...   \n",
       "3 2021-08-26 20:21:50  JPow to announce tomorrow that Fed will start ...   \n",
       "4 2021-08-26 20:16:07  Nothing change bear should break 4390 otherwis...   \n",
       "\n",
       "   retweet_count  favourite_count  \n",
       "0              0                0  \n",
       "1              0                0  \n",
       "2              0                0  \n",
       "3              0                1  \n",
       "4              0                0  "
      ]
     },
     "execution_count": 368,
     "metadata": {},
     "output_type": "execute_result"
    }
   ],
   "source": [
    "tweet_df_sp.head()"
   ]
  },
  {
   "cell_type": "code",
   "execution_count": 369,
   "metadata": {
    "scrolled": true
   },
   "outputs": [],
   "source": [
    "# Export SP500 tweets to excel. Comment this code out so we don't overrite previously downloaded data\n",
    "\n",
    "#tweet_df_sp.to_csv('./twitter_data/SP_8262021.csv', index=False)"
   ]
  },
  {
   "cell_type": "markdown",
   "metadata": {},
   "source": [
    "**Instructions**\n",
    "\n",
    "Need to run the API call for JD.com and SP everyday after at 4:30pm to ensure we capture all information that happened during the trading day."
   ]
  },
  {
   "cell_type": "markdown",
   "metadata": {},
   "source": [
    "### 1.3.4 Access Yahoo API<a id='1.3.5_yahoo_api'></a>"
   ]
  },
  {
   "cell_type": "code",
   "execution_count": 296,
   "metadata": {
    "scrolled": true
   },
   "outputs": [],
   "source": [
    "# create function that downloads stock price from yahoo finance\n",
    "\n",
    "\n",
    "def yahoo_stock_dl(stockList, progress = True):\n",
    "    ''' function to download stock prices form yahoo finance.\n",
    "    \n",
    "    Inputs:\n",
    "    \n",
    "    stockList -> is a list of stock ticker symbols to download.\n",
    "    startDate -> start date of time series\n",
    "    endDate -> end date of time series\n",
    "    \n",
    "    Output:\n",
    "    \n",
    "    exports dataframe of stock price into working directory\n",
    "    '''\n",
    "    stockList = stockList\n",
    "    for stock in stockList:\n",
    "        \n",
    "        time.sleep(1)\n",
    "    \n",
    "        df = yf.download(tickers=stock, start = '2019-01-01', end = '2021-08-23', progress = False)\n",
    "\n",
    "        with pd.ExcelWriter('{name}.xlsx'.format(name=stock)) as writer:\n",
    "            df.to_excel(writer, 'Sheet1')        \n",
    "\n",
    "\n",
    "    "
   ]
  },
  {
   "cell_type": "code",
   "execution_count": 297,
   "metadata": {
    "scrolled": true
   },
   "outputs": [],
   "source": [
    "# Download stock price data and then exportit. May need to re-run to get new daily data\n",
    "\n",
    "yahoo_stock_dl(['JD', 'SPY'])"
   ]
  },
  {
   "cell_type": "markdown",
   "metadata": {},
   "source": [
    "Resources for working with Datetime:\n",
    "\n",
    "https://towardsdatascience.com/mastering-dates-and-timestamps-in-pandas-and-python-in-general-5b8c6edcc50c"
   ]
  },
  {
   "cell_type": "markdown",
   "metadata": {},
   "source": [
    "**Important Notes**\n",
    "\n",
    "We have now created a pipeline to download twitter data on JD and the S&P 500. We also have downloaded daily stock data for JD and SPY (SPY is an ETF that tracks the S&P 500)\n",
    "\n",
    "In the next few weeks we will need to continue to download twitter data on a daily basis at 4:30pm. This daily data will allow us to perform sentiment analysis for each day and give us a time series sentiment trend for each stock.\n",
    "\n"
   ]
  },
  {
   "cell_type": "markdown",
   "metadata": {},
   "source": [
    "## 2.1 Explore Datasets<a id='2.1_explore_data'></a>"
   ]
  },
  {
   "cell_type": "markdown",
   "metadata": {},
   "source": [
    "### 2.1.1 JD Twitter data<a id='2.1.1_jd_twitter'></a>"
   ]
  },
  {
   "cell_type": "code",
   "execution_count": 298,
   "metadata": {
    "scrolled": true
   },
   "outputs": [],
   "source": [
    "jd_twitter = pd.read_csv('./twitter_data/JD_8242021.csv')"
   ]
  },
  {
   "cell_type": "code",
   "execution_count": 299,
   "metadata": {
    "scrolled": true
   },
   "outputs": [
    {
     "data": {
      "text/html": [
       "<div>\n",
       "<style scoped>\n",
       "    .dataframe tbody tr th:only-of-type {\n",
       "        vertical-align: middle;\n",
       "    }\n",
       "\n",
       "    .dataframe tbody tr th {\n",
       "        vertical-align: top;\n",
       "    }\n",
       "\n",
       "    .dataframe thead th {\n",
       "        text-align: right;\n",
       "    }\n",
       "</style>\n",
       "<table border=\"1\" class=\"dataframe\">\n",
       "  <thead>\n",
       "    <tr style=\"text-align: right;\">\n",
       "      <th></th>\n",
       "      <th>created_at</th>\n",
       "      <th>text</th>\n",
       "      <th>retweet_count</th>\n",
       "      <th>favourite_count</th>\n",
       "    </tr>\n",
       "  </thead>\n",
       "  <tbody>\n",
       "    <tr>\n",
       "      <th>0</th>\n",
       "      <td>2021-08-24 07:34:22</td>\n",
       "      <td>Chinese tech stocks rally as https://t.co/l0RH...</td>\n",
       "      <td>21</td>\n",
       "      <td>52</td>\n",
       "    </tr>\n",
       "    <tr>\n",
       "      <th>1</th>\n",
       "      <td>2021-08-25 10:34:17</td>\n",
       "      <td>\"We swapped out of other names that continue t...</td>\n",
       "      <td>4</td>\n",
       "      <td>19</td>\n",
       "    </tr>\n",
       "    <tr>\n",
       "      <th>2</th>\n",
       "      <td>2021-08-25 15:03:34</td>\n",
       "      <td>$MF: Missfresh Ltd. sales on https://t.co/uhas...</td>\n",
       "      <td>0</td>\n",
       "      <td>0</td>\n",
       "    </tr>\n",
       "    <tr>\n",
       "      <th>3</th>\n",
       "      <td>2021-08-25 14:48:46</td>\n",
       "      <td>WSJmarkets: Shares of Pinduoduo and https://t....</td>\n",
       "      <td>0</td>\n",
       "      <td>0</td>\n",
       "    </tr>\n",
       "    <tr>\n",
       "      <th>4</th>\n",
       "      <td>2021-08-25 14:45:06</td>\n",
       "      <td>Shares of Pinduoduo and https://t.co/XrmiDqOQQ...</td>\n",
       "      <td>3</td>\n",
       "      <td>8</td>\n",
       "    </tr>\n",
       "    <tr>\n",
       "      <th>...</th>\n",
       "      <td>...</td>\n",
       "      <td>...</td>\n",
       "      <td>...</td>\n",
       "      <td>...</td>\n",
       "    </tr>\n",
       "    <tr>\n",
       "      <th>489</th>\n",
       "      <td>2021-08-17 10:55:46</td>\n",
       "      <td>*MELVIN CAPITAL TAKES NEW STAKES IN https://t....</td>\n",
       "      <td>0</td>\n",
       "      <td>1</td>\n",
       "    </tr>\n",
       "    <tr>\n",
       "      <th>490</th>\n",
       "      <td>2021-08-17 10:52:01</td>\n",
       "      <td>*MELVIN CAPITAL TAKES NEW STAKES IN https://t....</td>\n",
       "      <td>14</td>\n",
       "      <td>39</td>\n",
       "    </tr>\n",
       "    <tr>\n",
       "      <th>491</th>\n",
       "      <td>2021-08-17 09:14:35</td>\n",
       "      <td>Leading the new fashion of electrical consumpt...</td>\n",
       "      <td>0</td>\n",
       "      <td>0</td>\n",
       "    </tr>\n",
       "    <tr>\n",
       "      <th>492</th>\n",
       "      <td>2021-08-17 09:10:21</td>\n",
       "      <td>Redmi K40 Gaming Edition Teased in New Inverse...</td>\n",
       "      <td>0</td>\n",
       "      <td>0</td>\n",
       "    </tr>\n",
       "    <tr>\n",
       "      <th>493</th>\n",
       "      <td>2021-08-17 08:47:40</td>\n",
       "      <td>Weibo updated with Spokesperson JD. Com #XiaoZ...</td>\n",
       "      <td>0</td>\n",
       "      <td>2</td>\n",
       "    </tr>\n",
       "  </tbody>\n",
       "</table>\n",
       "<p>494 rows × 4 columns</p>\n",
       "</div>"
      ],
      "text/plain": [
       "              created_at                                               text  \\\n",
       "0    2021-08-24 07:34:22  Chinese tech stocks rally as https://t.co/l0RH...   \n",
       "1    2021-08-25 10:34:17  \"We swapped out of other names that continue t...   \n",
       "2    2021-08-25 15:03:34  $MF: Missfresh Ltd. sales on https://t.co/uhas...   \n",
       "3    2021-08-25 14:48:46  WSJmarkets: Shares of Pinduoduo and https://t....   \n",
       "4    2021-08-25 14:45:06  Shares of Pinduoduo and https://t.co/XrmiDqOQQ...   \n",
       "..                   ...                                                ...   \n",
       "489  2021-08-17 10:55:46  *MELVIN CAPITAL TAKES NEW STAKES IN https://t....   \n",
       "490  2021-08-17 10:52:01  *MELVIN CAPITAL TAKES NEW STAKES IN https://t....   \n",
       "491  2021-08-17 09:14:35  Leading the new fashion of electrical consumpt...   \n",
       "492  2021-08-17 09:10:21  Redmi K40 Gaming Edition Teased in New Inverse...   \n",
       "493  2021-08-17 08:47:40  Weibo updated with Spokesperson JD. Com #XiaoZ...   \n",
       "\n",
       "     retweet_count  favourite_count  \n",
       "0               21               52  \n",
       "1                4               19  \n",
       "2                0                0  \n",
       "3                0                0  \n",
       "4                3                8  \n",
       "..             ...              ...  \n",
       "489              0                1  \n",
       "490             14               39  \n",
       "491              0                0  \n",
       "492              0                0  \n",
       "493              0                2  \n",
       "\n",
       "[494 rows x 4 columns]"
      ]
     },
     "execution_count": 299,
     "metadata": {},
     "output_type": "execute_result"
    }
   ],
   "source": [
    "# Have a look at the data.\n",
    "\n",
    "jd_twitter"
   ]
  },
  {
   "cell_type": "code",
   "execution_count": 300,
   "metadata": {
    "scrolled": true
   },
   "outputs": [
    {
     "name": "stdout",
     "output_type": "stream",
     "text": [
      "<class 'pandas.core.frame.DataFrame'>\n",
      "RangeIndex: 494 entries, 0 to 493\n",
      "Data columns (total 4 columns):\n",
      " #   Column           Non-Null Count  Dtype \n",
      "---  ------           --------------  ----- \n",
      " 0   created_at       494 non-null    object\n",
      " 1   text             494 non-null    object\n",
      " 2   retweet_count    494 non-null    int64 \n",
      " 3   favourite_count  494 non-null    int64 \n",
      "dtypes: int64(2), object(2)\n",
      "memory usage: 15.6+ KB\n"
     ]
    }
   ],
   "source": [
    "jd_twitter.info()"
   ]
  },
  {
   "cell_type": "code",
   "execution_count": 301,
   "metadata": {
    "scrolled": true
   },
   "outputs": [],
   "source": [
    "jd_twitter['date'] = jd_twitter['created_at'].apply(lambda x : parse(x))"
   ]
  },
  {
   "cell_type": "code",
   "execution_count": 302,
   "metadata": {
    "scrolled": true
   },
   "outputs": [
    {
     "name": "stderr",
     "output_type": "stream",
     "text": [
      "/Users/davidlam/opt/anaconda3/lib/python3.7/site-packages/ipykernel_launcher.py:2: FutureWarning: Series.dt.weekofyear and Series.dt.week have been deprecated.  Please use Series.dt.isocalendar().week instead.\n",
      "  \n"
     ]
    }
   ],
   "source": [
    "jd_twitter['month'] = jd_twitter['date'].dt.month\n",
    "jd_twitter['week'] = jd_twitter['date'].dt.week\n",
    "jd_twitter['day'] = jd_twitter['date'].dt.day"
   ]
  },
  {
   "cell_type": "code",
   "execution_count": 303,
   "metadata": {
    "scrolled": true
   },
   "outputs": [
    {
     "data": {
      "text/html": [
       "<div>\n",
       "<style scoped>\n",
       "    .dataframe tbody tr th:only-of-type {\n",
       "        vertical-align: middle;\n",
       "    }\n",
       "\n",
       "    .dataframe tbody tr th {\n",
       "        vertical-align: top;\n",
       "    }\n",
       "\n",
       "    .dataframe thead th {\n",
       "        text-align: right;\n",
       "    }\n",
       "</style>\n",
       "<table border=\"1\" class=\"dataframe\">\n",
       "  <thead>\n",
       "    <tr style=\"text-align: right;\">\n",
       "      <th></th>\n",
       "      <th>created_at</th>\n",
       "      <th>text</th>\n",
       "      <th>retweet_count</th>\n",
       "      <th>favourite_count</th>\n",
       "      <th>date</th>\n",
       "      <th>month</th>\n",
       "      <th>week</th>\n",
       "      <th>day</th>\n",
       "    </tr>\n",
       "  </thead>\n",
       "  <tbody>\n",
       "    <tr>\n",
       "      <th>0</th>\n",
       "      <td>2021-08-24 07:34:22</td>\n",
       "      <td>Chinese tech stocks rally as https://t.co/l0RH...</td>\n",
       "      <td>21</td>\n",
       "      <td>52</td>\n",
       "      <td>2021-08-24 07:34:22</td>\n",
       "      <td>8</td>\n",
       "      <td>34</td>\n",
       "      <td>24</td>\n",
       "    </tr>\n",
       "    <tr>\n",
       "      <th>1</th>\n",
       "      <td>2021-08-25 10:34:17</td>\n",
       "      <td>\"We swapped out of other names that continue t...</td>\n",
       "      <td>4</td>\n",
       "      <td>19</td>\n",
       "      <td>2021-08-25 10:34:17</td>\n",
       "      <td>8</td>\n",
       "      <td>34</td>\n",
       "      <td>25</td>\n",
       "    </tr>\n",
       "    <tr>\n",
       "      <th>2</th>\n",
       "      <td>2021-08-25 15:03:34</td>\n",
       "      <td>$MF: Missfresh Ltd. sales on https://t.co/uhas...</td>\n",
       "      <td>0</td>\n",
       "      <td>0</td>\n",
       "      <td>2021-08-25 15:03:34</td>\n",
       "      <td>8</td>\n",
       "      <td>34</td>\n",
       "      <td>25</td>\n",
       "    </tr>\n",
       "    <tr>\n",
       "      <th>3</th>\n",
       "      <td>2021-08-25 14:48:46</td>\n",
       "      <td>WSJmarkets: Shares of Pinduoduo and https://t....</td>\n",
       "      <td>0</td>\n",
       "      <td>0</td>\n",
       "      <td>2021-08-25 14:48:46</td>\n",
       "      <td>8</td>\n",
       "      <td>34</td>\n",
       "      <td>25</td>\n",
       "    </tr>\n",
       "    <tr>\n",
       "      <th>4</th>\n",
       "      <td>2021-08-25 14:45:06</td>\n",
       "      <td>Shares of Pinduoduo and https://t.co/XrmiDqOQQ...</td>\n",
       "      <td>3</td>\n",
       "      <td>8</td>\n",
       "      <td>2021-08-25 14:45:06</td>\n",
       "      <td>8</td>\n",
       "      <td>34</td>\n",
       "      <td>25</td>\n",
       "    </tr>\n",
       "  </tbody>\n",
       "</table>\n",
       "</div>"
      ],
      "text/plain": [
       "            created_at                                               text  \\\n",
       "0  2021-08-24 07:34:22  Chinese tech stocks rally as https://t.co/l0RH...   \n",
       "1  2021-08-25 10:34:17  \"We swapped out of other names that continue t...   \n",
       "2  2021-08-25 15:03:34  $MF: Missfresh Ltd. sales on https://t.co/uhas...   \n",
       "3  2021-08-25 14:48:46  WSJmarkets: Shares of Pinduoduo and https://t....   \n",
       "4  2021-08-25 14:45:06  Shares of Pinduoduo and https://t.co/XrmiDqOQQ...   \n",
       "\n",
       "   retweet_count  favourite_count                date  month  week  day  \n",
       "0             21               52 2021-08-24 07:34:22      8    34   24  \n",
       "1              4               19 2021-08-25 10:34:17      8    34   25  \n",
       "2              0                0 2021-08-25 15:03:34      8    34   25  \n",
       "3              0                0 2021-08-25 14:48:46      8    34   25  \n",
       "4              3                8 2021-08-25 14:45:06      8    34   25  "
      ]
     },
     "execution_count": 303,
     "metadata": {},
     "output_type": "execute_result"
    }
   ],
   "source": [
    "jd_twitter.head()"
   ]
  },
  {
   "cell_type": "code",
   "execution_count": 304,
   "metadata": {
    "scrolled": true
   },
   "outputs": [
    {
     "name": "stdout",
     "output_type": "stream",
     "text": [
      "<class 'pandas.core.frame.DataFrame'>\n",
      "RangeIndex: 494 entries, 0 to 493\n",
      "Data columns (total 8 columns):\n",
      " #   Column           Non-Null Count  Dtype         \n",
      "---  ------           --------------  -----         \n",
      " 0   created_at       494 non-null    object        \n",
      " 1   text             494 non-null    object        \n",
      " 2   retweet_count    494 non-null    int64         \n",
      " 3   favourite_count  494 non-null    int64         \n",
      " 4   date             494 non-null    datetime64[ns]\n",
      " 5   month            494 non-null    int64         \n",
      " 6   week             494 non-null    int64         \n",
      " 7   day              494 non-null    int64         \n",
      "dtypes: datetime64[ns](1), int64(5), object(2)\n",
      "memory usage: 31.0+ KB\n"
     ]
    }
   ],
   "source": [
    "jd_twitter.info()"
   ]
  },
  {
   "cell_type": "code",
   "execution_count": 305,
   "metadata": {
    "scrolled": true
   },
   "outputs": [
    {
     "data": {
      "text/plain": [
       "(array([488.,   3.,   1.,   1.,   0.,   0.,   0.,   0.,   0.,   1.]),\n",
       " array([  0. ,  11.4,  22.8,  34.2,  45.6,  57. ,  68.4,  79.8,  91.2,\n",
       "        102.6, 114. ]),\n",
       " [<matplotlib.patches.Polygon at 0x7fbaa3140090>])"
      ]
     },
     "execution_count": 305,
     "metadata": {},
     "output_type": "execute_result"
    },
    {
     "data": {
      "image/png": "[encoded data removed]",
      "text/plain": [
       "<Figure size 432x288 with 1 Axes>"
      ]
     },
     "metadata": {
      "needs_background": "light"
     },
     "output_type": "display_data"
    }
   ],
   "source": [
    "plt.hist(jd_twitter['retweet_count'], histtype='step')"
   ]
  },
  {
   "cell_type": "markdown",
   "metadata": {},
   "source": [
    "**Majority of tweets have very low retweets**"
   ]
  },
  {
   "cell_type": "code",
   "execution_count": 306,
   "metadata": {
    "scrolled": false
   },
   "outputs": [
    {
     "data": {
      "text/plain": [
       "(array([487.,   4.,   0.,   1.,   0.,   1.,   0.,   0.,   0.,   1.]),\n",
       " array([  0. ,  27.4,  54.8,  82.2, 109.6, 137. , 164.4, 191.8, 219.2,\n",
       "        246.6, 274. ]),\n",
       " [<matplotlib.patches.Polygon at 0x7fbab2767f90>])"
      ]
     },
     "execution_count": 306,
     "metadata": {},
     "output_type": "execute_result"
    },
    {
     "data": {
      "image/png": "[encoded data removed]",
      "text/plain": [
       "<Figure size 432x288 with 1 Axes>"
      ]
     },
     "metadata": {
      "needs_background": "light"
     },
     "output_type": "display_data"
    }
   ],
   "source": [
    "plt.hist(jd_twitter['favourite_count'], histtype='step')"
   ]
  },
  {
   "cell_type": "markdown",
   "metadata": {},
   "source": [
    "**Majority of tweets have not been favourited**"
   ]
  },
  {
   "cell_type": "markdown",
   "metadata": {},
   "source": [
    "#### 2.1.1.1 JD Twitter Sentiment Analysis<a id='2.1.1.1_jd_twitter_sentiment'></a>"
   ]
  },
  {
   "cell_type": "code",
   "execution_count": 307,
   "metadata": {
    "scrolled": true
   },
   "outputs": [],
   "source": [
    "sid = SentimentIntensityAnalyzer()\n",
    "sentiment_score = jd_twitter['text'].apply(sid.polarity_scores)"
   ]
  },
  {
   "cell_type": "code",
   "execution_count": 308,
   "metadata": {
    "scrolled": true
   },
   "outputs": [
    {
     "data": {
      "text/html": [
       "<div>\n",
       "<style scoped>\n",
       "    .dataframe tbody tr th:only-of-type {\n",
       "        vertical-align: middle;\n",
       "    }\n",
       "\n",
       "    .dataframe tbody tr th {\n",
       "        vertical-align: top;\n",
       "    }\n",
       "\n",
       "    .dataframe thead th {\n",
       "        text-align: right;\n",
       "    }\n",
       "</style>\n",
       "<table border=\"1\" class=\"dataframe\">\n",
       "  <thead>\n",
       "    <tr style=\"text-align: right;\">\n",
       "      <th></th>\n",
       "      <th>created_at</th>\n",
       "      <th>text</th>\n",
       "      <th>retweet_count</th>\n",
       "      <th>favourite_count</th>\n",
       "      <th>date</th>\n",
       "      <th>month</th>\n",
       "      <th>week</th>\n",
       "      <th>day</th>\n",
       "      <th>sentiment</th>\n",
       "    </tr>\n",
       "  </thead>\n",
       "  <tbody>\n",
       "    <tr>\n",
       "      <th>0</th>\n",
       "      <td>2021-08-24 07:34:22</td>\n",
       "      <td>Chinese tech stocks rally as https://t.co/l0RH...</td>\n",
       "      <td>21</td>\n",
       "      <td>52</td>\n",
       "      <td>2021-08-24 07:34:22</td>\n",
       "      <td>8</td>\n",
       "      <td>34</td>\n",
       "      <td>24</td>\n",
       "      <td>0.000</td>\n",
       "    </tr>\n",
       "    <tr>\n",
       "      <th>1</th>\n",
       "      <td>2021-08-25 10:34:17</td>\n",
       "      <td>\"We swapped out of other names that continue t...</td>\n",
       "      <td>4</td>\n",
       "      <td>19</td>\n",
       "      <td>2021-08-25 10:34:17</td>\n",
       "      <td>8</td>\n",
       "      <td>34</td>\n",
       "      <td>25</td>\n",
       "      <td>0.000</td>\n",
       "    </tr>\n",
       "    <tr>\n",
       "      <th>2</th>\n",
       "      <td>2021-08-25 15:03:34</td>\n",
       "      <td>$MF: Missfresh Ltd. sales on https://t.co/uhas...</td>\n",
       "      <td>0</td>\n",
       "      <td>0</td>\n",
       "      <td>2021-08-25 15:03:34</td>\n",
       "      <td>8</td>\n",
       "      <td>34</td>\n",
       "      <td>25</td>\n",
       "      <td>0.000</td>\n",
       "    </tr>\n",
       "    <tr>\n",
       "      <th>3</th>\n",
       "      <td>2021-08-25 14:48:46</td>\n",
       "      <td>WSJmarkets: Shares of Pinduoduo and https://t....</td>\n",
       "      <td>0</td>\n",
       "      <td>0</td>\n",
       "      <td>2021-08-25 14:48:46</td>\n",
       "      <td>8</td>\n",
       "      <td>34</td>\n",
       "      <td>25</td>\n",
       "      <td>0.296</td>\n",
       "    </tr>\n",
       "    <tr>\n",
       "      <th>4</th>\n",
       "      <td>2021-08-25 14:45:06</td>\n",
       "      <td>Shares of Pinduoduo and https://t.co/XrmiDqOQQ...</td>\n",
       "      <td>3</td>\n",
       "      <td>8</td>\n",
       "      <td>2021-08-25 14:45:06</td>\n",
       "      <td>8</td>\n",
       "      <td>34</td>\n",
       "      <td>25</td>\n",
       "      <td>0.296</td>\n",
       "    </tr>\n",
       "  </tbody>\n",
       "</table>\n",
       "</div>"
      ],
      "text/plain": [
       "            created_at                                               text  \\\n",
       "0  2021-08-24 07:34:22  Chinese tech stocks rally as https://t.co/l0RH...   \n",
       "1  2021-08-25 10:34:17  \"We swapped out of other names that continue t...   \n",
       "2  2021-08-25 15:03:34  $MF: Missfresh Ltd. sales on https://t.co/uhas...   \n",
       "3  2021-08-25 14:48:46  WSJmarkets: Shares of Pinduoduo and https://t....   \n",
       "4  2021-08-25 14:45:06  Shares of Pinduoduo and https://t.co/XrmiDqOQQ...   \n",
       "\n",
       "   retweet_count  favourite_count                date  month  week  day  \\\n",
       "0             21               52 2021-08-24 07:34:22      8    34   24   \n",
       "1              4               19 2021-08-25 10:34:17      8    34   25   \n",
       "2              0                0 2021-08-25 15:03:34      8    34   25   \n",
       "3              0                0 2021-08-25 14:48:46      8    34   25   \n",
       "4              3                8 2021-08-25 14:45:06      8    34   25   \n",
       "\n",
       "   sentiment  \n",
       "0      0.000  \n",
       "1      0.000  \n",
       "2      0.000  \n",
       "3      0.296  \n",
       "4      0.296  "
      ]
     },
     "execution_count": 308,
     "metadata": {},
     "output_type": "execute_result"
    }
   ],
   "source": [
    "jd_twitter['sentiment'] = sentiment_score.apply(lambda x : x['compound'])\n",
    "jd_twitter.head()"
   ]
  },
  {
   "cell_type": "markdown",
   "metadata": {},
   "source": [
    "### 2.1.2 SP500 Twitter data<a id='2.1.2_sp_twitter'></a>"
   ]
  },
  {
   "cell_type": "code",
   "execution_count": 309,
   "metadata": {
    "scrolled": true
   },
   "outputs": [],
   "source": [
    "sp_twitter = pd.read_csv('./twitter_data/SP_8242021.csv')"
   ]
  },
  {
   "cell_type": "code",
   "execution_count": 310,
   "metadata": {
    "scrolled": true
   },
   "outputs": [
    {
     "data": {
      "text/html": [
       "<div>\n",
       "<style scoped>\n",
       "    .dataframe tbody tr th:only-of-type {\n",
       "        vertical-align: middle;\n",
       "    }\n",
       "\n",
       "    .dataframe tbody tr th {\n",
       "        vertical-align: top;\n",
       "    }\n",
       "\n",
       "    .dataframe thead th {\n",
       "        text-align: right;\n",
       "    }\n",
       "</style>\n",
       "<table border=\"1\" class=\"dataframe\">\n",
       "  <thead>\n",
       "    <tr style=\"text-align: right;\">\n",
       "      <th></th>\n",
       "      <th>created_at</th>\n",
       "      <th>text</th>\n",
       "      <th>retweet_count</th>\n",
       "      <th>favourite_count</th>\n",
       "    </tr>\n",
       "  </thead>\n",
       "  <tbody>\n",
       "    <tr>\n",
       "      <th>0</th>\n",
       "      <td>2021-08-24 21:52:06</td>\n",
       "      <td>The Nasdaq surpassed the 15,000 level for the ...</td>\n",
       "      <td>34</td>\n",
       "      <td>163</td>\n",
       "    </tr>\n",
       "    <tr>\n",
       "      <th>1</th>\n",
       "      <td>2021-08-25 09:31:14</td>\n",
       "      <td>US stock futures tread water after S&amp;amp;P 500...</td>\n",
       "      <td>9</td>\n",
       "      <td>14</td>\n",
       "    </tr>\n",
       "    <tr>\n",
       "      <th>2</th>\n",
       "      <td>2021-08-25 15:30:06</td>\n",
       "      <td>Join me &amp;amp; my @cfraresearch colleagues for ...</td>\n",
       "      <td>0</td>\n",
       "      <td>0</td>\n",
       "    </tr>\n",
       "    <tr>\n",
       "      <th>3</th>\n",
       "      <td>2021-08-25 15:24:51</td>\n",
       "      <td>@MacroAlf @CyberSpaceGal Based on Pe ratios of...</td>\n",
       "      <td>0</td>\n",
       "      <td>0</td>\n",
       "    </tr>\n",
       "    <tr>\n",
       "      <th>4</th>\n",
       "      <td>2021-08-25 15:22:56</td>\n",
       "      <td>Excess fiscal and #FederalReserve pumped liqui...</td>\n",
       "      <td>0</td>\n",
       "      <td>1</td>\n",
       "    </tr>\n",
       "    <tr>\n",
       "      <th>...</th>\n",
       "      <td>...</td>\n",
       "      <td>...</td>\n",
       "      <td>...</td>\n",
       "      <td>...</td>\n",
       "    </tr>\n",
       "    <tr>\n",
       "      <th>495</th>\n",
       "      <td>2021-08-23 15:07:12</td>\n",
       "      <td>Paysafe $PSFE\\n\\nBlock of 43,639 shares at $8....</td>\n",
       "      <td>1</td>\n",
       "      <td>3</td>\n",
       "    </tr>\n",
       "    <tr>\n",
       "      <th>496</th>\n",
       "      <td>2021-08-23 15:04:28</td>\n",
       "      <td>@ben_golub @arpitrage You can even read \"skew\"...</td>\n",
       "      <td>0</td>\n",
       "      <td>6</td>\n",
       "    </tr>\n",
       "    <tr>\n",
       "      <th>497</th>\n",
       "      <td>2021-08-23 15:03:20</td>\n",
       "      <td>Ford Motor $F\\n\\nBlock of 241,170 shares at $1...</td>\n",
       "      <td>0</td>\n",
       "      <td>2</td>\n",
       "    </tr>\n",
       "    <tr>\n",
       "      <th>498</th>\n",
       "      <td>2021-08-23 15:02:07</td>\n",
       "      <td>$AMC\\n\\nAnother block of 29,380 shares at $36....</td>\n",
       "      <td>3</td>\n",
       "      <td>7</td>\n",
       "    </tr>\n",
       "    <tr>\n",
       "      <th>499</th>\n",
       "      <td>2021-08-23 15:01:57</td>\n",
       "      <td>ATH. AGAIN !!! 🤪\\n\\n$ES_F #daytrading #futures...</td>\n",
       "      <td>0</td>\n",
       "      <td>1</td>\n",
       "    </tr>\n",
       "  </tbody>\n",
       "</table>\n",
       "<p>500 rows × 4 columns</p>\n",
       "</div>"
      ],
      "text/plain": [
       "              created_at                                               text  \\\n",
       "0    2021-08-24 21:52:06  The Nasdaq surpassed the 15,000 level for the ...   \n",
       "1    2021-08-25 09:31:14  US stock futures tread water after S&amp;P 500...   \n",
       "2    2021-08-25 15:30:06  Join me &amp; my @cfraresearch colleagues for ...   \n",
       "3    2021-08-25 15:24:51  @MacroAlf @CyberSpaceGal Based on Pe ratios of...   \n",
       "4    2021-08-25 15:22:56  Excess fiscal and #FederalReserve pumped liqui...   \n",
       "..                   ...                                                ...   \n",
       "495  2021-08-23 15:07:12  Paysafe $PSFE\\n\\nBlock of 43,639 shares at $8....   \n",
       "496  2021-08-23 15:04:28  @ben_golub @arpitrage You can even read \"skew\"...   \n",
       "497  2021-08-23 15:03:20  Ford Motor $F\\n\\nBlock of 241,170 shares at $1...   \n",
       "498  2021-08-23 15:02:07  $AMC\\n\\nAnother block of 29,380 shares at $36....   \n",
       "499  2021-08-23 15:01:57  ATH. AGAIN !!! 🤪\\n\\n$ES_F #daytrading #futures...   \n",
       "\n",
       "     retweet_count  favourite_count  \n",
       "0               34              163  \n",
       "1                9               14  \n",
       "2                0                0  \n",
       "3                0                0  \n",
       "4                0                1  \n",
       "..             ...              ...  \n",
       "495              1                3  \n",
       "496              0                6  \n",
       "497              0                2  \n",
       "498              3                7  \n",
       "499              0                1  \n",
       "\n",
       "[500 rows x 4 columns]"
      ]
     },
     "execution_count": 310,
     "metadata": {},
     "output_type": "execute_result"
    }
   ],
   "source": [
    "# Have a look at the data.\n",
    "\n",
    "sp_twitter"
   ]
  },
  {
   "cell_type": "code",
   "execution_count": 311,
   "metadata": {
    "scrolled": true
   },
   "outputs": [
    {
     "name": "stdout",
     "output_type": "stream",
     "text": [
      "<class 'pandas.core.frame.DataFrame'>\n",
      "RangeIndex: 500 entries, 0 to 499\n",
      "Data columns (total 4 columns):\n",
      " #   Column           Non-Null Count  Dtype \n",
      "---  ------           --------------  ----- \n",
      " 0   created_at       500 non-null    object\n",
      " 1   text             500 non-null    object\n",
      " 2   retweet_count    500 non-null    int64 \n",
      " 3   favourite_count  500 non-null    int64 \n",
      "dtypes: int64(2), object(2)\n",
      "memory usage: 15.8+ KB\n"
     ]
    }
   ],
   "source": [
    "sp_twitter.info()"
   ]
  },
  {
   "cell_type": "code",
   "execution_count": 312,
   "metadata": {
    "scrolled": true
   },
   "outputs": [],
   "source": [
    "sp_twitter['date'] = sp_twitter['created_at'].apply(lambda x : parse(x))"
   ]
  },
  {
   "cell_type": "code",
   "execution_count": 313,
   "metadata": {
    "scrolled": true
   },
   "outputs": [
    {
     "name": "stderr",
     "output_type": "stream",
     "text": [
      "/Users/davidlam/opt/anaconda3/lib/python3.7/site-packages/ipykernel_launcher.py:2: FutureWarning: Series.dt.weekofyear and Series.dt.week have been deprecated.  Please use Series.dt.isocalendar().week instead.\n",
      "  \n"
     ]
    }
   ],
   "source": [
    "sp_twitter['month'] = sp_twitter['date'].dt.month\n",
    "sp_twitter['week'] = sp_twitter['date'].dt.week\n",
    "sp_twitter['day'] = sp_twitter['date'].dt.day"
   ]
  },
  {
   "cell_type": "code",
   "execution_count": 314,
   "metadata": {
    "scrolled": true
   },
   "outputs": [
    {
     "data": {
      "text/html": [
       "<div>\n",
       "<style scoped>\n",
       "    .dataframe tbody tr th:only-of-type {\n",
       "        vertical-align: middle;\n",
       "    }\n",
       "\n",
       "    .dataframe tbody tr th {\n",
       "        vertical-align: top;\n",
       "    }\n",
       "\n",
       "    .dataframe thead th {\n",
       "        text-align: right;\n",
       "    }\n",
       "</style>\n",
       "<table border=\"1\" class=\"dataframe\">\n",
       "  <thead>\n",
       "    <tr style=\"text-align: right;\">\n",
       "      <th></th>\n",
       "      <th>created_at</th>\n",
       "      <th>text</th>\n",
       "      <th>retweet_count</th>\n",
       "      <th>favourite_count</th>\n",
       "      <th>date</th>\n",
       "      <th>month</th>\n",
       "      <th>week</th>\n",
       "      <th>day</th>\n",
       "    </tr>\n",
       "  </thead>\n",
       "  <tbody>\n",
       "    <tr>\n",
       "      <th>0</th>\n",
       "      <td>2021-08-24 21:52:06</td>\n",
       "      <td>The Nasdaq surpassed the 15,000 level for the ...</td>\n",
       "      <td>34</td>\n",
       "      <td>163</td>\n",
       "      <td>2021-08-24 21:52:06</td>\n",
       "      <td>8</td>\n",
       "      <td>34</td>\n",
       "      <td>24</td>\n",
       "    </tr>\n",
       "    <tr>\n",
       "      <th>1</th>\n",
       "      <td>2021-08-25 09:31:14</td>\n",
       "      <td>US stock futures tread water after S&amp;amp;P 500...</td>\n",
       "      <td>9</td>\n",
       "      <td>14</td>\n",
       "      <td>2021-08-25 09:31:14</td>\n",
       "      <td>8</td>\n",
       "      <td>34</td>\n",
       "      <td>25</td>\n",
       "    </tr>\n",
       "    <tr>\n",
       "      <th>2</th>\n",
       "      <td>2021-08-25 15:30:06</td>\n",
       "      <td>Join me &amp;amp; my @cfraresearch colleagues for ...</td>\n",
       "      <td>0</td>\n",
       "      <td>0</td>\n",
       "      <td>2021-08-25 15:30:06</td>\n",
       "      <td>8</td>\n",
       "      <td>34</td>\n",
       "      <td>25</td>\n",
       "    </tr>\n",
       "    <tr>\n",
       "      <th>3</th>\n",
       "      <td>2021-08-25 15:24:51</td>\n",
       "      <td>@MacroAlf @CyberSpaceGal Based on Pe ratios of...</td>\n",
       "      <td>0</td>\n",
       "      <td>0</td>\n",
       "      <td>2021-08-25 15:24:51</td>\n",
       "      <td>8</td>\n",
       "      <td>34</td>\n",
       "      <td>25</td>\n",
       "    </tr>\n",
       "    <tr>\n",
       "      <th>4</th>\n",
       "      <td>2021-08-25 15:22:56</td>\n",
       "      <td>Excess fiscal and #FederalReserve pumped liqui...</td>\n",
       "      <td>0</td>\n",
       "      <td>1</td>\n",
       "      <td>2021-08-25 15:22:56</td>\n",
       "      <td>8</td>\n",
       "      <td>34</td>\n",
       "      <td>25</td>\n",
       "    </tr>\n",
       "  </tbody>\n",
       "</table>\n",
       "</div>"
      ],
      "text/plain": [
       "            created_at                                               text  \\\n",
       "0  2021-08-24 21:52:06  The Nasdaq surpassed the 15,000 level for the ...   \n",
       "1  2021-08-25 09:31:14  US stock futures tread water after S&amp;P 500...   \n",
       "2  2021-08-25 15:30:06  Join me &amp; my @cfraresearch colleagues for ...   \n",
       "3  2021-08-25 15:24:51  @MacroAlf @CyberSpaceGal Based on Pe ratios of...   \n",
       "4  2021-08-25 15:22:56  Excess fiscal and #FederalReserve pumped liqui...   \n",
       "\n",
       "   retweet_count  favourite_count                date  month  week  day  \n",
       "0             34              163 2021-08-24 21:52:06      8    34   24  \n",
       "1              9               14 2021-08-25 09:31:14      8    34   25  \n",
       "2              0                0 2021-08-25 15:30:06      8    34   25  \n",
       "3              0                0 2021-08-25 15:24:51      8    34   25  \n",
       "4              0                1 2021-08-25 15:22:56      8    34   25  "
      ]
     },
     "execution_count": 314,
     "metadata": {},
     "output_type": "execute_result"
    }
   ],
   "source": [
    "sp_twitter.head()"
   ]
  },
  {
   "cell_type": "code",
   "execution_count": 315,
   "metadata": {
    "scrolled": true
   },
   "outputs": [
    {
     "data": {
      "text/plain": [
       "(array([490.,   5.,   2.,   0.,   1.,   0.,   1.,   0.,   0.,   1.]),\n",
       " array([ 0. ,  5.6, 11.2, 16.8, 22.4, 28. , 33.6, 39.2, 44.8, 50.4, 56. ]),\n",
       " [<matplotlib.patches.Polygon at 0x7fbaa32c4810>])"
      ]
     },
     "execution_count": 315,
     "metadata": {},
     "output_type": "execute_result"
    },
    {
     "data": {
      "image/png": "[encoded data removed]",
      "text/plain": [
       "<Figure size 432x288 with 1 Axes>"
      ]
     },
     "metadata": {
      "needs_background": "light"
     },
     "output_type": "display_data"
    }
   ],
   "source": [
    "plt.hist(sp_twitter['retweet_count'], histtype='step')"
   ]
  },
  {
   "cell_type": "markdown",
   "metadata": {},
   "source": [
    "**Majority of tweets have very low retweets**"
   ]
  },
  {
   "cell_type": "code",
   "execution_count": 316,
   "metadata": {
    "scrolled": true
   },
   "outputs": [
    {
     "data": {
      "text/plain": [
       "(array([480.,  12.,   4.,   2.,   1.,   0.,   0.,   0.,   0.,   1.]),\n",
       " array([  0. ,  16.3,  32.6,  48.9,  65.2,  81.5,  97.8, 114.1, 130.4,\n",
       "        146.7, 163. ]),\n",
       " [<matplotlib.patches.Polygon at 0x7fbac311c650>])"
      ]
     },
     "execution_count": 316,
     "metadata": {},
     "output_type": "execute_result"
    },
    {
     "data": {
      "image/png": "[encoded data removed]",
      "text/plain": [
       "<Figure size 432x288 with 1 Axes>"
      ]
     },
     "metadata": {
      "needs_background": "light"
     },
     "output_type": "display_data"
    }
   ],
   "source": [
    "plt.hist(sp_twitter['favourite_count'], histtype='step')"
   ]
  },
  {
   "cell_type": "markdown",
   "metadata": {},
   "source": [
    "**Majority of tweets have not been favourited**"
   ]
  },
  {
   "cell_type": "markdown",
   "metadata": {},
   "source": [
    "#### 2.1.2.1 SP500 Twitter Sentiment Analysis<a id='2.1.2.1_sp_twitter_sentiment'></a>"
   ]
  },
  {
   "cell_type": "code",
   "execution_count": 317,
   "metadata": {
    "scrolled": false
   },
   "outputs": [
    {
     "data": {
      "text/html": [
       "<div>\n",
       "<style scoped>\n",
       "    .dataframe tbody tr th:only-of-type {\n",
       "        vertical-align: middle;\n",
       "    }\n",
       "\n",
       "    .dataframe tbody tr th {\n",
       "        vertical-align: top;\n",
       "    }\n",
       "\n",
       "    .dataframe thead th {\n",
       "        text-align: right;\n",
       "    }\n",
       "</style>\n",
       "<table border=\"1\" class=\"dataframe\">\n",
       "  <thead>\n",
       "    <tr style=\"text-align: right;\">\n",
       "      <th></th>\n",
       "      <th>created_at</th>\n",
       "      <th>text</th>\n",
       "      <th>retweet_count</th>\n",
       "      <th>favourite_count</th>\n",
       "      <th>date</th>\n",
       "      <th>month</th>\n",
       "      <th>week</th>\n",
       "      <th>day</th>\n",
       "      <th>sentiment</th>\n",
       "    </tr>\n",
       "  </thead>\n",
       "  <tbody>\n",
       "    <tr>\n",
       "      <th>0</th>\n",
       "      <td>2021-08-24 21:52:06</td>\n",
       "      <td>The Nasdaq surpassed the 15,000 level for the ...</td>\n",
       "      <td>34</td>\n",
       "      <td>163</td>\n",
       "      <td>2021-08-24 21:52:06</td>\n",
       "      <td>8</td>\n",
       "      <td>34</td>\n",
       "      <td>24</td>\n",
       "      <td>0.7269</td>\n",
       "    </tr>\n",
       "    <tr>\n",
       "      <th>1</th>\n",
       "      <td>2021-08-25 09:31:14</td>\n",
       "      <td>US stock futures tread water after S&amp;amp;P 500...</td>\n",
       "      <td>9</td>\n",
       "      <td>14</td>\n",
       "      <td>2021-08-25 09:31:14</td>\n",
       "      <td>8</td>\n",
       "      <td>34</td>\n",
       "      <td>25</td>\n",
       "      <td>0.0000</td>\n",
       "    </tr>\n",
       "    <tr>\n",
       "      <th>2</th>\n",
       "      <td>2021-08-25 15:30:06</td>\n",
       "      <td>Join me &amp;amp; my @cfraresearch colleagues for ...</td>\n",
       "      <td>0</td>\n",
       "      <td>0</td>\n",
       "      <td>2021-08-25 15:30:06</td>\n",
       "      <td>8</td>\n",
       "      <td>34</td>\n",
       "      <td>25</td>\n",
       "      <td>0.2960</td>\n",
       "    </tr>\n",
       "    <tr>\n",
       "      <th>3</th>\n",
       "      <td>2021-08-25 15:24:51</td>\n",
       "      <td>@MacroAlf @CyberSpaceGal Based on Pe ratios of...</td>\n",
       "      <td>0</td>\n",
       "      <td>0</td>\n",
       "      <td>2021-08-25 15:24:51</td>\n",
       "      <td>8</td>\n",
       "      <td>34</td>\n",
       "      <td>25</td>\n",
       "      <td>0.4215</td>\n",
       "    </tr>\n",
       "    <tr>\n",
       "      <th>4</th>\n",
       "      <td>2021-08-25 15:22:56</td>\n",
       "      <td>Excess fiscal and #FederalReserve pumped liqui...</td>\n",
       "      <td>0</td>\n",
       "      <td>1</td>\n",
       "      <td>2021-08-25 15:22:56</td>\n",
       "      <td>8</td>\n",
       "      <td>34</td>\n",
       "      <td>25</td>\n",
       "      <td>-0.1513</td>\n",
       "    </tr>\n",
       "  </tbody>\n",
       "</table>\n",
       "</div>"
      ],
      "text/plain": [
       "            created_at                                               text  \\\n",
       "0  2021-08-24 21:52:06  The Nasdaq surpassed the 15,000 level for the ...   \n",
       "1  2021-08-25 09:31:14  US stock futures tread water after S&amp;P 500...   \n",
       "2  2021-08-25 15:30:06  Join me &amp; my @cfraresearch colleagues for ...   \n",
       "3  2021-08-25 15:24:51  @MacroAlf @CyberSpaceGal Based on Pe ratios of...   \n",
       "4  2021-08-25 15:22:56  Excess fiscal and #FederalReserve pumped liqui...   \n",
       "\n",
       "   retweet_count  favourite_count                date  month  week  day  \\\n",
       "0             34              163 2021-08-24 21:52:06      8    34   24   \n",
       "1              9               14 2021-08-25 09:31:14      8    34   25   \n",
       "2              0                0 2021-08-25 15:30:06      8    34   25   \n",
       "3              0                0 2021-08-25 15:24:51      8    34   25   \n",
       "4              0                1 2021-08-25 15:22:56      8    34   25   \n",
       "\n",
       "   sentiment  \n",
       "0     0.7269  \n",
       "1     0.0000  \n",
       "2     0.2960  \n",
       "3     0.4215  \n",
       "4    -0.1513  "
      ]
     },
     "execution_count": 317,
     "metadata": {},
     "output_type": "execute_result"
    }
   ],
   "source": [
    "sid = SentimentIntensityAnalyzer()\n",
    "sentiment_score_sp = sp_twitter['text'].apply(sid.polarity_scores)\n",
    "sp_twitter['sentiment'] = sentiment_score_sp.apply(lambda x : x['compound'])\n",
    "sp_twitter.head()"
   ]
  },
  {
   "cell_type": "markdown",
   "metadata": {},
   "source": [
    "### 2.1.3 JD Stock Price data<a id='2.1.3_jd_price'></a>"
   ]
  },
  {
   "cell_type": "code",
   "execution_count": 318,
   "metadata": {
    "scrolled": true
   },
   "outputs": [
    {
     "data": {
      "text/html": [
       "<div>\n",
       "<style scoped>\n",
       "    .dataframe tbody tr th:only-of-type {\n",
       "        vertical-align: middle;\n",
       "    }\n",
       "\n",
       "    .dataframe tbody tr th {\n",
       "        vertical-align: top;\n",
       "    }\n",
       "\n",
       "    .dataframe thead th {\n",
       "        text-align: right;\n",
       "    }\n",
       "</style>\n",
       "<table border=\"1\" class=\"dataframe\">\n",
       "  <thead>\n",
       "    <tr style=\"text-align: right;\">\n",
       "      <th></th>\n",
       "      <th>Date</th>\n",
       "      <th>Open</th>\n",
       "      <th>High</th>\n",
       "      <th>Low</th>\n",
       "      <th>Close</th>\n",
       "      <th>Adj Close</th>\n",
       "      <th>Volume</th>\n",
       "    </tr>\n",
       "  </thead>\n",
       "  <tbody>\n",
       "    <tr>\n",
       "      <th>0</th>\n",
       "      <td>2019-01-02</td>\n",
       "      <td>20.309999</td>\n",
       "      <td>21.480000</td>\n",
       "      <td>20.180000</td>\n",
       "      <td>21.270000</td>\n",
       "      <td>21.270000</td>\n",
       "      <td>15840000</td>\n",
       "    </tr>\n",
       "    <tr>\n",
       "      <th>1</th>\n",
       "      <td>2019-01-03</td>\n",
       "      <td>20.889999</td>\n",
       "      <td>21.139999</td>\n",
       "      <td>20.250000</td>\n",
       "      <td>20.350000</td>\n",
       "      <td>20.350000</td>\n",
       "      <td>18608000</td>\n",
       "    </tr>\n",
       "    <tr>\n",
       "      <th>2</th>\n",
       "      <td>2019-01-04</td>\n",
       "      <td>20.980000</td>\n",
       "      <td>22.680000</td>\n",
       "      <td>20.750000</td>\n",
       "      <td>22.270000</td>\n",
       "      <td>22.270000</td>\n",
       "      <td>25156900</td>\n",
       "    </tr>\n",
       "    <tr>\n",
       "      <th>3</th>\n",
       "      <td>2019-01-07</td>\n",
       "      <td>22.430000</td>\n",
       "      <td>22.850000</td>\n",
       "      <td>22.260000</td>\n",
       "      <td>22.760000</td>\n",
       "      <td>22.760000</td>\n",
       "      <td>18889800</td>\n",
       "    </tr>\n",
       "    <tr>\n",
       "      <th>4</th>\n",
       "      <td>2019-01-08</td>\n",
       "      <td>22.990000</td>\n",
       "      <td>23.180000</td>\n",
       "      <td>22.434999</td>\n",
       "      <td>22.950001</td>\n",
       "      <td>22.950001</td>\n",
       "      <td>15180400</td>\n",
       "    </tr>\n",
       "  </tbody>\n",
       "</table>\n",
       "</div>"
      ],
      "text/plain": [
       "        Date       Open       High        Low      Close  Adj Close    Volume\n",
       "0 2019-01-02  20.309999  21.480000  20.180000  21.270000  21.270000  15840000\n",
       "1 2019-01-03  20.889999  21.139999  20.250000  20.350000  20.350000  18608000\n",
       "2 2019-01-04  20.980000  22.680000  20.750000  22.270000  22.270000  25156900\n",
       "3 2019-01-07  22.430000  22.850000  22.260000  22.760000  22.760000  18889800\n",
       "4 2019-01-08  22.990000  23.180000  22.434999  22.950001  22.950001  15180400"
      ]
     },
     "execution_count": 318,
     "metadata": {},
     "output_type": "execute_result"
    }
   ],
   "source": [
    "xl = pd.ExcelFile('JD.xlsx')\n",
    "jd_price = xl.parse('Sheet1')\n",
    "jd_price.head()"
   ]
  },
  {
   "cell_type": "code",
   "execution_count": 319,
   "metadata": {
    "scrolled": true
   },
   "outputs": [],
   "source": [
    "jd_price = jd_price.set_index('Date')"
   ]
  },
  {
   "cell_type": "code",
   "execution_count": 320,
   "metadata": {
    "scrolled": true
   },
   "outputs": [
    {
     "data": {
      "text/plain": [
       "<AxesSubplot:xlabel='Date'>"
      ]
     },
     "execution_count": 320,
     "metadata": {},
     "output_type": "execute_result"
    },
    {
     "data": {
      "image/png": "[encoded data removed]",
      "text/plain": [
       "<Figure size 432x288 with 1 Axes>"
      ]
     },
     "metadata": {
      "needs_background": "light"
     },
     "output_type": "display_data"
    }
   ],
   "source": [
    "jd_price['Adj Close'].plot()"
   ]
  },
  {
   "cell_type": "code",
   "execution_count": 321,
   "metadata": {
    "scrolled": true
   },
   "outputs": [
    {
     "data": {
      "text/plain": [
       "<AxesSubplot:xlabel='Date'>"
      ]
     },
     "execution_count": 321,
     "metadata": {},
     "output_type": "execute_result"
    },
    {
     "data": {
      "image/png": "[encoded data removed]",
      "text/plain": [
       "<Figure size 432x288 with 1 Axes>"
      ]
     },
     "metadata": {
      "needs_background": "light"
     },
     "output_type": "display_data"
    }
   ],
   "source": [
    "jd_price['Volume'].plot()"
   ]
  },
  {
   "cell_type": "markdown",
   "metadata": {},
   "source": [
    "This is interesting. There appears to be cyclical spikes in volume. These spikes could be due to investitutional investor activity and hedging from dealers"
   ]
  },
  {
   "cell_type": "code",
   "execution_count": 322,
   "metadata": {
    "scrolled": false
   },
   "outputs": [
    {
     "data": {
      "text/html": [
       "<div>\n",
       "<style scoped>\n",
       "    .dataframe tbody tr th:only-of-type {\n",
       "        vertical-align: middle;\n",
       "    }\n",
       "\n",
       "    .dataframe tbody tr th {\n",
       "        vertical-align: top;\n",
       "    }\n",
       "\n",
       "    .dataframe thead th {\n",
       "        text-align: right;\n",
       "    }\n",
       "</style>\n",
       "<table border=\"1\" class=\"dataframe\">\n",
       "  <thead>\n",
       "    <tr style=\"text-align: right;\">\n",
       "      <th></th>\n",
       "      <th>Open</th>\n",
       "      <th>High</th>\n",
       "      <th>Low</th>\n",
       "      <th>Close</th>\n",
       "      <th>Adj Close</th>\n",
       "      <th>Volume</th>\n",
       "      <th>high_minus_low</th>\n",
       "    </tr>\n",
       "    <tr>\n",
       "      <th>Date</th>\n",
       "      <th></th>\n",
       "      <th></th>\n",
       "      <th></th>\n",
       "      <th></th>\n",
       "      <th></th>\n",
       "      <th></th>\n",
       "      <th></th>\n",
       "    </tr>\n",
       "  </thead>\n",
       "  <tbody>\n",
       "    <tr>\n",
       "      <th>2019-01-02</th>\n",
       "      <td>20.309999</td>\n",
       "      <td>21.480000</td>\n",
       "      <td>20.180000</td>\n",
       "      <td>21.270000</td>\n",
       "      <td>21.270000</td>\n",
       "      <td>15840000</td>\n",
       "      <td>1.299999</td>\n",
       "    </tr>\n",
       "    <tr>\n",
       "      <th>2019-01-03</th>\n",
       "      <td>20.889999</td>\n",
       "      <td>21.139999</td>\n",
       "      <td>20.250000</td>\n",
       "      <td>20.350000</td>\n",
       "      <td>20.350000</td>\n",
       "      <td>18608000</td>\n",
       "      <td>0.889999</td>\n",
       "    </tr>\n",
       "    <tr>\n",
       "      <th>2019-01-04</th>\n",
       "      <td>20.980000</td>\n",
       "      <td>22.680000</td>\n",
       "      <td>20.750000</td>\n",
       "      <td>22.270000</td>\n",
       "      <td>22.270000</td>\n",
       "      <td>25156900</td>\n",
       "      <td>1.930000</td>\n",
       "    </tr>\n",
       "    <tr>\n",
       "      <th>2019-01-07</th>\n",
       "      <td>22.430000</td>\n",
       "      <td>22.850000</td>\n",
       "      <td>22.260000</td>\n",
       "      <td>22.760000</td>\n",
       "      <td>22.760000</td>\n",
       "      <td>18889800</td>\n",
       "      <td>0.590000</td>\n",
       "    </tr>\n",
       "    <tr>\n",
       "      <th>2019-01-08</th>\n",
       "      <td>22.990000</td>\n",
       "      <td>23.180000</td>\n",
       "      <td>22.434999</td>\n",
       "      <td>22.950001</td>\n",
       "      <td>22.950001</td>\n",
       "      <td>15180400</td>\n",
       "      <td>0.745001</td>\n",
       "    </tr>\n",
       "  </tbody>\n",
       "</table>\n",
       "</div>"
      ],
      "text/plain": [
       "                 Open       High        Low      Close  Adj Close    Volume  \\\n",
       "Date                                                                          \n",
       "2019-01-02  20.309999  21.480000  20.180000  21.270000  21.270000  15840000   \n",
       "2019-01-03  20.889999  21.139999  20.250000  20.350000  20.350000  18608000   \n",
       "2019-01-04  20.980000  22.680000  20.750000  22.270000  22.270000  25156900   \n",
       "2019-01-07  22.430000  22.850000  22.260000  22.760000  22.760000  18889800   \n",
       "2019-01-08  22.990000  23.180000  22.434999  22.950001  22.950001  15180400   \n",
       "\n",
       "            high_minus_low  \n",
       "Date                        \n",
       "2019-01-02        1.299999  \n",
       "2019-01-03        0.889999  \n",
       "2019-01-04        1.930000  \n",
       "2019-01-07        0.590000  \n",
       "2019-01-08        0.745001  "
      ]
     },
     "execution_count": 322,
     "metadata": {},
     "output_type": "execute_result"
    }
   ],
   "source": [
    "# Lets look at the difference between the daily high and daily low\n",
    "\n",
    "jd_price['high_minus_low'] = jd_price['High'] - jd_price['Low']\n",
    "jd_price.head()"
   ]
  },
  {
   "cell_type": "code",
   "execution_count": 323,
   "metadata": {
    "scrolled": false
   },
   "outputs": [
    {
     "data": {
      "text/plain": [
       "(array([232., 183., 137.,  62.,  23.,  16.,   6.,   3.,   1.,   2.]),\n",
       " array([0.29500008, 1.11149998, 1.92799988, 2.74449978, 3.56099968,\n",
       "        4.37749958, 5.19399948, 6.01049938, 6.82699928, 7.64349918,\n",
       "        8.45999908]),\n",
       " [<matplotlib.patches.Polygon at 0x7fbaa2fb7810>])"
      ]
     },
     "execution_count": 323,
     "metadata": {},
     "output_type": "execute_result"
    },
    {
     "data": {
      "image/png": "[encoded data removed]",
      "text/plain": [
       "<Figure size 432x288 with 1 Axes>"
      ]
     },
     "metadata": {
      "needs_background": "light"
     },
     "output_type": "display_data"
    }
   ],
   "source": [
    "# Plot distribution of high_minus_low\n",
    "\n",
    "plt.hist(jd_price['high_minus_low'], histtype='step')"
   ]
  },
  {
   "cell_type": "code",
   "execution_count": 324,
   "metadata": {
    "scrolled": false
   },
   "outputs": [
    {
     "data": {
      "text/html": [
       "<div>\n",
       "<style scoped>\n",
       "    .dataframe tbody tr th:only-of-type {\n",
       "        vertical-align: middle;\n",
       "    }\n",
       "\n",
       "    .dataframe tbody tr th {\n",
       "        vertical-align: top;\n",
       "    }\n",
       "\n",
       "    .dataframe thead th {\n",
       "        text-align: right;\n",
       "    }\n",
       "</style>\n",
       "<table border=\"1\" class=\"dataframe\">\n",
       "  <thead>\n",
       "    <tr style=\"text-align: right;\">\n",
       "      <th></th>\n",
       "      <th>Open</th>\n",
       "      <th>High</th>\n",
       "      <th>Low</th>\n",
       "      <th>Close</th>\n",
       "      <th>Adj Close</th>\n",
       "      <th>Volume</th>\n",
       "      <th>high_minus_low</th>\n",
       "      <th>high_minus_low_pct_open</th>\n",
       "    </tr>\n",
       "    <tr>\n",
       "      <th>Date</th>\n",
       "      <th></th>\n",
       "      <th></th>\n",
       "      <th></th>\n",
       "      <th></th>\n",
       "      <th></th>\n",
       "      <th></th>\n",
       "      <th></th>\n",
       "      <th></th>\n",
       "    </tr>\n",
       "  </thead>\n",
       "  <tbody>\n",
       "    <tr>\n",
       "      <th>2019-01-02</th>\n",
       "      <td>20.309999</td>\n",
       "      <td>21.480000</td>\n",
       "      <td>20.180000</td>\n",
       "      <td>21.270000</td>\n",
       "      <td>21.270000</td>\n",
       "      <td>15840000</td>\n",
       "      <td>1.299999</td>\n",
       "      <td>6.400784</td>\n",
       "    </tr>\n",
       "    <tr>\n",
       "      <th>2019-01-03</th>\n",
       "      <td>20.889999</td>\n",
       "      <td>21.139999</td>\n",
       "      <td>20.250000</td>\n",
       "      <td>20.350000</td>\n",
       "      <td>20.350000</td>\n",
       "      <td>18608000</td>\n",
       "      <td>0.889999</td>\n",
       "      <td>4.260409</td>\n",
       "    </tr>\n",
       "    <tr>\n",
       "      <th>2019-01-04</th>\n",
       "      <td>20.980000</td>\n",
       "      <td>22.680000</td>\n",
       "      <td>20.750000</td>\n",
       "      <td>22.270000</td>\n",
       "      <td>22.270000</td>\n",
       "      <td>25156900</td>\n",
       "      <td>1.930000</td>\n",
       "      <td>9.199239</td>\n",
       "    </tr>\n",
       "    <tr>\n",
       "      <th>2019-01-07</th>\n",
       "      <td>22.430000</td>\n",
       "      <td>22.850000</td>\n",
       "      <td>22.260000</td>\n",
       "      <td>22.760000</td>\n",
       "      <td>22.760000</td>\n",
       "      <td>18889800</td>\n",
       "      <td>0.590000</td>\n",
       "      <td>2.630406</td>\n",
       "    </tr>\n",
       "    <tr>\n",
       "      <th>2019-01-08</th>\n",
       "      <td>22.990000</td>\n",
       "      <td>23.180000</td>\n",
       "      <td>22.434999</td>\n",
       "      <td>22.950001</td>\n",
       "      <td>22.950001</td>\n",
       "      <td>15180400</td>\n",
       "      <td>0.745001</td>\n",
       "      <td>3.240543</td>\n",
       "    </tr>\n",
       "  </tbody>\n",
       "</table>\n",
       "</div>"
      ],
      "text/plain": [
       "                 Open       High        Low      Close  Adj Close    Volume  \\\n",
       "Date                                                                          \n",
       "2019-01-02  20.309999  21.480000  20.180000  21.270000  21.270000  15840000   \n",
       "2019-01-03  20.889999  21.139999  20.250000  20.350000  20.350000  18608000   \n",
       "2019-01-04  20.980000  22.680000  20.750000  22.270000  22.270000  25156900   \n",
       "2019-01-07  22.430000  22.850000  22.260000  22.760000  22.760000  18889800   \n",
       "2019-01-08  22.990000  23.180000  22.434999  22.950001  22.950001  15180400   \n",
       "\n",
       "            high_minus_low  high_minus_low_pct_open  \n",
       "Date                                                 \n",
       "2019-01-02        1.299999                 6.400784  \n",
       "2019-01-03        0.889999                 4.260409  \n",
       "2019-01-04        1.930000                 9.199239  \n",
       "2019-01-07        0.590000                 2.630406  \n",
       "2019-01-08        0.745001                 3.240543  "
      ]
     },
     "execution_count": 324,
     "metadata": {},
     "output_type": "execute_result"
    }
   ],
   "source": [
    "# Lets create high_minus_low as a percentage of opening price to see if we get a different distribution\n",
    "\n",
    "jd_price['high_minus_low_pct_open'] = (jd_price['High'] - jd_price['Low'])/jd_price['Open'] * 100\n",
    "jd_price.head()"
   ]
  },
  {
   "cell_type": "code",
   "execution_count": 325,
   "metadata": {
    "scrolled": false
   },
   "outputs": [
    {
     "data": {
      "text/plain": [
       "(array([224., 295.,  84.,  44.,   9.,   8.,   0.,   0.,   0.,   1.]),\n",
       " array([ 0.87818007,  2.51335311,  4.14852615,  5.78369918,  7.41887222,\n",
       "         9.05404526, 10.68921829, 12.32439133, 13.95956437, 15.5947374 ,\n",
       "        17.22991044]),\n",
       " [<matplotlib.patches.Polygon at 0x7fba7936b610>])"
      ]
     },
     "execution_count": 325,
     "metadata": {},
     "output_type": "execute_result"
    },
    {
     "data": {
      "image/png": "[encoded data removed]",
      "text/plain": [
       "<Figure size 432x288 with 1 Axes>"
      ]
     },
     "metadata": {
      "needs_background": "light"
     },
     "output_type": "display_data"
    }
   ],
   "source": [
    "# Plot distribution of high_minus_low_pct\n",
    "\n",
    "plt.hist(jd_price['high_minus_low_pct_open'], histtype='step')"
   ]
  },
  {
   "cell_type": "code",
   "execution_count": 326,
   "metadata": {
    "scrolled": true
   },
   "outputs": [
    {
     "data": {
      "text/plain": [
       "<AxesSubplot:xlabel='Date'>"
      ]
     },
     "execution_count": 326,
     "metadata": {},
     "output_type": "execute_result"
    },
    {
     "data": {
      "image/png": "[encoded data removed]",
      "text/plain": [
       "<Figure size 432x288 with 1 Axes>"
      ]
     },
     "metadata": {
      "needs_background": "light"
     },
     "output_type": "display_data"
    }
   ],
   "source": [
    "jd_price['high_minus_low_pct_open'].plot()"
   ]
  },
  {
   "cell_type": "code",
   "execution_count": 327,
   "metadata": {
    "scrolled": true
   },
   "outputs": [
    {
     "data": {
      "text/html": [
       "<div>\n",
       "<style scoped>\n",
       "    .dataframe tbody tr th:only-of-type {\n",
       "        vertical-align: middle;\n",
       "    }\n",
       "\n",
       "    .dataframe tbody tr th {\n",
       "        vertical-align: top;\n",
       "    }\n",
       "\n",
       "    .dataframe thead th {\n",
       "        text-align: right;\n",
       "    }\n",
       "</style>\n",
       "<table border=\"1\" class=\"dataframe\">\n",
       "  <thead>\n",
       "    <tr style=\"text-align: right;\">\n",
       "      <th></th>\n",
       "      <th>Open</th>\n",
       "      <th>High</th>\n",
       "      <th>Low</th>\n",
       "      <th>Close</th>\n",
       "      <th>Adj Close</th>\n",
       "      <th>Volume</th>\n",
       "      <th>high_minus_low</th>\n",
       "      <th>high_minus_low_pct_open</th>\n",
       "      <th>high_minus_low_pct_adjclose</th>\n",
       "    </tr>\n",
       "    <tr>\n",
       "      <th>Date</th>\n",
       "      <th></th>\n",
       "      <th></th>\n",
       "      <th></th>\n",
       "      <th></th>\n",
       "      <th></th>\n",
       "      <th></th>\n",
       "      <th></th>\n",
       "      <th></th>\n",
       "      <th></th>\n",
       "    </tr>\n",
       "  </thead>\n",
       "  <tbody>\n",
       "    <tr>\n",
       "      <th>2019-01-02</th>\n",
       "      <td>20.309999</td>\n",
       "      <td>21.480000</td>\n",
       "      <td>20.180000</td>\n",
       "      <td>21.270000</td>\n",
       "      <td>21.270000</td>\n",
       "      <td>15840000</td>\n",
       "      <td>1.299999</td>\n",
       "      <td>6.400784</td>\n",
       "      <td>6.111891</td>\n",
       "    </tr>\n",
       "    <tr>\n",
       "      <th>2019-01-03</th>\n",
       "      <td>20.889999</td>\n",
       "      <td>21.139999</td>\n",
       "      <td>20.250000</td>\n",
       "      <td>20.350000</td>\n",
       "      <td>20.350000</td>\n",
       "      <td>18608000</td>\n",
       "      <td>0.889999</td>\n",
       "      <td>4.260409</td>\n",
       "      <td>4.373461</td>\n",
       "    </tr>\n",
       "    <tr>\n",
       "      <th>2019-01-04</th>\n",
       "      <td>20.980000</td>\n",
       "      <td>22.680000</td>\n",
       "      <td>20.750000</td>\n",
       "      <td>22.270000</td>\n",
       "      <td>22.270000</td>\n",
       "      <td>25156900</td>\n",
       "      <td>1.930000</td>\n",
       "      <td>9.199239</td>\n",
       "      <td>8.666369</td>\n",
       "    </tr>\n",
       "    <tr>\n",
       "      <th>2019-01-07</th>\n",
       "      <td>22.430000</td>\n",
       "      <td>22.850000</td>\n",
       "      <td>22.260000</td>\n",
       "      <td>22.760000</td>\n",
       "      <td>22.760000</td>\n",
       "      <td>18889800</td>\n",
       "      <td>0.590000</td>\n",
       "      <td>2.630406</td>\n",
       "      <td>2.592268</td>\n",
       "    </tr>\n",
       "    <tr>\n",
       "      <th>2019-01-08</th>\n",
       "      <td>22.990000</td>\n",
       "      <td>23.180000</td>\n",
       "      <td>22.434999</td>\n",
       "      <td>22.950001</td>\n",
       "      <td>22.950001</td>\n",
       "      <td>15180400</td>\n",
       "      <td>0.745001</td>\n",
       "      <td>3.240543</td>\n",
       "      <td>3.246191</td>\n",
       "    </tr>\n",
       "  </tbody>\n",
       "</table>\n",
       "</div>"
      ],
      "text/plain": [
       "                 Open       High        Low      Close  Adj Close    Volume  \\\n",
       "Date                                                                          \n",
       "2019-01-02  20.309999  21.480000  20.180000  21.270000  21.270000  15840000   \n",
       "2019-01-03  20.889999  21.139999  20.250000  20.350000  20.350000  18608000   \n",
       "2019-01-04  20.980000  22.680000  20.750000  22.270000  22.270000  25156900   \n",
       "2019-01-07  22.430000  22.850000  22.260000  22.760000  22.760000  18889800   \n",
       "2019-01-08  22.990000  23.180000  22.434999  22.950001  22.950001  15180400   \n",
       "\n",
       "            high_minus_low  high_minus_low_pct_open  \\\n",
       "Date                                                  \n",
       "2019-01-02        1.299999                 6.400784   \n",
       "2019-01-03        0.889999                 4.260409   \n",
       "2019-01-04        1.930000                 9.199239   \n",
       "2019-01-07        0.590000                 2.630406   \n",
       "2019-01-08        0.745001                 3.240543   \n",
       "\n",
       "            high_minus_low_pct_adjclose  \n",
       "Date                                     \n",
       "2019-01-02                     6.111891  \n",
       "2019-01-03                     4.373461  \n",
       "2019-01-04                     8.666369  \n",
       "2019-01-07                     2.592268  \n",
       "2019-01-08                     3.246191  "
      ]
     },
     "execution_count": 327,
     "metadata": {},
     "output_type": "execute_result"
    }
   ],
   "source": [
    "# Lets create high_minus_low as a percentage of Adj Close price to see if we get a different distribution\n",
    "\n",
    "jd_price['high_minus_low_pct_adjclose'] = (jd_price['High'] - jd_price['Low'])/jd_price['Adj Close'] * 100\n",
    "jd_price.head()"
   ]
  },
  {
   "cell_type": "code",
   "execution_count": 328,
   "metadata": {
    "scrolled": true
   },
   "outputs": [
    {
     "data": {
      "text/plain": [
       "(array([240., 284.,  86.,  40.,   9.,   5.,   0.,   0.,   0.,   1.]),\n",
       " array([ 0.87992496,  2.55697137,  4.23401778,  5.91106419,  7.5881106 ,\n",
       "         9.26515702, 10.94220343, 12.61924984, 14.29629625, 15.97334266,\n",
       "        17.65038907]),\n",
       " [<matplotlib.patches.Polygon at 0x7fbab2816750>])"
      ]
     },
     "execution_count": 328,
     "metadata": {},
     "output_type": "execute_result"
    },
    {
     "data": {
      "image/png": "[encoded data removed]",
      "text/plain": [
       "<Figure size 432x288 with 1 Axes>"
      ]
     },
     "metadata": {
      "needs_background": "light"
     },
     "output_type": "display_data"
    }
   ],
   "source": [
    "# Plot distribution of high_minus_low_pct\n",
    "\n",
    "plt.hist(jd_price['high_minus_low_pct_adjclose'], histtype='step')"
   ]
  },
  {
   "cell_type": "code",
   "execution_count": 329,
   "metadata": {
    "scrolled": false
   },
   "outputs": [
    {
     "data": {
      "text/plain": [
       "<AxesSubplot:xlabel='Date'>"
      ]
     },
     "execution_count": 329,
     "metadata": {},
     "output_type": "execute_result"
    },
    {
     "data": {
      "image/png": "[encoded data removed]",
      "text/plain": [
       "<Figure size 432x288 with 1 Axes>"
      ]
     },
     "metadata": {
      "needs_background": "light"
     },
     "output_type": "display_data"
    }
   ],
   "source": [
    "jd_price['high_minus_low_pct_adjclose'].plot()"
   ]
  },
  {
   "cell_type": "markdown",
   "metadata": {},
   "source": [
    "There isn't much of a difference between open and close so we will go with adjclose since we need to wait for the day to finish anyways to get the high and low metric"
   ]
  },
  {
   "cell_type": "code",
   "execution_count": 330,
   "metadata": {
    "scrolled": true
   },
   "outputs": [],
   "source": [
    "jd_price = jd_price.drop('high_minus_low_pct_open', axis=1)"
   ]
  },
  {
   "cell_type": "markdown",
   "metadata": {},
   "source": [
    "#### 2.1.3.1 JD Time Series Feature Engineering<a id='2.1.3.1_jd_ts_feature_eng'></a>"
   ]
  },
  {
   "cell_type": "code",
   "execution_count": 331,
   "metadata": {
    "scrolled": true
   },
   "outputs": [],
   "source": [
    "jd_price['lagged_1'] = jd_price['Adj Close'].shift(-1)     # create 1 day lag variable\n",
    "jd_price['lagged_5'] = jd_price['Adj Close'].shift(-5)     # create 5 day lag variable\n",
    "jd_price['lagged_10'] = jd_price['Adj Close'].shift(-10)   # create 10 day lag variable\n",
    "jd_price['lagged_20'] = jd_price['Adj Close'].shift(-20)   # create 20 day lag variable\n",
    "\n",
    "# Create shifted variables\n",
    "\n",
    "jd_price['shifted_1'] = jd_price['Adj Close'].shift(1)     # create 1 day shifted variable\n",
    "jd_price['shifted_5'] = jd_price['Adj Close'].shift(5)     # create 5 day shifted variable\n",
    "jd_price['shifted_10'] = jd_price['Adj Close'].shift(10)   # create 10 day shifted variable\n",
    "jd_price['shifted_20'] = jd_price['Adj Close'].shift(20)   # create 20 day shifted variable\n",
    "\n",
    "# Calculate returns\n",
    "\n",
    "jd_price['pct_change_1'] = jd_price['Adj Close'].pct_change(1).mul(100)     \n",
    "jd_price['pct_change_5'] = jd_price['Adj Close'].pct_change(5).mul(100)     \n",
    "jd_price['pct_change_10'] = jd_price['Adj Close'].pct_change(10).mul(100)   \n",
    "jd_price['pct_change_20'] = jd_price['Adj Close'].pct_change(20).mul(100)\n",
    "\n",
    "# Rolling window metrics, these moving averages are typically important to technical traders\n",
    "\n",
    "jd_price['50_ma'] = jd_price['Adj Close'].rolling(window=50).mean()\n",
    "jd_price['100_ma'] = jd_price['Adj Close'].rolling(window=100).mean()\n",
    "jd_price['200_ma'] = jd_price['Adj Close'].rolling(window=200).mean()\n",
    "\n",
    "# Rolling window metrics, moving standard deviation \n",
    "\n",
    "jd_price['50_std'] = jd_price['Adj Close'].rolling(window=50).std()\n",
    "jd_price['100_std'] = jd_price['Adj Close'].rolling(window=100).std()\n",
    "jd_price['200_std'] = jd_price['Adj Close'].rolling(window=200).std()\n",
    "\n",
    "# Cumulative return\n",
    "\n",
    "jd_price['cumulative_return'] = jd_price['Adj Close'].pct_change(1).add(1).cumprod().sub(1).mul(100)"
   ]
  },
  {
   "cell_type": "code",
   "execution_count": 332,
   "metadata": {
    "scrolled": false
   },
   "outputs": [
    {
     "data": {
      "text/html": [
       "<div>\n",
       "<style scoped>\n",
       "    .dataframe tbody tr th:only-of-type {\n",
       "        vertical-align: middle;\n",
       "    }\n",
       "\n",
       "    .dataframe tbody tr th {\n",
       "        vertical-align: top;\n",
       "    }\n",
       "\n",
       "    .dataframe thead th {\n",
       "        text-align: right;\n",
       "    }\n",
       "</style>\n",
       "<table border=\"1\" class=\"dataframe\">\n",
       "  <thead>\n",
       "    <tr style=\"text-align: right;\">\n",
       "      <th></th>\n",
       "      <th>Open</th>\n",
       "      <th>High</th>\n",
       "      <th>Low</th>\n",
       "      <th>Close</th>\n",
       "      <th>Adj Close</th>\n",
       "      <th>Volume</th>\n",
       "      <th>high_minus_low</th>\n",
       "      <th>high_minus_low_pct_adjclose</th>\n",
       "      <th>lagged_1</th>\n",
       "      <th>lagged_5</th>\n",
       "      <th>...</th>\n",
       "      <th>pct_change_5</th>\n",
       "      <th>pct_change_10</th>\n",
       "      <th>pct_change_20</th>\n",
       "      <th>50_ma</th>\n",
       "      <th>100_ma</th>\n",
       "      <th>200_ma</th>\n",
       "      <th>50_std</th>\n",
       "      <th>100_std</th>\n",
       "      <th>200_std</th>\n",
       "      <th>cumulative_return</th>\n",
       "    </tr>\n",
       "    <tr>\n",
       "      <th>Date</th>\n",
       "      <th></th>\n",
       "      <th></th>\n",
       "      <th></th>\n",
       "      <th></th>\n",
       "      <th></th>\n",
       "      <th></th>\n",
       "      <th></th>\n",
       "      <th></th>\n",
       "      <th></th>\n",
       "      <th></th>\n",
       "      <th></th>\n",
       "      <th></th>\n",
       "      <th></th>\n",
       "      <th></th>\n",
       "      <th></th>\n",
       "      <th></th>\n",
       "      <th></th>\n",
       "      <th></th>\n",
       "      <th></th>\n",
       "      <th></th>\n",
       "      <th></th>\n",
       "    </tr>\n",
       "  </thead>\n",
       "  <tbody>\n",
       "    <tr>\n",
       "      <th>2019-01-02</th>\n",
       "      <td>20.309999</td>\n",
       "      <td>21.480000</td>\n",
       "      <td>20.180000</td>\n",
       "      <td>21.270000</td>\n",
       "      <td>21.270000</td>\n",
       "      <td>15840000</td>\n",
       "      <td>1.299999</td>\n",
       "      <td>6.111891</td>\n",
       "      <td>20.350000</td>\n",
       "      <td>23.690001</td>\n",
       "      <td>...</td>\n",
       "      <td>NaN</td>\n",
       "      <td>NaN</td>\n",
       "      <td>NaN</td>\n",
       "      <td>NaN</td>\n",
       "      <td>NaN</td>\n",
       "      <td>NaN</td>\n",
       "      <td>NaN</td>\n",
       "      <td>NaN</td>\n",
       "      <td>NaN</td>\n",
       "      <td>NaN</td>\n",
       "    </tr>\n",
       "    <tr>\n",
       "      <th>2019-01-03</th>\n",
       "      <td>20.889999</td>\n",
       "      <td>21.139999</td>\n",
       "      <td>20.250000</td>\n",
       "      <td>20.350000</td>\n",
       "      <td>20.350000</td>\n",
       "      <td>18608000</td>\n",
       "      <td>0.889999</td>\n",
       "      <td>4.373461</td>\n",
       "      <td>22.270000</td>\n",
       "      <td>23.400000</td>\n",
       "      <td>...</td>\n",
       "      <td>NaN</td>\n",
       "      <td>NaN</td>\n",
       "      <td>NaN</td>\n",
       "      <td>NaN</td>\n",
       "      <td>NaN</td>\n",
       "      <td>NaN</td>\n",
       "      <td>NaN</td>\n",
       "      <td>NaN</td>\n",
       "      <td>NaN</td>\n",
       "      <td>-4.325341</td>\n",
       "    </tr>\n",
       "    <tr>\n",
       "      <th>2019-01-04</th>\n",
       "      <td>20.980000</td>\n",
       "      <td>22.680000</td>\n",
       "      <td>20.750000</td>\n",
       "      <td>22.270000</td>\n",
       "      <td>22.270000</td>\n",
       "      <td>25156900</td>\n",
       "      <td>1.930000</td>\n",
       "      <td>8.666369</td>\n",
       "      <td>22.760000</td>\n",
       "      <td>22.879999</td>\n",
       "      <td>...</td>\n",
       "      <td>NaN</td>\n",
       "      <td>NaN</td>\n",
       "      <td>NaN</td>\n",
       "      <td>NaN</td>\n",
       "      <td>NaN</td>\n",
       "      <td>NaN</td>\n",
       "      <td>NaN</td>\n",
       "      <td>NaN</td>\n",
       "      <td>NaN</td>\n",
       "      <td>4.701457</td>\n",
       "    </tr>\n",
       "    <tr>\n",
       "      <th>2019-01-07</th>\n",
       "      <td>22.430000</td>\n",
       "      <td>22.850000</td>\n",
       "      <td>22.260000</td>\n",
       "      <td>22.760000</td>\n",
       "      <td>22.760000</td>\n",
       "      <td>18889800</td>\n",
       "      <td>0.590000</td>\n",
       "      <td>2.592268</td>\n",
       "      <td>22.950001</td>\n",
       "      <td>22.040001</td>\n",
       "      <td>...</td>\n",
       "      <td>NaN</td>\n",
       "      <td>NaN</td>\n",
       "      <td>NaN</td>\n",
       "      <td>NaN</td>\n",
       "      <td>NaN</td>\n",
       "      <td>NaN</td>\n",
       "      <td>NaN</td>\n",
       "      <td>NaN</td>\n",
       "      <td>NaN</td>\n",
       "      <td>7.005170</td>\n",
       "    </tr>\n",
       "    <tr>\n",
       "      <th>2019-01-08</th>\n",
       "      <td>22.990000</td>\n",
       "      <td>23.180000</td>\n",
       "      <td>22.434999</td>\n",
       "      <td>22.950001</td>\n",
       "      <td>22.950001</td>\n",
       "      <td>15180400</td>\n",
       "      <td>0.745001</td>\n",
       "      <td>3.246191</td>\n",
       "      <td>23.690001</td>\n",
       "      <td>22.250000</td>\n",
       "      <td>...</td>\n",
       "      <td>NaN</td>\n",
       "      <td>NaN</td>\n",
       "      <td>NaN</td>\n",
       "      <td>NaN</td>\n",
       "      <td>NaN</td>\n",
       "      <td>NaN</td>\n",
       "      <td>NaN</td>\n",
       "      <td>NaN</td>\n",
       "      <td>NaN</td>\n",
       "      <td>7.898450</td>\n",
       "    </tr>\n",
       "  </tbody>\n",
       "</table>\n",
       "<p>5 rows × 27 columns</p>\n",
       "</div>"
      ],
      "text/plain": [
       "                 Open       High        Low      Close  Adj Close    Volume  \\\n",
       "Date                                                                          \n",
       "2019-01-02  20.309999  21.480000  20.180000  21.270000  21.270000  15840000   \n",
       "2019-01-03  20.889999  21.139999  20.250000  20.350000  20.350000  18608000   \n",
       "2019-01-04  20.980000  22.680000  20.750000  22.270000  22.270000  25156900   \n",
       "2019-01-07  22.430000  22.850000  22.260000  22.760000  22.760000  18889800   \n",
       "2019-01-08  22.990000  23.180000  22.434999  22.950001  22.950001  15180400   \n",
       "\n",
       "            high_minus_low  high_minus_low_pct_adjclose   lagged_1   lagged_5  \\\n",
       "Date                                                                            \n",
       "2019-01-02        1.299999                     6.111891  20.350000  23.690001   \n",
       "2019-01-03        0.889999                     4.373461  22.270000  23.400000   \n",
       "2019-01-04        1.930000                     8.666369  22.760000  22.879999   \n",
       "2019-01-07        0.590000                     2.592268  22.950001  22.040001   \n",
       "2019-01-08        0.745001                     3.246191  23.690001  22.250000   \n",
       "\n",
       "            ...  pct_change_5  pct_change_10  pct_change_20  50_ma  100_ma  \\\n",
       "Date        ...                                                              \n",
       "2019-01-02  ...           NaN            NaN            NaN    NaN     NaN   \n",
       "2019-01-03  ...           NaN            NaN            NaN    NaN     NaN   \n",
       "2019-01-04  ...           NaN            NaN            NaN    NaN     NaN   \n",
       "2019-01-07  ...           NaN            NaN            NaN    NaN     NaN   \n",
       "2019-01-08  ...           NaN            NaN            NaN    NaN     NaN   \n",
       "\n",
       "            200_ma  50_std  100_std  200_std  cumulative_return  \n",
       "Date                                                             \n",
       "2019-01-02     NaN     NaN      NaN      NaN                NaN  \n",
       "2019-01-03     NaN     NaN      NaN      NaN          -4.325341  \n",
       "2019-01-04     NaN     NaN      NaN      NaN           4.701457  \n",
       "2019-01-07     NaN     NaN      NaN      NaN           7.005170  \n",
       "2019-01-08     NaN     NaN      NaN      NaN           7.898450  \n",
       "\n",
       "[5 rows x 27 columns]"
      ]
     },
     "execution_count": 332,
     "metadata": {},
     "output_type": "execute_result"
    }
   ],
   "source": [
    "jd_price.head()"
   ]
  },
  {
   "cell_type": "code",
   "execution_count": 333,
   "metadata": {},
   "outputs": [],
   "source": [
    "# create function to flag up days and down days\n",
    "\n",
    "def up_down_days(x):\n",
    "    if x >= 0:\n",
    "        return 'UP'\n",
    "    else: \n",
    "        return 'DOWN'"
   ]
  },
  {
   "cell_type": "code",
   "execution_count": 334,
   "metadata": {},
   "outputs": [
    {
     "data": {
      "text/html": [
       "<div>\n",
       "<style scoped>\n",
       "    .dataframe tbody tr th:only-of-type {\n",
       "        vertical-align: middle;\n",
       "    }\n",
       "\n",
       "    .dataframe tbody tr th {\n",
       "        vertical-align: top;\n",
       "    }\n",
       "\n",
       "    .dataframe thead th {\n",
       "        text-align: right;\n",
       "    }\n",
       "</style>\n",
       "<table border=\"1\" class=\"dataframe\">\n",
       "  <thead>\n",
       "    <tr style=\"text-align: right;\">\n",
       "      <th></th>\n",
       "      <th>up_or_down</th>\n",
       "      <th>up_or_down</th>\n",
       "    </tr>\n",
       "  </thead>\n",
       "  <tbody>\n",
       "    <tr>\n",
       "      <th>UP</th>\n",
       "      <td>351</td>\n",
       "      <td>0.52782</td>\n",
       "    </tr>\n",
       "    <tr>\n",
       "      <th>DOWN</th>\n",
       "      <td>314</td>\n",
       "      <td>0.47218</td>\n",
       "    </tr>\n",
       "  </tbody>\n",
       "</table>\n",
       "</div>"
      ],
      "text/plain": [
       "      up_or_down  up_or_down\n",
       "UP           351     0.52782\n",
       "DOWN         314     0.47218"
      ]
     },
     "execution_count": 334,
     "metadata": {},
     "output_type": "execute_result"
    }
   ],
   "source": [
    "jd_price['up_or_down'] = jd_price['pct_change_1'].apply(lambda x: up_down_days(x))\n",
    "pd.concat([jd_price['up_or_down'].value_counts(), jd_price['up_or_down'].value_counts()/jd_price['up_or_down'].value_counts().sum()], axis=1) "
   ]
  },
  {
   "cell_type": "markdown",
   "metadata": {},
   "source": [
    "There have been more up days than down days but it's pretty close. What matters is the magnitude of the up and down days"
   ]
  },
  {
   "cell_type": "markdown",
   "metadata": {},
   "source": [
    "We would like to create a column that counts the consecutive up and down days. We can use this to get a distribution of the consecutive up days and down days for JD.com"
   ]
  },
  {
   "cell_type": "code",
   "execution_count": 354,
   "metadata": {},
   "outputs": [],
   "source": [
    "# create column with count of consecutive up and down days\n",
    "\n",
    "jd_price['consecutive_count'] = jd_price.groupby((jd_price['up_or_down'] != jd_price['up_or_down'].shift(1)).cumsum()).cumcount() + 1"
   ]
  },
  {
   "cell_type": "code",
   "execution_count": 356,
   "metadata": {
    "scrolled": true
   },
   "outputs": [
    {
     "data": {
      "text/plain": [
       "<AxesSubplot:>"
      ]
     },
     "execution_count": 356,
     "metadata": {},
     "output_type": "execute_result"
    },
    {
     "data": {
      "image/png": "[encoded data removed]",
      "text/plain": [
       "<Figure size 432x288 with 1 Axes>"
      ]
     },
     "metadata": {
      "needs_background": "light"
     },
     "output_type": "display_data"
    }
   ],
   "source": [
    "jd_price.loc[jd_price['up_or_down'] == 'UP', 'consecutive_count'].hist()"
   ]
  },
  {
   "cell_type": "markdown",
   "metadata": {},
   "source": [
    "We need to count the number of consecuribe days without double counting. For example a day consecutive gain, will have a day with 1 and 2 which means 1 is double counted. Need to find a way to remove this."
   ]
  },
  {
   "cell_type": "code",
   "execution_count": 335,
   "metadata": {
    "scrolled": false
   },
   "outputs": [
    {
     "data": {
      "text/plain": [
       "<matplotlib.legend.Legend at 0x7fba820a73d0>"
      ]
     },
     "execution_count": 335,
     "metadata": {},
     "output_type": "execute_result"
    },
    {
     "data": {
      "image/png": "[encoded data removed]",
      "text/plain": [
       "<Figure size 1440x720 with 1 Axes>"
      ]
     },
     "metadata": {
      "needs_background": "light"
     },
     "output_type": "display_data"
    }
   ],
   "source": [
    "# Plot price vs moving averages\n",
    "plt.figure(figsize=(20,10))\n",
    "\n",
    "plt.plot(jd_price[['Adj Close', '50_ma', '100_ma', '200_ma']])\n",
    "plt.title('JD Stock Price')\n",
    "plt.legend(['Adj Close', '50 MA', '100 MA', '200 MA'])"
   ]
  },
  {
   "cell_type": "markdown",
   "metadata": {},
   "source": [
    "Here we see that when the 50 day moving average crosses below the 100 day we can see a dip in price. In fact the 100 day moving average crossed below the 200 day moving average in June of 2021. This is known as the death cross and is thought to signal further down performance. WHen we look further down at the S&P we can see this isn't always the case as when the 100 day moving average crossed below the 200 day moving average, the recovery was already on it's way. So the speed of recovery will impact this signal. \n",
    "\n",
    "For JD it may appear that this is not on the way to recovery though."
   ]
  },
  {
   "cell_type": "code",
   "execution_count": 336,
   "metadata": {},
   "outputs": [
    {
     "data": {
      "text/plain": [
       "<matplotlib.legend.Legend at 0x7fbab28e9d90>"
      ]
     },
     "execution_count": 336,
     "metadata": {},
     "output_type": "execute_result"
    },
    {
     "data": {
      "image/png": "[encoded data removed]",
      "text/plain": [
       "<Figure size 1440x720 with 1 Axes>"
      ]
     },
     "metadata": {
      "needs_background": "light"
     },
     "output_type": "display_data"
    }
   ],
   "source": [
    "# Plot price vs moving averages\n",
    "plt.figure(figsize=(20,10))\n",
    "\n",
    "plt.plot(jd_price[['50_std', '100_std', '200_std']])\n",
    "plt.title('JD.com Stock Price volatility')\n",
    "plt.legend(['50 day std', '100 day std', '200 day std'])"
   ]
  },
  {
   "cell_type": "markdown",
   "metadata": {},
   "source": [
    "### 2.1.4 SP500 Stock Price data<a id='2.1.4_sp_price'></a>"
   ]
  },
  {
   "cell_type": "code",
   "execution_count": 337,
   "metadata": {
    "scrolled": true
   },
   "outputs": [
    {
     "data": {
      "text/html": [
       "<div>\n",
       "<style scoped>\n",
       "    .dataframe tbody tr th:only-of-type {\n",
       "        vertical-align: middle;\n",
       "    }\n",
       "\n",
       "    .dataframe tbody tr th {\n",
       "        vertical-align: top;\n",
       "    }\n",
       "\n",
       "    .dataframe thead th {\n",
       "        text-align: right;\n",
       "    }\n",
       "</style>\n",
       "<table border=\"1\" class=\"dataframe\">\n",
       "  <thead>\n",
       "    <tr style=\"text-align: right;\">\n",
       "      <th></th>\n",
       "      <th>Date</th>\n",
       "      <th>Open</th>\n",
       "      <th>High</th>\n",
       "      <th>Low</th>\n",
       "      <th>Close</th>\n",
       "      <th>Adj Close</th>\n",
       "      <th>Volume</th>\n",
       "    </tr>\n",
       "  </thead>\n",
       "  <tbody>\n",
       "    <tr>\n",
       "      <th>0</th>\n",
       "      <td>2019-01-02</td>\n",
       "      <td>245.979996</td>\n",
       "      <td>251.210007</td>\n",
       "      <td>245.949997</td>\n",
       "      <td>250.179993</td>\n",
       "      <td>239.459229</td>\n",
       "      <td>126925200</td>\n",
       "    </tr>\n",
       "    <tr>\n",
       "      <th>1</th>\n",
       "      <td>2019-01-03</td>\n",
       "      <td>248.229996</td>\n",
       "      <td>248.570007</td>\n",
       "      <td>243.669998</td>\n",
       "      <td>244.210007</td>\n",
       "      <td>233.745056</td>\n",
       "      <td>144140700</td>\n",
       "    </tr>\n",
       "    <tr>\n",
       "      <th>2</th>\n",
       "      <td>2019-01-04</td>\n",
       "      <td>247.589996</td>\n",
       "      <td>253.110001</td>\n",
       "      <td>247.169998</td>\n",
       "      <td>252.389999</td>\n",
       "      <td>241.574493</td>\n",
       "      <td>142628800</td>\n",
       "    </tr>\n",
       "    <tr>\n",
       "      <th>3</th>\n",
       "      <td>2019-01-07</td>\n",
       "      <td>252.690002</td>\n",
       "      <td>255.949997</td>\n",
       "      <td>251.690002</td>\n",
       "      <td>254.380005</td>\n",
       "      <td>243.479263</td>\n",
       "      <td>103139100</td>\n",
       "    </tr>\n",
       "    <tr>\n",
       "      <th>4</th>\n",
       "      <td>2019-01-08</td>\n",
       "      <td>256.820007</td>\n",
       "      <td>257.309998</td>\n",
       "      <td>254.000000</td>\n",
       "      <td>256.769989</td>\n",
       "      <td>245.766846</td>\n",
       "      <td>102512600</td>\n",
       "    </tr>\n",
       "  </tbody>\n",
       "</table>\n",
       "</div>"
      ],
      "text/plain": [
       "        Date        Open        High         Low       Close   Adj Close  \\\n",
       "0 2019-01-02  245.979996  251.210007  245.949997  250.179993  239.459229   \n",
       "1 2019-01-03  248.229996  248.570007  243.669998  244.210007  233.745056   \n",
       "2 2019-01-04  247.589996  253.110001  247.169998  252.389999  241.574493   \n",
       "3 2019-01-07  252.690002  255.949997  251.690002  254.380005  243.479263   \n",
       "4 2019-01-08  256.820007  257.309998  254.000000  256.769989  245.766846   \n",
       "\n",
       "      Volume  \n",
       "0  126925200  \n",
       "1  144140700  \n",
       "2  142628800  \n",
       "3  103139100  \n",
       "4  102512600  "
      ]
     },
     "execution_count": 337,
     "metadata": {},
     "output_type": "execute_result"
    }
   ],
   "source": [
    "xl = pd.ExcelFile('SPY.xlsx')\n",
    "sp_price = xl.parse('Sheet1')\n",
    "sp_price.head()"
   ]
  },
  {
   "cell_type": "code",
   "execution_count": 338,
   "metadata": {
    "scrolled": true
   },
   "outputs": [],
   "source": [
    "sp_price = sp_price.set_index('Date')"
   ]
  },
  {
   "cell_type": "code",
   "execution_count": 339,
   "metadata": {
    "scrolled": true
   },
   "outputs": [
    {
     "data": {
      "text/plain": [
       "<AxesSubplot:xlabel='Date'>"
      ]
     },
     "execution_count": 339,
     "metadata": {},
     "output_type": "execute_result"
    },
    {
     "data": {
      "image/png": "[encoded data removed]",
      "text/plain": [
       "<Figure size 432x288 with 1 Axes>"
      ]
     },
     "metadata": {
      "needs_background": "light"
     },
     "output_type": "display_data"
    }
   ],
   "source": [
    "sp_price['Adj Close'].plot()"
   ]
  },
  {
   "cell_type": "code",
   "execution_count": 340,
   "metadata": {
    "scrolled": true
   },
   "outputs": [
    {
     "data": {
      "text/plain": [
       "<AxesSubplot:xlabel='Date'>"
      ]
     },
     "execution_count": 340,
     "metadata": {},
     "output_type": "execute_result"
    },
    {
     "data": {
      "image/png": "[encoded data removed]",
      "text/plain": [
       "<Figure size 432x288 with 1 Axes>"
      ]
     },
     "metadata": {
      "needs_background": "light"
     },
     "output_type": "display_data"
    }
   ],
   "source": [
    "sp_price['Volume'].plot()"
   ]
  },
  {
   "cell_type": "code",
   "execution_count": 341,
   "metadata": {
    "scrolled": true
   },
   "outputs": [
    {
     "data": {
      "text/html": [
       "<div>\n",
       "<style scoped>\n",
       "    .dataframe tbody tr th:only-of-type {\n",
       "        vertical-align: middle;\n",
       "    }\n",
       "\n",
       "    .dataframe tbody tr th {\n",
       "        vertical-align: top;\n",
       "    }\n",
       "\n",
       "    .dataframe thead th {\n",
       "        text-align: right;\n",
       "    }\n",
       "</style>\n",
       "<table border=\"1\" class=\"dataframe\">\n",
       "  <thead>\n",
       "    <tr style=\"text-align: right;\">\n",
       "      <th></th>\n",
       "      <th>Open</th>\n",
       "      <th>High</th>\n",
       "      <th>Low</th>\n",
       "      <th>Close</th>\n",
       "      <th>Adj Close</th>\n",
       "      <th>Volume</th>\n",
       "      <th>high_minus_low</th>\n",
       "      <th>high_minus_low_pct_adjclose</th>\n",
       "    </tr>\n",
       "    <tr>\n",
       "      <th>Date</th>\n",
       "      <th></th>\n",
       "      <th></th>\n",
       "      <th></th>\n",
       "      <th></th>\n",
       "      <th></th>\n",
       "      <th></th>\n",
       "      <th></th>\n",
       "      <th></th>\n",
       "    </tr>\n",
       "  </thead>\n",
       "  <tbody>\n",
       "    <tr>\n",
       "      <th>2019-01-02</th>\n",
       "      <td>245.979996</td>\n",
       "      <td>251.210007</td>\n",
       "      <td>245.949997</td>\n",
       "      <td>250.179993</td>\n",
       "      <td>239.459229</td>\n",
       "      <td>126925200</td>\n",
       "      <td>5.260010</td>\n",
       "      <td>2.196620</td>\n",
       "    </tr>\n",
       "    <tr>\n",
       "      <th>2019-01-03</th>\n",
       "      <td>248.229996</td>\n",
       "      <td>248.570007</td>\n",
       "      <td>243.669998</td>\n",
       "      <td>244.210007</td>\n",
       "      <td>233.745056</td>\n",
       "      <td>144140700</td>\n",
       "      <td>4.900009</td>\n",
       "      <td>2.096305</td>\n",
       "    </tr>\n",
       "    <tr>\n",
       "      <th>2019-01-04</th>\n",
       "      <td>247.589996</td>\n",
       "      <td>253.110001</td>\n",
       "      <td>247.169998</td>\n",
       "      <td>252.389999</td>\n",
       "      <td>241.574493</td>\n",
       "      <td>142628800</td>\n",
       "      <td>5.940002</td>\n",
       "      <td>2.458870</td>\n",
       "    </tr>\n",
       "    <tr>\n",
       "      <th>2019-01-07</th>\n",
       "      <td>252.690002</td>\n",
       "      <td>255.949997</td>\n",
       "      <td>251.690002</td>\n",
       "      <td>254.380005</td>\n",
       "      <td>243.479263</td>\n",
       "      <td>103139100</td>\n",
       "      <td>4.259995</td>\n",
       "      <td>1.749633</td>\n",
       "    </tr>\n",
       "    <tr>\n",
       "      <th>2019-01-08</th>\n",
       "      <td>256.820007</td>\n",
       "      <td>257.309998</td>\n",
       "      <td>254.000000</td>\n",
       "      <td>256.769989</td>\n",
       "      <td>245.766846</td>\n",
       "      <td>102512600</td>\n",
       "      <td>3.309998</td>\n",
       "      <td>1.346804</td>\n",
       "    </tr>\n",
       "  </tbody>\n",
       "</table>\n",
       "</div>"
      ],
      "text/plain": [
       "                  Open        High         Low       Close   Adj Close  \\\n",
       "Date                                                                     \n",
       "2019-01-02  245.979996  251.210007  245.949997  250.179993  239.459229   \n",
       "2019-01-03  248.229996  248.570007  243.669998  244.210007  233.745056   \n",
       "2019-01-04  247.589996  253.110001  247.169998  252.389999  241.574493   \n",
       "2019-01-07  252.690002  255.949997  251.690002  254.380005  243.479263   \n",
       "2019-01-08  256.820007  257.309998  254.000000  256.769989  245.766846   \n",
       "\n",
       "               Volume  high_minus_low  high_minus_low_pct_adjclose  \n",
       "Date                                                                \n",
       "2019-01-02  126925200        5.260010                     2.196620  \n",
       "2019-01-03  144140700        4.900009                     2.096305  \n",
       "2019-01-04  142628800        5.940002                     2.458870  \n",
       "2019-01-07  103139100        4.259995                     1.749633  \n",
       "2019-01-08  102512600        3.309998                     1.346804  "
      ]
     },
     "execution_count": 341,
     "metadata": {},
     "output_type": "execute_result"
    }
   ],
   "source": [
    "# Lets look at the difference between the daily high and daily low\n",
    "\n",
    "sp_price['high_minus_low'] = sp_price['High'] - sp_price['Low']\n",
    "sp_price['high_minus_low_pct_adjclose'] = (sp_price['High'] - sp_price['Low'])/sp_price['Adj Close'] * 100\n",
    "\n",
    "sp_price.head()"
   ]
  },
  {
   "cell_type": "code",
   "execution_count": 342,
   "metadata": {
    "scrolled": true
   },
   "outputs": [
    {
     "data": {
      "text/plain": [
       "(array([300., 220.,  69.,  34.,  16.,  12.,   5.,   3.,   5.,   1.]),\n",
       " array([ 0.58999634,  2.82699738,  5.06399841,  7.30099945,  9.53800049,\n",
       "        11.77500153, 14.01200256, 16.2490036 , 18.48600464, 20.72300568,\n",
       "        22.96000671]),\n",
       " [<matplotlib.patches.Polygon at 0x7fba50794710>])"
      ]
     },
     "execution_count": 342,
     "metadata": {},
     "output_type": "execute_result"
    },
    {
     "data": {
      "image/png": "[encoded data removed]",
      "text/plain": [
       "<Figure size 432x288 with 1 Axes>"
      ]
     },
     "metadata": {
      "needs_background": "light"
     },
     "output_type": "display_data"
    }
   ],
   "source": [
    "# Plot distribution of high_minus_low_pct\n",
    "\n",
    "plt.hist(sp_price['high_minus_low'], histtype='step')"
   ]
  },
  {
   "cell_type": "code",
   "execution_count": 343,
   "metadata": {
    "scrolled": true
   },
   "outputs": [
    {
     "data": {
      "text/plain": [
       "(array([373., 190.,  47.,  23.,  15.,   4.,   4.,   2.,   4.,   3.]),\n",
       " array([0.18833059, 1.04363052, 1.89893045, 2.75423038, 3.60953031,\n",
       "        4.46483023, 5.32013016, 6.17543009, 7.03073002, 7.88602995,\n",
       "        8.74132988]),\n",
       " [<matplotlib.patches.Polygon at 0x7fba795f95d0>])"
      ]
     },
     "execution_count": 343,
     "metadata": {},
     "output_type": "execute_result"
    },
    {
     "data": {
      "image/png": "[encoded data removed]",
      "text/plain": [
       "<Figure size 432x288 with 1 Axes>"
      ]
     },
     "metadata": {
      "needs_background": "light"
     },
     "output_type": "display_data"
    }
   ],
   "source": [
    "# Plot distribution of high_minus_low_pct\n",
    "\n",
    "plt.hist(sp_price['high_minus_low_pct_adjclose'], histtype='step')"
   ]
  },
  {
   "cell_type": "code",
   "execution_count": 344,
   "metadata": {
    "scrolled": true
   },
   "outputs": [
    {
     "data": {
      "text/plain": [
       "<AxesSubplot:xlabel='Date'>"
      ]
     },
     "execution_count": 344,
     "metadata": {},
     "output_type": "execute_result"
    },
    {
     "data": {
      "image/png": "[encoded data removed]",
      "text/plain": [
       "<Figure size 432x288 with 1 Axes>"
      ]
     },
     "metadata": {
      "needs_background": "light"
     },
     "output_type": "display_data"
    }
   ],
   "source": [
    "# Plot time series of high_minus_low_pct\n",
    "\n",
    "sp_price['high_minus_low_pct_adjclose'].plot()"
   ]
  },
  {
   "cell_type": "markdown",
   "metadata": {},
   "source": [
    "#### 2.1.4.1 SP500 Time Series Feature Engineering<a id='2.1.4.1_sp_ts_feature_eng'></a>"
   ]
  },
  {
   "cell_type": "code",
   "execution_count": 345,
   "metadata": {
    "scrolled": true
   },
   "outputs": [],
   "source": [
    "sp_price['lagged_1'] = sp_price['Adj Close'].shift(-1)     # create 1 day lag variable\n",
    "sp_price['lagged_5'] = sp_price['Adj Close'].shift(-5)     # create 5 day lag variable\n",
    "sp_price['lagged_10'] = sp_price['Adj Close'].shift(-10)   # create 10 day lag variable\n",
    "sp_price['lagged_20'] = sp_price['Adj Close'].shift(-20)   # create 20 day lag variable\n",
    "\n",
    "# Create shifted variables\n",
    "\n",
    "sp_price['shifted_1'] = sp_price['Adj Close'].shift(1)     # create 1 day shifted variable\n",
    "sp_price['shifted_5'] = sp_price['Adj Close'].shift(5)     # create 5 day shifted variable\n",
    "sp_price['shifted_10'] = sp_price['Adj Close'].shift(10)   # create 10 day shifted variable\n",
    "sp_price['shifted_20'] = sp_price['Adj Close'].shift(20)   # create 20 day shifted variable\n",
    "\n",
    "# Calculate returns\n",
    "\n",
    "sp_price['pct_change_1'] = sp_price['Adj Close'].pct_change(1).mul(100)     \n",
    "sp_price['pct_change_5'] = sp_price['Adj Close'].pct_change(5).mul(100)     \n",
    "sp_price['pct_change_10'] = sp_price['Adj Close'].pct_change(10).mul(100)   \n",
    "sp_price['pct_change_20'] = sp_price['Adj Close'].pct_change(20).mul(100)\n",
    "\n",
    "\n",
    "# Calculate returns using div.sub.mul method\n",
    "# this line was to test another method of calculating\n",
    "#sp_price['div_sub_20'] = sp_price['Adj Close'].div(sp_price['shifted_20']).sub(1).mul(100)\n",
    "\n",
    "# Rolling window metrics, these moving averages are typically important to technical traders\n",
    "\n",
    "sp_price['50_ma'] = sp_price['Adj Close'].rolling(window=50).mean()\n",
    "sp_price['100_ma'] = sp_price['Adj Close'].rolling(window=100).mean()\n",
    "sp_price['200_ma'] = sp_price['Adj Close'].rolling(window=200).mean()\n",
    "\n",
    "# Rolling window metrics, moving standard deviation \n",
    "\n",
    "sp_price['50_std'] = sp_price['Adj Close'].rolling(window=50).std()\n",
    "sp_price['100_std'] = sp_price['Adj Close'].rolling(window=100).std()\n",
    "sp_price['200_std'] = sp_price['Adj Close'].rolling(window=200).std()\n",
    "\n",
    "# Cumulative return\n",
    "\n",
    "sp_price['cumulative_return'] = sp_price['Adj Close'].pct_change(1).add(1).cumprod().sub(1).mul(100)"
   ]
  },
  {
   "cell_type": "code",
   "execution_count": 346,
   "metadata": {
    "scrolled": false
   },
   "outputs": [
    {
     "data": {
      "text/html": [
       "<div>\n",
       "<style scoped>\n",
       "    .dataframe tbody tr th:only-of-type {\n",
       "        vertical-align: middle;\n",
       "    }\n",
       "\n",
       "    .dataframe tbody tr th {\n",
       "        vertical-align: top;\n",
       "    }\n",
       "\n",
       "    .dataframe thead th {\n",
       "        text-align: right;\n",
       "    }\n",
       "</style>\n",
       "<table border=\"1\" class=\"dataframe\">\n",
       "  <thead>\n",
       "    <tr style=\"text-align: right;\">\n",
       "      <th></th>\n",
       "      <th>Open</th>\n",
       "      <th>High</th>\n",
       "      <th>Low</th>\n",
       "      <th>Close</th>\n",
       "      <th>Adj Close</th>\n",
       "      <th>Volume</th>\n",
       "      <th>high_minus_low</th>\n",
       "      <th>high_minus_low_pct_adjclose</th>\n",
       "      <th>lagged_1</th>\n",
       "      <th>lagged_5</th>\n",
       "      <th>...</th>\n",
       "      <th>pct_change_5</th>\n",
       "      <th>pct_change_10</th>\n",
       "      <th>pct_change_20</th>\n",
       "      <th>50_ma</th>\n",
       "      <th>100_ma</th>\n",
       "      <th>200_ma</th>\n",
       "      <th>50_std</th>\n",
       "      <th>100_std</th>\n",
       "      <th>200_std</th>\n",
       "      <th>cumulative_return</th>\n",
       "    </tr>\n",
       "    <tr>\n",
       "      <th>Date</th>\n",
       "      <th></th>\n",
       "      <th></th>\n",
       "      <th></th>\n",
       "      <th></th>\n",
       "      <th></th>\n",
       "      <th></th>\n",
       "      <th></th>\n",
       "      <th></th>\n",
       "      <th></th>\n",
       "      <th></th>\n",
       "      <th></th>\n",
       "      <th></th>\n",
       "      <th></th>\n",
       "      <th></th>\n",
       "      <th></th>\n",
       "      <th></th>\n",
       "      <th></th>\n",
       "      <th></th>\n",
       "      <th></th>\n",
       "      <th></th>\n",
       "      <th></th>\n",
       "    </tr>\n",
       "  </thead>\n",
       "  <tbody>\n",
       "    <tr>\n",
       "      <th>2021-08-16</th>\n",
       "      <td>444.529999</td>\n",
       "      <td>447.109985</td>\n",
       "      <td>442.869995</td>\n",
       "      <td>446.970001</td>\n",
       "      <td>446.970001</td>\n",
       "      <td>73740000</td>\n",
       "      <td>4.239990</td>\n",
       "      <td>0.948607</td>\n",
       "      <td>444.040009</td>\n",
       "      <td>NaN</td>\n",
       "      <td>...</td>\n",
       "      <td>1.094700</td>\n",
       "      <td>2.143560</td>\n",
       "      <td>5.176836</td>\n",
       "      <td>432.348256</td>\n",
       "      <td>421.946328</td>\n",
       "      <td>396.575878</td>\n",
       "      <td>8.457815</td>\n",
       "      <td>13.198385</td>\n",
       "      <td>29.304459</td>\n",
       "      <td>86.658081</td>\n",
       "    </tr>\n",
       "    <tr>\n",
       "      <th>2021-08-17</th>\n",
       "      <td>444.239990</td>\n",
       "      <td>444.959991</td>\n",
       "      <td>440.850006</td>\n",
       "      <td>444.040009</td>\n",
       "      <td>444.040009</td>\n",
       "      <td>92673900</td>\n",
       "      <td>4.109985</td>\n",
       "      <td>0.925589</td>\n",
       "      <td>439.179993</td>\n",
       "      <td>NaN</td>\n",
       "      <td>...</td>\n",
       "      <td>0.307223</td>\n",
       "      <td>0.655109</td>\n",
       "      <td>3.011184</td>\n",
       "      <td>432.812791</td>\n",
       "      <td>422.502435</td>\n",
       "      <td>397.163884</td>\n",
       "      <td>8.449187</td>\n",
       "      <td>12.940949</td>\n",
       "      <td>29.068969</td>\n",
       "      <td>85.434494</td>\n",
       "    </tr>\n",
       "    <tr>\n",
       "      <th>2021-08-18</th>\n",
       "      <td>442.959991</td>\n",
       "      <td>444.630005</td>\n",
       "      <td>438.920013</td>\n",
       "      <td>439.179993</td>\n",
       "      <td>439.179993</td>\n",
       "      <td>89351900</td>\n",
       "      <td>5.709991</td>\n",
       "      <td>1.300148</td>\n",
       "      <td>439.859985</td>\n",
       "      <td>NaN</td>\n",
       "      <td>...</td>\n",
       "      <td>-1.036551</td>\n",
       "      <td>0.045556</td>\n",
       "      <td>1.065471</td>\n",
       "      <td>433.178331</td>\n",
       "      <td>422.947348</td>\n",
       "      <td>397.744605</td>\n",
       "      <td>8.317753</td>\n",
       "      <td>12.738272</td>\n",
       "      <td>28.738896</td>\n",
       "      <td>83.404914</td>\n",
       "    </tr>\n",
       "    <tr>\n",
       "      <th>2021-08-19</th>\n",
       "      <td>436.269989</td>\n",
       "      <td>441.140015</td>\n",
       "      <td>436.119995</td>\n",
       "      <td>439.859985</td>\n",
       "      <td>439.859985</td>\n",
       "      <td>92812200</td>\n",
       "      <td>5.020020</td>\n",
       "      <td>1.141277</td>\n",
       "      <td>443.359985</td>\n",
       "      <td>NaN</td>\n",
       "      <td>...</td>\n",
       "      <td>-1.179484</td>\n",
       "      <td>-0.430103</td>\n",
       "      <td>1.010424</td>\n",
       "      <td>433.570030</td>\n",
       "      <td>423.401053</td>\n",
       "      <td>398.310623</td>\n",
       "      <td>8.157310</td>\n",
       "      <td>12.520566</td>\n",
       "      <td>28.445045</td>\n",
       "      <td>83.688884</td>\n",
       "    </tr>\n",
       "    <tr>\n",
       "      <th>2021-08-20</th>\n",
       "      <td>440.230011</td>\n",
       "      <td>443.709991</td>\n",
       "      <td>439.709991</td>\n",
       "      <td>443.359985</td>\n",
       "      <td>443.359985</td>\n",
       "      <td>71975900</td>\n",
       "      <td>4.000000</td>\n",
       "      <td>0.902201</td>\n",
       "      <td>NaN</td>\n",
       "      <td>NaN</td>\n",
       "      <td>...</td>\n",
       "      <td>-0.574100</td>\n",
       "      <td>0.196614</td>\n",
       "      <td>0.777375</td>\n",
       "      <td>433.992657</td>\n",
       "      <td>423.900225</td>\n",
       "      <td>398.865304</td>\n",
       "      <td>8.104961</td>\n",
       "      <td>12.307360</td>\n",
       "      <td>28.234645</td>\n",
       "      <td>85.150511</td>\n",
       "    </tr>\n",
       "  </tbody>\n",
       "</table>\n",
       "<p>5 rows × 27 columns</p>\n",
       "</div>"
      ],
      "text/plain": [
       "                  Open        High         Low       Close   Adj Close  \\\n",
       "Date                                                                     \n",
       "2021-08-16  444.529999  447.109985  442.869995  446.970001  446.970001   \n",
       "2021-08-17  444.239990  444.959991  440.850006  444.040009  444.040009   \n",
       "2021-08-18  442.959991  444.630005  438.920013  439.179993  439.179993   \n",
       "2021-08-19  436.269989  441.140015  436.119995  439.859985  439.859985   \n",
       "2021-08-20  440.230011  443.709991  439.709991  443.359985  443.359985   \n",
       "\n",
       "              Volume  high_minus_low  high_minus_low_pct_adjclose    lagged_1  \\\n",
       "Date                                                                            \n",
       "2021-08-16  73740000        4.239990                     0.948607  444.040009   \n",
       "2021-08-17  92673900        4.109985                     0.925589  439.179993   \n",
       "2021-08-18  89351900        5.709991                     1.300148  439.859985   \n",
       "2021-08-19  92812200        5.020020                     1.141277  443.359985   \n",
       "2021-08-20  71975900        4.000000                     0.902201         NaN   \n",
       "\n",
       "            lagged_5  ...  pct_change_5  pct_change_10  pct_change_20  \\\n",
       "Date                  ...                                               \n",
       "2021-08-16       NaN  ...      1.094700       2.143560       5.176836   \n",
       "2021-08-17       NaN  ...      0.307223       0.655109       3.011184   \n",
       "2021-08-18       NaN  ...     -1.036551       0.045556       1.065471   \n",
       "2021-08-19       NaN  ...     -1.179484      -0.430103       1.010424   \n",
       "2021-08-20       NaN  ...     -0.574100       0.196614       0.777375   \n",
       "\n",
       "                 50_ma      100_ma      200_ma    50_std    100_std  \\\n",
       "Date                                                                  \n",
       "2021-08-16  432.348256  421.946328  396.575878  8.457815  13.198385   \n",
       "2021-08-17  432.812791  422.502435  397.163884  8.449187  12.940949   \n",
       "2021-08-18  433.178331  422.947348  397.744605  8.317753  12.738272   \n",
       "2021-08-19  433.570030  423.401053  398.310623  8.157310  12.520566   \n",
       "2021-08-20  433.992657  423.900225  398.865304  8.104961  12.307360   \n",
       "\n",
       "              200_std  cumulative_return  \n",
       "Date                                      \n",
       "2021-08-16  29.304459          86.658081  \n",
       "2021-08-17  29.068969          85.434494  \n",
       "2021-08-18  28.738896          83.404914  \n",
       "2021-08-19  28.445045          83.688884  \n",
       "2021-08-20  28.234645          85.150511  \n",
       "\n",
       "[5 rows x 27 columns]"
      ]
     },
     "execution_count": 346,
     "metadata": {},
     "output_type": "execute_result"
    }
   ],
   "source": [
    "sp_price.tail()"
   ]
  },
  {
   "cell_type": "code",
   "execution_count": 347,
   "metadata": {
    "scrolled": true
   },
   "outputs": [
    {
     "data": {
      "text/html": [
       "<div>\n",
       "<style scoped>\n",
       "    .dataframe tbody tr th:only-of-type {\n",
       "        vertical-align: middle;\n",
       "    }\n",
       "\n",
       "    .dataframe tbody tr th {\n",
       "        vertical-align: top;\n",
       "    }\n",
       "\n",
       "    .dataframe thead th {\n",
       "        text-align: right;\n",
       "    }\n",
       "</style>\n",
       "<table border=\"1\" class=\"dataframe\">\n",
       "  <thead>\n",
       "    <tr style=\"text-align: right;\">\n",
       "      <th></th>\n",
       "      <th>up_or_down</th>\n",
       "      <th>up_or_down</th>\n",
       "    </tr>\n",
       "  </thead>\n",
       "  <tbody>\n",
       "    <tr>\n",
       "      <th>UP</th>\n",
       "      <td>388</td>\n",
       "      <td>0.583459</td>\n",
       "    </tr>\n",
       "    <tr>\n",
       "      <th>DOWN</th>\n",
       "      <td>277</td>\n",
       "      <td>0.416541</td>\n",
       "    </tr>\n",
       "  </tbody>\n",
       "</table>\n",
       "</div>"
      ],
      "text/plain": [
       "      up_or_down  up_or_down\n",
       "UP           388    0.583459\n",
       "DOWN         277    0.416541"
      ]
     },
     "execution_count": 347,
     "metadata": {},
     "output_type": "execute_result"
    }
   ],
   "source": [
    "sp_price['up_or_down'] = sp_price['pct_change_1'].apply(lambda x: up_down_days(x))\n",
    "pd.concat([sp_price['up_or_down'].value_counts(), sp_price['up_or_down'].value_counts()/sp_price['up_or_down'].value_counts().sum()], axis=1) "
   ]
  },
  {
   "cell_type": "markdown",
   "metadata": {},
   "source": [
    "There are more up days than down days"
   ]
  },
  {
   "cell_type": "markdown",
   "metadata": {},
   "source": [
    "We would like to create a column that counts the consecutive up and down days. We can use this to get a distribution of the consecutive up days and down days for the S&P 500"
   ]
  },
  {
   "cell_type": "code",
   "execution_count": 348,
   "metadata": {},
   "outputs": [],
   "source": [
    "# create column with count of consecutive up and down days\n",
    "\n",
    "sp_price['consecutive_count'] = sp_price.groupby((sp_price['up_or_down'] != sp_price['up_or_down'].shift(1)).cumsum()).cumcount() + 1"
   ]
  },
  {
   "cell_type": "code",
   "execution_count": 357,
   "metadata": {},
   "outputs": [
    {
     "data": {
      "text/plain": [
       "<AxesSubplot:>"
      ]
     },
     "execution_count": 357,
     "metadata": {},
     "output_type": "execute_result"
    },
    {
     "data": {
      "image/png": "[encoded data removed]",
      "text/plain": [
       "<Figure size 432x288 with 1 Axes>"
      ]
     },
     "metadata": {
      "needs_background": "light"
     },
     "output_type": "display_data"
    }
   ],
   "source": [
    "sp_price.loc[sp_price['up_or_down'] == 'UP', 'consecutive_count'].hist()"
   ]
  },
  {
   "cell_type": "markdown",
   "metadata": {},
   "source": [
    "Next we need to identify the number of single day gains and consecurive day gains without double counting."
   ]
  },
  {
   "cell_type": "code",
   "execution_count": 350,
   "metadata": {
    "scrolled": false
   },
   "outputs": [
    {
     "data": {
      "text/plain": [
       "<matplotlib.legend.Legend at 0x7fba79584510>"
      ]
     },
     "execution_count": 350,
     "metadata": {},
     "output_type": "execute_result"
    },
    {
     "data": {
      "image/png": "[encoded data removed]",
      "text/plain": [
       "<Figure size 1440x720 with 1 Axes>"
      ]
     },
     "metadata": {
      "needs_background": "light"
     },
     "output_type": "display_data"
    }
   ],
   "source": [
    "# Plot price vs moving averages\n",
    "plt.figure(figsize=(20,10))\n",
    "\n",
    "plt.plot(sp_price[['Adj Close', '50_ma', '100_ma', '200_ma']])\n",
    "plt.title('SP500 Stock Price')\n",
    "plt.legend(['Adj Close', '50 MA', '100 MA', '200 MA'])"
   ]
  },
  {
   "cell_type": "markdown",
   "metadata": {},
   "source": [
    "Here we see a lot of resistance at the 50 day moving average level and we can see that when the 50 day moving average crossed below the 100 day moving average, the market moved lower by a large margin. By the time the 100 day moving average crossed below the 200 day moving average, we can see that the recovery had already taken place."
   ]
  },
  {
   "cell_type": "code",
   "execution_count": 351,
   "metadata": {},
   "outputs": [
    {
     "data": {
      "text/plain": [
       "<matplotlib.legend.Legend at 0x7fba507b2bd0>"
      ]
     },
     "execution_count": 351,
     "metadata": {},
     "output_type": "execute_result"
    },
    {
     "data": {
      "image/png": "[encoded data removed]",
      "text/plain": [
       "<Figure size 1440x720 with 1 Axes>"
      ]
     },
     "metadata": {
      "needs_background": "light"
     },
     "output_type": "display_data"
    }
   ],
   "source": [
    "# Plot price vs moving averages\n",
    "plt.figure(figsize=(20,10))\n",
    "\n",
    "plt.plot(sp_price[['50_std', '100_std', '200_std']])\n",
    "plt.title('SP500 Stock Price volatility')\n",
    "plt.legend(['50 day std', '100 day std', '200 day std'])"
   ]
  },
  {
   "cell_type": "code",
   "execution_count": null,
   "metadata": {},
   "outputs": [],
   "source": []
  },
  {
   "cell_type": "markdown",
   "metadata": {},
   "source": [
    "## 3.1 Resources to Review for future analysis<a id='3.1_resources'></a>"
   ]
  },
  {
   "cell_type": "markdown",
   "metadata": {},
   "source": [
    "Datacamp Courses to look at:\n",
    "\n",
    "For time series:\n",
    "   \n",
    "   * Manpulating Time Series Data in Python (**Completed first 3 chapters**)\n",
    "   * Time Series Analysis in Python\n",
    "   * ARIMA Models in Python\n",
    "   * GARCH Models in Python\n",
    "   * Machine Learning for Time Series Data in Python\n",
    "   \n",
    "For Twitter Sentiment Analysis\n",
    "\n",
    "   * Analyzing Social Media Data in Python (**Completed first 2 chapters**)\n",
    "   * Sentiment Analysis in Python"
   ]
  },
  {
   "cell_type": "markdown",
   "metadata": {},
   "source": [
    "## Analysis to-do list\n",
    "\n",
    "For Twitter Sentiment Analysis\n",
    "\n",
    "   * Do a word count of SP500, JD and buy, sell etc...\n",
    "   * Do sentiment analysis with polarity scores (**complete**)"
   ]
  },
  {
   "cell_type": "code",
   "execution_count": null,
   "metadata": {
    "scrolled": true
   },
   "outputs": [],
   "source": []
  }
 ],
 "metadata": {
  "kernelspec": {
   "display_name": "Python 3",
   "language": "python",
   "name": "python3"
  },
  "language_info": {
   "codemirror_mode": {
    "name": "ipython",
    "version": 3
   },
   "file_extension": ".py",
   "mimetype": "text/x-python",
   "name": "python",
   "nbconvert_exporter": "python",
   "pygments_lexer": "ipython3",
   "version": "3.7.6"
  }
 },
 "nbformat": 4,
 "nbformat_minor": 4
}
